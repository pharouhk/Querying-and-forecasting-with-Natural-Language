{
 "cells": [
  {
   "cell_type": "markdown",
   "metadata": {},
   "source": [
    "# Data Exploration, Visualization and Processing. Model Development and Deployment\n",
    "\n",
    "This notebook is a one-stop-shop for replicating the project results. It will serve as the project development environment. Please refer to the `README` to get a background on the project, to understand its objectives. \n",
    "\n",
    "The image below gives a high level architecture of the various steps involved in this notebook:\n",
    "\n",
    "### High level Process Flow\n",
    "<img src=Project_Workflow.png width=90% />\n",
    "\n",
    "To run this notebook, follow these instructions:\n",
    "- git clone the repository at https://github.com/pharouhk/Querying-and-forecasting-with-Natural-Language.git to quickly pull all the project dependencies\n",
    "- make sure that your Python environment has both TensorFlow and PyTorch installed\n",
    "- It is important to also note this notebook was developed using AWS Sagemaker, so an AWS profile and access to compute instances is required"
   ]
  },
  {
   "cell_type": "code",
   "execution_count": null,
   "metadata": {},
   "outputs": [],
   "source": []
  }
 ],
 "metadata": {
  "kernelspec": {
   "display_name": "Python 3",
   "language": "python",
   "name": "python3"
  },
  "language_info": {
   "codemirror_mode": {
    "name": "ipython",
    "version": 3
   },
   "file_extension": ".py",
   "mimetype": "text/x-python",
   "name": "python",
   "nbconvert_exporter": "python",
   "pygments_lexer": "ipython3",
   "version": "3.7.6"
  }
 },
 "nbformat": 4,
 "nbformat_minor": 4
}
