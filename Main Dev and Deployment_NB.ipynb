{
 "cells": [
  {
   "cell_type": "markdown",
   "metadata": {},
   "source": [
    "# Data Exploration, Visualization and Processing. Model Development and Deployment\n",
    "\n",
    "This notebook is a one-stop-shop for replicating the project results. It will serve as the project development environment. Please refer to the `README` to get a background on the project and to understand its objectives. \n",
    "\n",
    "The image below gives a high level architecture of the various steps involved in this notebook:\n",
    "\n",
    "### High level Process Flow\n",
    "<img src=Project_Workflow.png width=90% />\n",
    "\n",
    "To run this notebook, follow these instructions:\n",
    "- git clone the repository at https://github.com/pharouhk/Querying-and-forecasting-with-Natural-Language.git to quickly pull all the project dependencies\n",
    "- make sure that your Python environment has both TensorFlow and PyTorch installed\n",
    "- It is important to also note this notebook was developed using AWS Sagemaker, so an AWS profile and access to compute instances is required"
   ]
  },
  {
   "cell_type": "markdown",
   "metadata": {},
   "source": [
    "### Initialization "
   ]
  },
  {
   "cell_type": "code",
   "execution_count": null,
   "metadata": {
    "scrolled": true
   },
   "outputs": [
    {
     "name": "stdout",
     "output_type": "stream",
     "text": [
      "Collecting transformers\n",
      "  Downloading transformers-4.12.0-py3-none-any.whl (3.1 MB)\n",
      "\u001b[K     |████████████████████████████████| 3.1 MB 29.8 MB/s eta 0:00:01\n",
      "\u001b[?25hCollecting sacremoses\n",
      "  Downloading sacremoses-0.0.46-py3-none-any.whl (895 kB)\n",
      "\u001b[K     |████████████████████████████████| 895 kB 59.0 MB/s eta 0:00:01\n",
      "\u001b[?25hRequirement already satisfied: numpy>=1.17 in /home/ec2-user/anaconda3/envs/pytorch_p36/lib/python3.6/site-packages (from transformers) (1.19.5)\n",
      "Collecting huggingface-hub>=0.0.17\n",
      "  Downloading huggingface_hub-0.0.19-py3-none-any.whl (56 kB)\n",
      "\u001b[K     |████████████████████████████████| 56 kB 7.6 MB/s  eta 0:00:01\n",
      "\u001b[?25hCollecting tokenizers<0.11,>=0.10.1\n",
      "  Downloading tokenizers-0.10.3-cp36-cp36m-manylinux_2_5_x86_64.manylinux1_x86_64.manylinux_2_12_x86_64.manylinux2010_x86_64.whl (3.3 MB)\n",
      "\u001b[K     |████████████████████████████████| 3.3 MB 65.8 MB/s eta 0:00:01\n",
      "\u001b[?25hRequirement already satisfied: pyyaml>=5.1 in /home/ec2-user/anaconda3/envs/pytorch_p36/lib/python3.6/site-packages (from transformers) (5.4.1)\n",
      "Requirement already satisfied: importlib-metadata in /home/ec2-user/anaconda3/envs/pytorch_p36/lib/python3.6/site-packages (from transformers) (4.8.1)\n",
      "Requirement already satisfied: packaging>=20.0 in /home/ec2-user/anaconda3/envs/pytorch_p36/lib/python3.6/site-packages (from transformers) (21.0)\n",
      "Requirement already satisfied: requests in /home/ec2-user/anaconda3/envs/pytorch_p36/lib/python3.6/site-packages (from transformers) (2.26.0)\n",
      "Requirement already satisfied: dataclasses in /home/ec2-user/anaconda3/envs/pytorch_p36/lib/python3.6/site-packages (from transformers) (0.8)\n",
      "Requirement already satisfied: regex!=2019.12.17 in /home/ec2-user/anaconda3/envs/pytorch_p36/lib/python3.6/site-packages (from transformers) (2021.4.4)\n",
      "Requirement already satisfied: filelock in /home/ec2-user/anaconda3/envs/pytorch_p36/lib/python3.6/site-packages (from transformers) (3.0.12)\n",
      "Requirement already satisfied: tqdm>=4.27 in /home/ec2-user/anaconda3/envs/pytorch_p36/lib/python3.6/site-packages (from transformers) (4.61.1)\n",
      "Requirement already satisfied: typing-extensions in /home/ec2-user/anaconda3/envs/pytorch_p36/lib/python3.6/site-packages (from huggingface-hub>=0.0.17->transformers) (3.10.0.2)\n",
      "Requirement already satisfied: pyparsing>=2.0.2 in /home/ec2-user/anaconda3/envs/pytorch_p36/lib/python3.6/site-packages (from packaging>=20.0->transformers) (3.0.1)\n",
      "Requirement already satisfied: zipp>=0.5 in /home/ec2-user/anaconda3/envs/pytorch_p36/lib/python3.6/site-packages (from importlib-metadata->transformers) (3.6.0)\n",
      "Requirement already satisfied: certifi>=2017.4.17 in /home/ec2-user/anaconda3/envs/pytorch_p36/lib/python3.6/site-packages (from requests->transformers) (2021.10.8)\n",
      "Requirement already satisfied: charset-normalizer~=2.0.0 in /home/ec2-user/anaconda3/envs/pytorch_p36/lib/python3.6/site-packages (from requests->transformers) (2.0.7)\n",
      "Requirement already satisfied: idna<4,>=2.5 in /home/ec2-user/anaconda3/envs/pytorch_p36/lib/python3.6/site-packages (from requests->transformers) (3.3)\n",
      "Requirement already satisfied: urllib3<1.27,>=1.21.1 in /home/ec2-user/anaconda3/envs/pytorch_p36/lib/python3.6/site-packages (from requests->transformers) (1.26.7)\n",
      "Requirement already satisfied: click in /home/ec2-user/anaconda3/envs/pytorch_p36/lib/python3.6/site-packages (from sacremoses->transformers) (8.0.1)\n",
      "Requirement already satisfied: six in /home/ec2-user/anaconda3/envs/pytorch_p36/lib/python3.6/site-packages (from sacremoses->transformers) (1.16.0)\n",
      "Requirement already satisfied: joblib in /home/ec2-user/anaconda3/envs/pytorch_p36/lib/python3.6/site-packages (from sacremoses->transformers) (1.0.1)\n",
      "Installing collected packages: tokenizers, sacremoses, huggingface-hub, transformers\n",
      "Successfully installed huggingface-hub-0.0.19 sacremoses-0.0.46 tokenizers-0.10.3 transformers-4.12.0\n",
      "\u001b[33mWARNING: You are using pip version 21.2.4; however, version 21.3.1 is available.\n",
      "You should consider upgrading via the '/home/ec2-user/anaconda3/envs/pytorch_p36/bin/python -m pip install --upgrade pip' command.\u001b[0m\n",
      "Collecting pytorch-lightning\n",
      "  Downloading pytorch_lightning-1.4.9-py3-none-any.whl (925 kB)\n",
      "\u001b[K     |████████████████████████████████| 925 kB 51.2 MB/s eta 0:00:01\n",
      "\u001b[?25hRequirement already satisfied: PyYAML>=5.1 in /home/ec2-user/anaconda3/envs/pytorch_p36/lib/python3.6/site-packages (from pytorch-lightning) (5.4.1)\n",
      "Requirement already satisfied: typing-extensions in /home/ec2-user/anaconda3/envs/pytorch_p36/lib/python3.6/site-packages (from pytorch-lightning) (3.10.0.2)\n",
      "Requirement already satisfied: packaging>=17.0 in /home/ec2-user/anaconda3/envs/pytorch_p36/lib/python3.6/site-packages (from pytorch-lightning) (21.0)\n",
      "Collecting tensorboard>=2.2.0\n",
      "  Downloading tensorboard-2.7.0-py3-none-any.whl (5.8 MB)\n",
      "\u001b[K     |████████████████████████████████| 5.8 MB 75.4 MB/s eta 0:00:01\n",
      "\u001b[?25hCollecting torchmetrics>=0.4.0\n",
      "  Downloading torchmetrics-0.6.0-py3-none-any.whl (329 kB)\n",
      "\u001b[K     |████████████████████████████████| 329 kB 69.1 MB/s eta 0:00:01\n",
      "\u001b[?25hRequirement already satisfied: tqdm>=4.41.0 in /home/ec2-user/anaconda3/envs/pytorch_p36/lib/python3.6/site-packages (from pytorch-lightning) (4.61.1)\n",
      "Collecting pyDeprecate==0.3.1\n",
      "  Downloading pyDeprecate-0.3.1-py3-none-any.whl (10 kB)\n",
      "Requirement already satisfied: numpy>=1.17.2 in /home/ec2-user/anaconda3/envs/pytorch_p36/lib/python3.6/site-packages (from pytorch-lightning) (1.19.5)\n",
      "Collecting torch>=1.6\n",
      "  Downloading torch-1.10.0-cp36-cp36m-manylinux1_x86_64.whl (881.9 MB)\n",
      "\u001b[K     |████████████████████████████████| 881.9 MB 265 bytes/s a 0:00:01     |██████████████▊                 | 406.5 MB 65.2 MB/s eta 0:00:08     |███████████████████▍            | 535.7 MB 82.2 MB/s eta 0:00:05     |██████████████████████████▏     | 721.3 MB 36.9 MB/s eta 0:00:05     |██████████████████████████▎     | 724.8 MB 36.9 MB/s eta 0:00:05     |██████████████████████████████▊ | 846.6 MB 40.4 MB/s eta 0:00:01\n",
      "\u001b[?25hRequirement already satisfied: future>=0.17.1 in /home/ec2-user/anaconda3/envs/pytorch_p36/lib/python3.6/site-packages (from pytorch-lightning) (0.18.2)\n",
      "Collecting fsspec[http]!=2021.06.0,>=2021.05.0\n",
      "  Downloading fsspec-2021.10.1-py3-none-any.whl (125 kB)\n",
      "\u001b[K     |████████████████████████████████| 125 kB 72.0 MB/s eta 0:00:01\n",
      "\u001b[?25hRequirement already satisfied: requests in /home/ec2-user/anaconda3/envs/pytorch_p36/lib/python3.6/site-packages (from fsspec[http]!=2021.06.0,>=2021.05.0->pytorch-lightning) (2.26.0)\n",
      "Requirement already satisfied: aiohttp in /home/ec2-user/anaconda3/envs/pytorch_p36/lib/python3.6/site-packages (from fsspec[http]!=2021.06.0,>=2021.05.0->pytorch-lightning) (3.7.4.post0)\n",
      "Requirement already satisfied: pyparsing>=2.0.2 in /home/ec2-user/anaconda3/envs/pytorch_p36/lib/python3.6/site-packages (from packaging>=17.0->pytorch-lightning) (3.0.1)\n",
      "Collecting absl-py>=0.4\n",
      "  Downloading absl_py-0.15.0-py3-none-any.whl (132 kB)\n",
      "\u001b[K     |████████████████████████████████| 132 kB 69.8 MB/s eta 0:00:01\n",
      "\u001b[?25hRequirement already satisfied: wheel>=0.26 in /home/ec2-user/anaconda3/envs/pytorch_p36/lib/python3.6/site-packages (from tensorboard>=2.2.0->pytorch-lightning) (0.36.2)\n",
      "Collecting google-auth-oauthlib<0.5,>=0.4.1\n",
      "  Downloading google_auth_oauthlib-0.4.6-py2.py3-none-any.whl (18 kB)\n",
      "Requirement already satisfied: protobuf>=3.6.0 in /home/ec2-user/anaconda3/envs/pytorch_p36/lib/python3.6/site-packages (from tensorboard>=2.2.0->pytorch-lightning) (3.19.0)\n",
      "Collecting tensorboard-data-server<0.7.0,>=0.6.0\n",
      "  Downloading tensorboard_data_server-0.6.1-py3-none-manylinux2010_x86_64.whl (4.9 MB)\n",
      "\u001b[K     |████████████████████████████████| 4.9 MB 39.7 MB/s eta 0:00:01\n",
      "\u001b[?25hRequirement already satisfied: setuptools>=41.0.0 in /home/ec2-user/anaconda3/envs/pytorch_p36/lib/python3.6/site-packages (from tensorboard>=2.2.0->pytorch-lightning) (58.3.0)\n",
      "Collecting tensorboard-plugin-wit>=1.6.0\n",
      "  Downloading tensorboard_plugin_wit-1.8.0-py3-none-any.whl (781 kB)\n",
      "\u001b[K     |████████████████████████████████| 781 kB 38.7 MB/s eta 0:00:01\n",
      "\u001b[?25hRequirement already satisfied: google-auth<3,>=1.6.3 in /home/ec2-user/anaconda3/envs/pytorch_p36/lib/python3.6/site-packages (from tensorboard>=2.2.0->pytorch-lightning) (1.30.2)\n",
      "Collecting grpcio>=1.24.3\n",
      "  Downloading grpcio-1.41.1-cp36-cp36m-manylinux_2_17_x86_64.manylinux2014_x86_64.whl (3.9 MB)\n",
      "\u001b[K     |████████████████████████████████| 3.9 MB 35.5 MB/s eta 0:00:01\n",
      "\u001b[?25hRequirement already satisfied: werkzeug>=0.11.15 in /home/ec2-user/anaconda3/envs/pytorch_p36/lib/python3.6/site-packages (from tensorboard>=2.2.0->pytorch-lightning) (2.0.1)\n",
      "Collecting markdown>=2.6.8\n",
      "  Downloading Markdown-3.3.4-py3-none-any.whl (97 kB)\n",
      "\u001b[K     |████████████████████████████████| 97 kB 10.9 MB/s eta 0:00:01\n",
      "\u001b[?25hRequirement already satisfied: six in /home/ec2-user/anaconda3/envs/pytorch_p36/lib/python3.6/site-packages (from absl-py>=0.4->tensorboard>=2.2.0->pytorch-lightning) (1.16.0)\n",
      "Requirement already satisfied: pyasn1-modules>=0.2.1 in /home/ec2-user/anaconda3/envs/pytorch_p36/lib/python3.6/site-packages (from google-auth<3,>=1.6.3->tensorboard>=2.2.0->pytorch-lightning) (0.2.8)\n",
      "Requirement already satisfied: rsa<5,>=3.1.4 in /home/ec2-user/anaconda3/envs/pytorch_p36/lib/python3.6/site-packages (from google-auth<3,>=1.6.3->tensorboard>=2.2.0->pytorch-lightning) (4.7.2)\n",
      "Requirement already satisfied: cachetools<5.0,>=2.0.0 in /home/ec2-user/anaconda3/envs/pytorch_p36/lib/python3.6/site-packages (from google-auth<3,>=1.6.3->tensorboard>=2.2.0->pytorch-lightning) (4.2.2)\n",
      "Collecting requests-oauthlib>=0.7.0\n",
      "  Downloading requests_oauthlib-1.3.0-py2.py3-none-any.whl (23 kB)\n",
      "Requirement already satisfied: importlib-metadata in /home/ec2-user/anaconda3/envs/pytorch_p36/lib/python3.6/site-packages (from markdown>=2.6.8->tensorboard>=2.2.0->pytorch-lightning) (4.8.1)\n",
      "Requirement already satisfied: pyasn1<0.5.0,>=0.4.6 in /home/ec2-user/anaconda3/envs/pytorch_p36/lib/python3.6/site-packages (from pyasn1-modules>=0.2.1->google-auth<3,>=1.6.3->tensorboard>=2.2.0->pytorch-lightning) (0.4.8)\n",
      "Requirement already satisfied: certifi>=2017.4.17 in /home/ec2-user/anaconda3/envs/pytorch_p36/lib/python3.6/site-packages (from requests->fsspec[http]!=2021.06.0,>=2021.05.0->pytorch-lightning) (2021.10.8)\n",
      "Requirement already satisfied: idna<4,>=2.5 in /home/ec2-user/anaconda3/envs/pytorch_p36/lib/python3.6/site-packages (from requests->fsspec[http]!=2021.06.0,>=2021.05.0->pytorch-lightning) (3.3)\n",
      "Requirement already satisfied: charset-normalizer~=2.0.0 in /home/ec2-user/anaconda3/envs/pytorch_p36/lib/python3.6/site-packages (from requests->fsspec[http]!=2021.06.0,>=2021.05.0->pytorch-lightning) (2.0.7)\n",
      "Requirement already satisfied: urllib3<1.27,>=1.21.1 in /home/ec2-user/anaconda3/envs/pytorch_p36/lib/python3.6/site-packages (from requests->fsspec[http]!=2021.06.0,>=2021.05.0->pytorch-lightning) (1.26.7)\n",
      "Collecting oauthlib>=3.0.0\n",
      "  Downloading oauthlib-3.1.1-py2.py3-none-any.whl (146 kB)\n",
      "\u001b[K     |████████████████████████████████| 146 kB 75.2 MB/s eta 0:00:01\n",
      "\u001b[?25hRequirement already satisfied: dataclasses in /home/ec2-user/anaconda3/envs/pytorch_p36/lib/python3.6/site-packages (from torch>=1.6->pytorch-lightning) (0.8)\n",
      "Requirement already satisfied: multidict<7.0,>=4.5 in /home/ec2-user/anaconda3/envs/pytorch_p36/lib/python3.6/site-packages (from aiohttp->fsspec[http]!=2021.06.0,>=2021.05.0->pytorch-lightning) (5.1.0)\n",
      "Requirement already satisfied: chardet<5.0,>=2.0 in /home/ec2-user/anaconda3/envs/pytorch_p36/lib/python3.6/site-packages (from aiohttp->fsspec[http]!=2021.06.0,>=2021.05.0->pytorch-lightning) (4.0.0)\n",
      "Requirement already satisfied: yarl<2.0,>=1.0 in /home/ec2-user/anaconda3/envs/pytorch_p36/lib/python3.6/site-packages (from aiohttp->fsspec[http]!=2021.06.0,>=2021.05.0->pytorch-lightning) (1.6.3)\n",
      "Requirement already satisfied: async-timeout<4.0,>=3.0 in /home/ec2-user/anaconda3/envs/pytorch_p36/lib/python3.6/site-packages (from aiohttp->fsspec[http]!=2021.06.0,>=2021.05.0->pytorch-lightning) (3.0.1)\n",
      "Requirement already satisfied: idna-ssl>=1.0 in /home/ec2-user/anaconda3/envs/pytorch_p36/lib/python3.6/site-packages (from aiohttp->fsspec[http]!=2021.06.0,>=2021.05.0->pytorch-lightning) (1.1.0)\n",
      "Requirement already satisfied: attrs>=17.3.0 in /home/ec2-user/anaconda3/envs/pytorch_p36/lib/python3.6/site-packages (from aiohttp->fsspec[http]!=2021.06.0,>=2021.05.0->pytorch-lightning) (21.2.0)\n",
      "Requirement already satisfied: zipp>=0.5 in /home/ec2-user/anaconda3/envs/pytorch_p36/lib/python3.6/site-packages (from importlib-metadata->markdown>=2.6.8->tensorboard>=2.2.0->pytorch-lightning) (3.6.0)\n",
      "Installing collected packages: oauthlib, requests-oauthlib, torch, tensorboard-plugin-wit, tensorboard-data-server, markdown, grpcio, google-auth-oauthlib, fsspec, absl-py, torchmetrics, tensorboard, pyDeprecate, pytorch-lightning\n",
      "  Attempting uninstall: torch\n",
      "    Found existing installation: torch 1.4.0\n",
      "    Uninstalling torch-1.4.0:\n",
      "      Successfully uninstalled torch-1.4.0\n"
     ]
    }
   ],
   "source": [
    "!pip install transformers\n",
    "\n",
    "!pip install pytorch-lightning\n",
    "\n",
    "!pip install sentencepiece"
   ]
  },
  {
   "cell_type": "code",
   "execution_count": 4,
   "metadata": {},
   "outputs": [],
   "source": [
    "#import necessary libraries and instantiate AWS-specific variables\n",
    "import pandas as pd\n",
    "import boto3\n",
    "import sagemaker\n",
    "import numpy as np\n",
    "import os\n",
    "import matplotlib.pyplot as plt\n",
    "from datetime import datetime\n",
    "import seaborn as sns\n",
    "from statsmodels.graphics.tsaplots import plot_acf,plot_pacf\n",
    "import statsmodels.api as sm\n",
    "from statsmodels.tsa.arima.model import ARIMA\n",
    "from sklearn.linear_model import LinearRegression\n",
    "from sklearn.metrics import mean_squared_error, mean_absolute_error\n",
    "from sklearn.model_selection import train_test_split\n",
    "from sklearn.preprocessing import MinMaxScaler\n",
    "from math import sqrt\n",
    "# import json for formatting data\n",
    "import json\n",
    "\n",
    "#libraries for Pretrained model\n",
    "from transformers import AutoModelWithLMHead, AutoTokenizer\n",
    "import random, warnings\n",
    "\n",
    "warnings.filterwarnings(\"ignore\")\n",
    "\n",
    "# session and role\n",
    "sagemaker_session = sagemaker.Session()\n",
    "role = sagemaker.get_execution_role()\n",
    "\n",
    "# create an S3 bucket\n",
    "bucket = sagemaker_session.default_bucket()"
   ]
  },
  {
   "cell_type": "markdown",
   "metadata": {},
   "source": [
    "## Reading in the Custom Data"
   ]
  },
  {
   "cell_type": "markdown",
   "metadata": {},
   "source": [
    "### Brief Description of the Datasets\n",
    "\n",
    "This is a supervised learning task and each dataset comes with target labels. Two types of datasets will be employed in this project. One is the training dataset and the other is a custom dataset. Both datasets are described below:\n",
    "\n",
    "1.\t**Training Dataset**: The **SparC** dataset that we would be used to train our model. The SParC dataset is a multi-domain or multi-context dataset that contains over **200 databases from over 100 different domains**. The dataset was developed by Yale & Salesforce from about 12K unique coherent questions from user interactions in those various domains. The dataset is one of the most used and widely cited for the text to SQL challenge and currently maintains a leaderboard of the most “state-of-the-art” models built on its dataset. The dataset can be downloaded from the official page of the challenge (https://yale-lily.github.io/sparc)\n",
    "2.\t**Custom Dataset**: This is the dataset that will be used to test and tune our model. This database would be used to test our model’s text-to-SQL conversion performance on the new schema; it is a data set containing price information of Bitcoin. This is the data that would mostly be explored and visualized in this notebook."
   ]
  },
  {
   "cell_type": "code",
   "execution_count": 5,
   "metadata": {},
   "outputs": [
    {
     "data": {
      "text/html": [
       "<div>\n",
       "<style scoped>\n",
       "    .dataframe tbody tr th:only-of-type {\n",
       "        vertical-align: middle;\n",
       "    }\n",
       "\n",
       "    .dataframe tbody tr th {\n",
       "        vertical-align: top;\n",
       "    }\n",
       "\n",
       "    .dataframe thead th {\n",
       "        text-align: right;\n",
       "    }\n",
       "</style>\n",
       "<table border=\"1\" class=\"dataframe\">\n",
       "  <thead>\n",
       "    <tr style=\"text-align: right;\">\n",
       "      <th></th>\n",
       "      <th>Unix Timestamp</th>\n",
       "      <th>Date</th>\n",
       "      <th>Symbol</th>\n",
       "      <th>Open</th>\n",
       "      <th>High</th>\n",
       "      <th>Low</th>\n",
       "      <th>Close</th>\n",
       "      <th>Volume</th>\n",
       "    </tr>\n",
       "  </thead>\n",
       "  <tbody>\n",
       "    <tr>\n",
       "      <th>0</th>\n",
       "      <td>1.618880e+12</td>\n",
       "      <td>4/20/2021 0:02</td>\n",
       "      <td>BTCUSD</td>\n",
       "      <td>55717.47</td>\n",
       "      <td>55723.00</td>\n",
       "      <td>55541.69</td>\n",
       "      <td>55541.69</td>\n",
       "      <td>2.406734</td>\n",
       "    </tr>\n",
       "    <tr>\n",
       "      <th>1</th>\n",
       "      <td>1.618880e+12</td>\n",
       "      <td>4/20/2021 0:01</td>\n",
       "      <td>BTCUSD</td>\n",
       "      <td>55768.94</td>\n",
       "      <td>55849.82</td>\n",
       "      <td>55711.74</td>\n",
       "      <td>55717.47</td>\n",
       "      <td>0.573458</td>\n",
       "    </tr>\n",
       "    <tr>\n",
       "      <th>2</th>\n",
       "      <td>1.618880e+12</td>\n",
       "      <td>4/20/2021 0:00</td>\n",
       "      <td>BTCUSD</td>\n",
       "      <td>55691.79</td>\n",
       "      <td>55793.15</td>\n",
       "      <td>55691.79</td>\n",
       "      <td>55768.94</td>\n",
       "      <td>3.309904</td>\n",
       "    </tr>\n",
       "    <tr>\n",
       "      <th>3</th>\n",
       "      <td>1.618880e+12</td>\n",
       "      <td>4/19/2021 23:59</td>\n",
       "      <td>BTCUSD</td>\n",
       "      <td>55777.86</td>\n",
       "      <td>55777.86</td>\n",
       "      <td>55677.92</td>\n",
       "      <td>55691.79</td>\n",
       "      <td>0.684934</td>\n",
       "    </tr>\n",
       "    <tr>\n",
       "      <th>4</th>\n",
       "      <td>1.618880e+12</td>\n",
       "      <td>4/19/2021 23:58</td>\n",
       "      <td>BTCUSD</td>\n",
       "      <td>55803.50</td>\n",
       "      <td>55823.88</td>\n",
       "      <td>55773.08</td>\n",
       "      <td>55777.86</td>\n",
       "      <td>0.477225</td>\n",
       "    </tr>\n",
       "  </tbody>\n",
       "</table>\n",
       "</div>"
      ],
      "text/plain": [
       "   Unix Timestamp             Date  Symbol      Open      High       Low  \\\n",
       "0    1.618880e+12   4/20/2021 0:02  BTCUSD  55717.47  55723.00  55541.69   \n",
       "1    1.618880e+12   4/20/2021 0:01  BTCUSD  55768.94  55849.82  55711.74   \n",
       "2    1.618880e+12   4/20/2021 0:00  BTCUSD  55691.79  55793.15  55691.79   \n",
       "3    1.618880e+12  4/19/2021 23:59  BTCUSD  55777.86  55777.86  55677.92   \n",
       "4    1.618880e+12  4/19/2021 23:58  BTCUSD  55803.50  55823.88  55773.08   \n",
       "\n",
       "      Close    Volume  \n",
       "0  55541.69  2.406734  \n",
       "1  55717.47  0.573458  \n",
       "2  55768.94  3.309904  \n",
       "3  55691.79  0.684934  \n",
       "4  55777.86  0.477225  "
      ]
     },
     "execution_count": 5,
     "metadata": {},
     "output_type": "execute_result"
    }
   ],
   "source": [
    "file_path = 'data/custom/gemini_BTCUSD_2020_1min.csv'\n",
    "custom_df = pd.read_csv(file_path)\n",
    "\n",
    "custom_df.head()"
   ]
  },
  {
   "cell_type": "markdown",
   "metadata": {},
   "source": [
    "## Data Exploration"
   ]
  },
  {
   "cell_type": "code",
   "execution_count": 180,
   "metadata": {},
   "outputs": [
    {
     "data": {
      "text/plain": [
       "(658065, 8)"
      ]
     },
     "execution_count": 180,
     "metadata": {},
     "output_type": "execute_result"
    }
   ],
   "source": [
    "custom_df.shape"
   ]
  },
  {
   "cell_type": "markdown",
   "metadata": {},
   "source": [
    "*The dataset has over 650K records*"
   ]
  },
  {
   "cell_type": "code",
   "execution_count": 181,
   "metadata": {},
   "outputs": [
    {
     "name": "stdout",
     "output_type": "stream",
     "text": [
      "<class 'pandas.core.frame.DataFrame'>\n",
      "RangeIndex: 658065 entries, 0 to 658064\n",
      "Data columns (total 8 columns):\n",
      " #   Column          Non-Null Count   Dtype  \n",
      "---  ------          --------------   -----  \n",
      " 0   Unix Timestamp  658065 non-null  float64\n",
      " 1   Date            658065 non-null  object \n",
      " 2   Symbol          658065 non-null  object \n",
      " 3   Open            658065 non-null  float64\n",
      " 4   High            658065 non-null  float64\n",
      " 5   Low             658065 non-null  float64\n",
      " 6   Close           658065 non-null  float64\n",
      " 7   Volume          658065 non-null  float64\n",
      "dtypes: float64(6), object(2)\n",
      "memory usage: 40.2+ MB\n"
     ]
    }
   ],
   "source": [
    "custom_df.info()"
   ]
  },
  {
   "cell_type": "markdown",
   "metadata": {},
   "source": [
    "*There is no missing data*"
   ]
  },
  {
   "cell_type": "markdown",
   "metadata": {},
   "source": [
    "**What is the time window being considered in the data?**"
   ]
  },
  {
   "cell_type": "code",
   "execution_count": 182,
   "metadata": {},
   "outputs": [
    {
     "name": "stdout",
     "output_type": "stream",
     "text": [
      "The time frame of the Dataset is between 1/1/2020 0:00 and 4/20/2021 0:02\n"
     ]
    }
   ],
   "source": [
    "end_date = list(custom_df.Date)[0]\n",
    "start_date = list(custom_df.Date)[-1]\n",
    "print (\"The time frame of the Dataset is between {} and {}\". format(start_date, end_date))"
   ]
  },
  {
   "cell_type": "markdown",
   "metadata": {},
   "source": [
    "**What is the highest Bitcoin closing price and when did it occur?** \n",
    "\n",
    "PS: at the end of the notebook these exploratory questions can be asked directly via the web app"
   ]
  },
  {
   "cell_type": "code",
   "execution_count": 183,
   "metadata": {},
   "outputs": [
    {
     "name": "stdout",
     "output_type": "stream",
     "text": [
      "The maximum price of BTC was 64890.0USD and this occurred on 4/14/2021 6:13\n"
     ]
    }
   ],
   "source": [
    "max_price = max(list(custom_df.Close))\n",
    "max_price_date = custom_df[custom_df.Close == max_price].Date\n",
    "print (\"The maximum price of BTC was {}USD and this occurred on {}\". format(max_price, list(max_price_date)[0]))"
   ]
  },
  {
   "cell_type": "markdown",
   "metadata": {},
   "source": [
    "## Data Visualization"
   ]
  },
  {
   "cell_type": "markdown",
   "metadata": {},
   "source": [
    "**Let's see how the price of Bitcoin has varied over time**\n",
    "\n",
    "It is important to take cognizance of the size of the data - >650K records - which is a minute by minute record of Bitcoin's price. For this project, we want to understand the hourly trend and predict Bitcoin prices in the couple of hours therefore, we would aggregate the data on an hourly basis and average the prices within each hour."
   ]
  },
  {
   "cell_type": "markdown",
   "metadata": {},
   "source": [
    "### Data Aggregation"
   ]
  },
  {
   "cell_type": "code",
   "execution_count": 6,
   "metadata": {},
   "outputs": [],
   "source": [
    "#first convert the date to pandas datetime\n",
    "custom_df[\"Date\"] = pd.to_datetime(custom_df['Date'], format='%m/%d/%Y %H:%M')"
   ]
  },
  {
   "cell_type": "code",
   "execution_count": 7,
   "metadata": {},
   "outputs": [],
   "source": [
    "custom_date = custom_df[\"Date\"].dt.date #retains the date part only\n",
    "custom_hour = custom_df[\"Date\"].dt.hour #retains the hour part only\n",
    "\n",
    "# concatenate the date and hour\n",
    "custom_dt_hour = [str(date)+ '  ' +str(hour)+ ':00:00' if hour > 9 else str(date)+ '  ' + '0'+str(hour)+ ':00:00' for date,\n",
    "                  hour in zip(custom_date, custom_hour)] \n",
    "#assigns to a column\n",
    "custom_df[\"Date_Hour\"] = [datetime.strptime(date, '%Y-%m-%d %H:%M:%S') for date in custom_dt_hour]"
   ]
  },
  {
   "cell_type": "code",
   "execution_count": 8,
   "metadata": {},
   "outputs": [
    {
     "data": {
      "text/plain": [
       "(10987, 2)"
      ]
     },
     "execution_count": 8,
     "metadata": {},
     "output_type": "execute_result"
    }
   ],
   "source": [
    "custom_df_agg = pd.pivot_table(custom_df, values=['Close', 'Volume'], index=['Date_Hour'],\n",
    "                               aggfunc={'Close': 'mean','Volume': 'mean'})\n",
    "custom_df_agg.shape"
   ]
  },
  {
   "cell_type": "code",
   "execution_count": 187,
   "metadata": {},
   "outputs": [
    {
     "data": {
      "text/html": [
       "<div>\n",
       "<style scoped>\n",
       "    .dataframe tbody tr th:only-of-type {\n",
       "        vertical-align: middle;\n",
       "    }\n",
       "\n",
       "    .dataframe tbody tr th {\n",
       "        vertical-align: top;\n",
       "    }\n",
       "\n",
       "    .dataframe thead th {\n",
       "        text-align: right;\n",
       "    }\n",
       "</style>\n",
       "<table border=\"1\" class=\"dataframe\">\n",
       "  <thead>\n",
       "    <tr style=\"text-align: right;\">\n",
       "      <th></th>\n",
       "      <th>Close</th>\n",
       "      <th>Volume</th>\n",
       "    </tr>\n",
       "    <tr>\n",
       "      <th>Date_Hour</th>\n",
       "      <th></th>\n",
       "      <th></th>\n",
       "    </tr>\n",
       "  </thead>\n",
       "  <tbody>\n",
       "    <tr>\n",
       "      <th>2020-01-01 00:00:00</th>\n",
       "      <td>7154.573000</td>\n",
       "      <td>1.858578</td>\n",
       "    </tr>\n",
       "    <tr>\n",
       "      <th>2020-01-01 01:00:00</th>\n",
       "      <td>7178.335833</td>\n",
       "      <td>2.123790</td>\n",
       "    </tr>\n",
       "    <tr>\n",
       "      <th>2020-01-01 02:00:00</th>\n",
       "      <td>7207.665667</td>\n",
       "      <td>2.024427</td>\n",
       "    </tr>\n",
       "    <tr>\n",
       "      <th>2020-01-01 03:00:00</th>\n",
       "      <td>7205.175333</td>\n",
       "      <td>0.424062</td>\n",
       "    </tr>\n",
       "    <tr>\n",
       "      <th>2020-01-01 04:00:00</th>\n",
       "      <td>7194.898333</td>\n",
       "      <td>0.701623</td>\n",
       "    </tr>\n",
       "  </tbody>\n",
       "</table>\n",
       "</div>"
      ],
      "text/plain": [
       "                           Close    Volume\n",
       "Date_Hour                                 \n",
       "2020-01-01 00:00:00  7154.573000  1.858578\n",
       "2020-01-01 01:00:00  7178.335833  2.123790\n",
       "2020-01-01 02:00:00  7207.665667  2.024427\n",
       "2020-01-01 03:00:00  7205.175333  0.424062\n",
       "2020-01-01 04:00:00  7194.898333  0.701623"
      ]
     },
     "execution_count": 187,
     "metadata": {},
     "output_type": "execute_result"
    }
   ],
   "source": [
    "custom_df_agg.head()"
   ]
  },
  {
   "cell_type": "code",
   "execution_count": 34,
   "metadata": {},
   "outputs": [
    {
     "data": {
      "image/png": "[encoded data removed]",
      "text/plain": [
       "<Figure size 1080x360 with 1 Axes>"
      ]
     },
     "metadata": {
      "needs_background": "light"
     },
     "output_type": "display_data"
    }
   ],
   "source": [
    "plt.figure(figsize=[15,5])\n",
    "plt.plot(custom_df_agg[\"Close\"] , color = 'Purple', label = 'Bitcoin')\n",
    "plt.legend(loc='best')\n",
    "plt.title('Bitcoin Hourly Price')\n",
    "plt.show()"
   ]
  },
  {
   "cell_type": "markdown",
   "metadata": {},
   "source": [
    "### Baseline Modelling - ARIMA Statistical Model"
   ]
  },
  {
   "cell_type": "markdown",
   "metadata": {},
   "source": [
    "This project will test the ARIMA model to establish the baseline performance. ARIMA is a very popular statistical model for time series forecasting. Two critical steps are involved here: \n",
    "1. Test the Bitcoin closing price for stationarity using **Augmented Dickley-Fuller Test (ADF)**\n",
    "2. Adjust the price to become stationary if non-stationary"
   ]
  },
  {
   "cell_type": "markdown",
   "metadata": {},
   "source": [
    "#### ADF Test for Stationarity"
   ]
  },
  {
   "cell_type": "code",
   "execution_count": 15,
   "metadata": {},
   "outputs": [],
   "source": [
    "from statsmodels.tsa.stattools import adfuller\n",
    "\n",
    "def test_stationarity(timeseries, window = 12, cutoff = 0.01):\n",
    "    #Determing rolling statistics\n",
    "    rolmean = timeseries.rolling(window).mean()\n",
    "    rolstd = timeseries.rolling(window).std()\n",
    "    \n",
    "    #Plot rolling statistics:\n",
    "    fig = plt.figure(figsize=(12, 8))\n",
    "    orig = plt.plot(timeseries, color='blue',label='Original')\n",
    "    mean = plt.plot(rolmean, color='red', label='Rolling Mean')\n",
    "    std = plt.plot(rolstd, color='black', label = 'Rolling Std')\n",
    "    plt.legend(loc='best')\n",
    "    plt.title('Rolling Mean & Standard Deviation')\n",
    "    plt.show()\n",
    "    \n",
    "    #Perform Dickey-Fuller test:\n",
    "    print('Results of Dickey-Fuller Test:')\n",
    "    dftest = adfuller(timeseries, autolag='AIC', maxlag = 20 )\n",
    "    dfoutput = pd.Series(dftest[0:4], index=['Test Statistic','p-value','#Lags Used','Number of Observations Used'])\n",
    "    for key,value in dftest[4].items():\n",
    "        dfoutput['Critical Value (%s)'%key] = value\n",
    "        pvalue = dftest[1]\n",
    "    if pvalue < cutoff:\n",
    "        print('p-value = %.4f. The series is likely stationary.' % pvalue)\n",
    "    else:\n",
    "        print('p-value = %.4f. The series is likely non-stationary.' % pvalue)\n",
    "   \n",
    "    print(dfoutput)"
   ]
  },
  {
   "cell_type": "code",
   "execution_count": 16,
   "metadata": {},
   "outputs": [
    {
     "data": {
      "image/png": "[encoded data removed]",
      "text/plain": [
       "<Figure size 864x576 with 1 Axes>"
      ]
     },
     "metadata": {
      "needs_background": "light"
     },
     "output_type": "display_data"
    },
    {
     "name": "stdout",
     "output_type": "stream",
     "text": [
      "Results of Dickey-Fuller Test:\n",
      "p-value = 0.9969. The series is likely non-stationary.\n",
      "Test Statistic                     1.358134\n",
      "p-value                            0.996915\n",
      "#Lags Used                        20.000000\n",
      "Number of Observations Used    10966.000000\n",
      "Critical Value (1%)               -3.430946\n",
      "Critical Value (5%)               -2.861804\n",
      "Critical Value (10%)              -2.566910\n",
      "dtype: float64\n"
     ]
    }
   ],
   "source": [
    "closing_price = custom_df_agg['Close']\n",
    "test_stationarity(closing_price)"
   ]
  },
  {
   "cell_type": "markdown",
   "metadata": {},
   "source": [
    "Bitcoin is a non-stationary series hence we need to difference it to achieve stationarity"
   ]
  },
  {
   "cell_type": "code",
   "execution_count": 17,
   "metadata": {},
   "outputs": [],
   "source": [
    "### DIFFERENCE & INVERSE DIFFERENCE FUNCTIONS\n",
    "\n",
    "# create a differenced series\n",
    "def difference(dataset, interval=1):\n",
    "    '''Returns a time differenced dataset.\n",
    "       :param dataset: the time series to be differenced.\n",
    "       :return: The differenced time series.\n",
    "       '''\n",
    "    diff = list()\n",
    "    for i in range(interval, len(dataset)):\n",
    "        value = dataset[i] - dataset[i - interval]\n",
    "        diff.append(value)\n",
    "    return diff\n",
    " \n",
    "# invert differenced value to it's original value\n",
    "def inverse_difference(history, yhat, interval=1):\n",
    "    '''Returns the price from a time differenced value.\n",
    "       :param history: the last known time series before the value to be inversed.\n",
    "       :param yhat: the differenced value to be inversed.\n",
    "       :Default param interval: the inverse time interval.\n",
    "       :return: The inversed time differenced value (the original price).\n",
    "       '''\n",
    "    \n",
    "    return yhat + history[-interval]"
   ]
  },
  {
   "cell_type": "code",
   "execution_count": 18,
   "metadata": {},
   "outputs": [],
   "source": [
    "custom_df_agg['Close_diff'] = [0] + difference(custom_df_agg['Close'], interval=1)"
   ]
  },
  {
   "cell_type": "code",
   "execution_count": 19,
   "metadata": {},
   "outputs": [
    {
     "data": {
      "image/png": "[encoded data removed]",
      "text/plain": [
       "<Figure size 864x576 with 1 Axes>"
      ]
     },
     "metadata": {
      "needs_background": "light"
     },
     "output_type": "display_data"
    },
    {
     "name": "stdout",
     "output_type": "stream",
     "text": [
      "Results of Dickey-Fuller Test:\n",
      "p-value = 0.0000. The series is likely stationary.\n",
      "Test Statistic                   -28.740895\n",
      "p-value                            0.000000\n",
      "#Lags Used                        20.000000\n",
      "Number of Observations Used    10966.000000\n",
      "Critical Value (1%)               -3.430946\n",
      "Critical Value (5%)               -2.861804\n",
      "Critical Value (10%)              -2.566910\n",
      "dtype: float64\n"
     ]
    }
   ],
   "source": [
    "test_stationarity(custom_df_agg['Close_diff'])"
   ]
  },
  {
   "cell_type": "code",
   "execution_count": 20,
   "metadata": {},
   "outputs": [
    {
     "data": {
      "text/plain": [
       "Text(0.5, 1.0, 'Partial Autocorrelation BTC price')"
      ]
     },
     "execution_count": 20,
     "metadata": {},
     "output_type": "execute_result"
    },
    {
     "data": {
      "image/png": "[encoded data removed]",
      "text/plain": [
       "<Figure size 1440x1080 with 6 Axes>"
      ]
     },
     "metadata": {
      "needs_background": "light"
     },
     "output_type": "display_data"
    }
   ],
   "source": [
    "fig, ax = plt.subplots(3,2,figsize=(20,15))\n",
    "sm.graphics.tsa.plot_acf(custom_df_agg['Close_diff'], ax=ax[0, 0])\n",
    "ax[0, 0].set_title('Autocorrelation BTC price')\n",
    "sm.graphics.tsa.plot_pacf(custom_df_agg['Close_diff'], ax=ax[0, 1])\n",
    "ax[0, 1].set_title('Partial Autocorrelation BTC price')"
   ]
  },
  {
   "cell_type": "markdown",
   "metadata": {},
   "source": [
    "**Model Choice:** As seen in ACF and PACF charts above, the following ARIMA model of order (1,1,1) would be employed. \n",
    "\n",
    "**This means the previous data point is the most improtant variable for forecasting the next price - Autoregressive** "
   ]
  },
  {
   "cell_type": "markdown",
   "metadata": {},
   "source": [
    "### Model Training"
   ]
  },
  {
   "cell_type": "markdown",
   "metadata": {},
   "source": [
    "Simialr to other Machine Learning tasks, the data would be trained and validated on a train and validation set respectively. The only difference is that the ARIMA model would be trained recursively and compared to validation data point because of the order of the model --> AR (1) and MA (1)"
   ]
  },
  {
   "cell_type": "code",
   "execution_count": 63,
   "metadata": {},
   "outputs": [],
   "source": [
    "## creating the dataset\n",
    "\n",
    "# train_data\n",
    "train_arima = list(custom_df_agg['Close_diff'][:10700])\n",
    "train_data = list(custom_df_agg['Close'][:10700])\n",
    "\n",
    "#validation data\n",
    "val_arima = list(custom_df_agg['Close_diff'][10700:10900])\n",
    "val_data = list(custom_df_agg['Close'][10700:10900])\n",
    "\n",
    "#test data -the model would be tested on a few data points\n",
    "test_arima = list(custom_df_agg['Close_diff'][10900:])\n",
    "test_data = list(custom_df_agg['Close'][10900:])"
   ]
  },
  {
   "cell_type": "code",
   "execution_count": 69,
   "metadata": {},
   "outputs": [],
   "source": [
    "#training function\n",
    "\n",
    "def train_model(train, val, train_prices, val_prices, order=(1,1,1)):\n",
    "    '''Returns an autoregressively trained model for bitcoin price prediction and predicted prices.\n",
    "       :param train: A time differenced training set time series of bitcoin closing price.\n",
    "       :param val: A time differenced validation set time series of bitcoin closing price.\n",
    "       :param train_prices: A training set time series of bitcoin closing price.\n",
    "       :param val_prices: A validation set time series of bitcoin closing price.\n",
    "       :Default param val_prices: the order of the model. Default is (1,1,1).\n",
    "       :return 1: A trained model.\n",
    "       :return 2: A list of predicted prices from the model.\n",
    "       '''\n",
    "    \n",
    "    prediction_prices = []\n",
    "    known_history = train_prices\n",
    "    for i in range (len(val)):\n",
    "        #re-trainning the model with new info\n",
    "        ## instantiate and fit the model\n",
    "        btc_model = ARIMA(train, order=order).fit()\n",
    "\n",
    "        # one-step out-of sample forecast\n",
    "        forecast = btc_model.forecast(1)[0]\n",
    "\n",
    "        # invert the differenced forecast to get the price\n",
    "        forecast_price = inverse_difference(known_history, forecast, 1)\n",
    "        prediction_prices.append(forecast_price)\n",
    "        \n",
    "        #update the historical prices and train data for retraining and differencing respectively\n",
    "        known_history = known_history + [val_prices[i]]\n",
    "        train = train + [val[i]]\n",
    "        \n",
    "    #get the latest model to be reused\n",
    "#     updated_btc_model = ARIMA(train + val, order=order).fit()\n",
    "    return btc_model, prediction_prices"
   ]
  },
  {
   "cell_type": "code",
   "execution_count": 70,
   "metadata": {},
   "outputs": [
    {
     "name": "stdout",
     "output_type": "stream",
     "text": [
      "CPU times: user 8min 15s, sys: 2 s, total: 8min 17s\n",
      "Wall time: 7min 37s\n"
     ]
    }
   ],
   "source": [
    "%%time\n",
    "model, pred = train_model(train_arima, val_arima, train_data, val_data, order=(1,1,1))"
   ]
  },
  {
   "cell_type": "code",
   "execution_count": 85,
   "metadata": {},
   "outputs": [
    {
     "data": {
      "image/png": "[encoded data removed]",
      "text/plain": [
       "<Figure size 864x360 with 1 Axes>"
      ]
     },
     "metadata": {
      "needs_background": "light"
     },
     "output_type": "display_data"
    }
   ],
   "source": [
    "## see how the errors trended on the validation set\n",
    "validation_errors = [abs(v-p) for v, p in zip(val_data, pred)]\n",
    "mae = mean_absolute_error(val_data, pred)\n",
    "plt.figure(figsize=(12,5))\n",
    "plt.plot(validation_errors, color='red',label='Validation error')\n",
    "plt.plot([mae]*len(pred), color='blue', label = 'Average error')\n",
    "plt.legend(loc='upper left')\n",
    "plt.title('Plot of Errors. MAE of {0}'.format(mae), fontsize=15)\n",
    "plt.show()"
   ]
  },
  {
   "cell_type": "markdown",
   "metadata": {},
   "source": [
    "There appears to be a few spikes in prediction error"
   ]
  },
  {
   "cell_type": "code",
   "execution_count": 82,
   "metadata": {},
   "outputs": [
    {
     "data": {
      "image/png": "[encoded data removed]",
      "text/plain": [
       "<Figure size 864x360 with 1 Axes>"
      ]
     },
     "metadata": {
      "needs_background": "light"
     },
     "output_type": "display_data"
    }
   ],
   "source": [
    "#plot the predictions\n",
    "\n",
    "#first make into a series\n",
    "train_plot = custom_df_agg['Close'][:10700]\n",
    "target_val_plot = custom_df_agg['Close'][10700:10900]\n",
    "arima_forecast_plot = pd.Series(pred, index = target_val_plot.index)\n",
    "\n",
    "# Plot\n",
    "plt.figure(figsize=(12,5))\n",
    "# plt.plot(train_plot, color='red',label='training')\n",
    "plt.plot(target_val_plot, color='black', label='actual')\n",
    "plt.plot(arima_forecast_plot, color='green', label='Arima_forecast')\n",
    "plt.title('Validation forecast vs Actual')\n",
    "plt.legend(loc='upper left', fontsize=10)\n",
    "plt.show()"
   ]
  },
  {
   "cell_type": "code",
   "execution_count": 102,
   "metadata": {},
   "outputs": [],
   "source": [
    "#forecast for the next 87 hours in the test data and evaluate performance\n",
    "test_pred = model.forecast(steps=len(test_arima), alpha=0.05) #95% confidence interval\n",
    "\n",
    "#convert the time differenced forecastes to bitcoin prices\n",
    "test_prices = []\n",
    "test_known_history = val_data \n",
    "for i, pred in enumerate(test_pred):\n",
    "    price = inverse_difference(test_known_history, pred, 1)\n",
    "    test_known_history = test_known_history + [price]\n",
    "    test_prices.append(price)"
   ]
  },
  {
   "cell_type": "code",
   "execution_count": 103,
   "metadata": {
    "scrolled": true
   },
   "outputs": [
    {
     "name": "stdout",
     "output_type": "stream",
     "text": [
      "Test MAE is 3442.3212551214274\n"
     ]
    }
   ],
   "source": [
    "print(\"Test MAE is {0}\".format(mean_absolute_error(test_data, test_prices)))"
   ]
  },
  {
   "cell_type": "code",
   "execution_count": 104,
   "metadata": {},
   "outputs": [
    {
     "data": {
      "image/png": "[encoded data removed]",
      "text/plain": [
       "<Figure size 864x360 with 1 Axes>"
      ]
     },
     "metadata": {
      "needs_background": "light"
     },
     "output_type": "display_data"
    }
   ],
   "source": [
    "target_plot = custom_df_agg['Close'][10900:]\n",
    "arima_prediction_plot = pd.Series(test_prices, index= target_plot.index)\n",
    "\n",
    "plt.figure(figsize=(12,5))\n",
    "# plt.plot(train_plot, color='red',label='training')\n",
    "plt.plot(target_plot, color='pink', label='actual')\n",
    "plt.plot(arima_prediction_plot, color='green', label='Arima Test Predictions')\n",
    "plt.title('Test Predictions (Out-of-sample) vs Actual')\n",
    "plt.legend(loc='best', fontsize=10)\n",
    "plt.show()"
   ]
  },
  {
   "cell_type": "markdown",
   "metadata": {},
   "source": [
    "**Key takeaway from the baseline model**: From the figure above, it is apparent that the ARIMA model cannot account for big shocks in the BTC price as there are so many other exogeneous factors that impact price movements hence the **we can establish a prediction length of not more than one week (24hours x 7 days) for our eventual served model**"
   ]
  },
  {
   "cell_type": "markdown",
   "metadata": {},
   "source": [
    "## Time Series Forecasting - DeepAR Estimator"
   ]
  },
  {
   "cell_type": "markdown",
   "metadata": {},
   "source": [
    "According to the [DeepAR documentation](https://docs.aws.amazon.com/sagemaker/latest/dg/deepar.html), DeepAR expects to see input training data in a JSON format, with the following fields:\n",
    "\n",
    "* **start**: A string that defines the starting date of the time series, with the format 'YYYY-MM-DD HH:MM:SS'.\n",
    "* **target**: An array of numerical values that represent the time series.\n",
    "* **cat** (optional): A numerical array of categorical features that can be used to encode the groups that the record belongs to. This is useful for finding models per class of item, such as in retail sales, where you might have {'shoes', 'jackets', 'pants'} encoded as categories {0, 1, 2}.\n",
    "\n",
    "The input data should be formatted with one time series per line in a JSON file. Each line looks a bit like a dictionary, for example:\n",
    "```\n",
    "{\"start\":'2007-01-01 00:00:00', \"target\": [2.54, 6.3, ...], \"cat\": [1]}\n",
    "{\"start\": \"2012-01-30 00:00:00\", \"target\": [1.0, -5.0, ...], \"cat\": [0]} \n",
    "...\n",
    "```\n",
    "The start and end dates of our data have been explored before and they are 1/1/2020 0:00 and 4/20/2021 0:02 respectively"
   ]
  },
  {
   "cell_type": "markdown",
   "metadata": {},
   "source": [
    "#### Create the Training and Test Time series\n",
    "\n",
    "The training timeseries would be the complete time series albeit the prediction length. The test time series or better referred to as target is the complete timeseries. It is useful to run the first cell below. It ensures your data has index for every hour which is useful during predictions as you would see below. Also note, the dataset would be increased and you can fill the missing data with the average btc price"
   ]
  },
  {
   "cell_type": "code",
   "execution_count": 9,
   "metadata": {},
   "outputs": [],
   "source": [
    "##run this cell\n",
    "custom_df_agg = custom_df_agg.asfreq('H').fillna(np.mean(custom_df_agg['Close']))"
   ]
  },
  {
   "cell_type": "code",
   "execution_count": 10,
   "metadata": {},
   "outputs": [
    {
     "data": {
      "text/plain": [
       "(11401, 2)"
      ]
     },
     "execution_count": 10,
     "metadata": {},
     "output_type": "execute_result"
    }
   ],
   "source": [
    "custom_df_agg.shape"
   ]
  },
  {
   "cell_type": "code",
   "execution_count": 11,
   "metadata": {},
   "outputs": [],
   "source": [
    "#set the training start date\n",
    "start_date = custom_df_agg.index[0]\n",
    "end_date = custom_df_agg.index[-1]\n",
    "\n",
    "#set the context and prediction length\n",
    "context_length = 168 #one week of hourly data\n",
    "prediction_length = 168 #one week of hourly data"
   ]
  },
  {
   "cell_type": "code",
   "execution_count": 12,
   "metadata": {},
   "outputs": [],
   "source": [
    "training_series = custom_df_agg['Close'][:-prediction_length]\n",
    "test_series = custom_df_agg['Close']"
   ]
  },
  {
   "cell_type": "markdown",
   "metadata": {},
   "source": [
    "*convert the pandas Series object to json*"
   ]
  },
  {
   "cell_type": "code",
   "execution_count": 192,
   "metadata": {},
   "outputs": [],
   "source": [
    "def series_to_json_obj(ts):\n",
    "    '''Returns a dictionary of values in DeepAR, JSON format.\n",
    "       :param ts: A single time series.\n",
    "       :param s_date: the time series start_date.\n",
    "       :return: A dictionary of values with \"start\" and \"target\" keys.\n",
    "       '''\n",
    "    # get start time and target from the time series, ts\n",
    "    json_obj = {\"start\": str(ts.index[0]), \"target\": list(ts)}\n",
    "    return json_obj"
   ]
  },
  {
   "cell_type": "code",
   "execution_count": 193,
   "metadata": {},
   "outputs": [
    {
     "data": {
      "text/plain": [
       "{'start': '2020-01-01 00:00:00',\n",
       " 'target': [7154.572999999998,\n",
       "  7178.335833333332,\n",
       "  7207.665666666668,\n",
       "  7205.175333333334,\n",
       "  7194.898333333335]}"
      ]
     },
     "execution_count": 193,
     "metadata": {},
     "output_type": "execute_result"
    }
   ],
   "source": [
    "##test the function\n",
    "series_to_json_obj(training_series[0:5])"
   ]
  },
  {
   "cell_type": "markdown",
   "metadata": {},
   "source": [
    "**convert the entire data and save locally** "
   ]
  },
  {
   "cell_type": "code",
   "execution_count": 194,
   "metadata": {},
   "outputs": [],
   "source": [
    "##first create the necessary directories and filenames\n",
    "data_dir = 'json_btc_data'\n",
    "\n",
    "# make data dir, if it does not exist\n",
    "if not os.path.exists(data_dir):\n",
    "    os.makedirs(data_dir)\n",
    "\n",
    "# directories to save train/test data\n",
    "train_path = os.path.join(data_dir, 'train.json')\n",
    "test_path = os.path.join(data_dir, 'test.json')"
   ]
  },
  {
   "cell_type": "code",
   "execution_count": 195,
   "metadata": {},
   "outputs": [],
   "source": [
    "##helper function for writing and saving the json object to a file\n",
    "def write_json_dataset(time_series, filename): \n",
    "    with open(filename, 'wb') as f:\n",
    "        json_line = json.dumps(series_to_json_obj(time_series)) + '\\n'\n",
    "        json_line = json_line.encode('utf-8')\n",
    "        f.write(json_line)\n",
    "    print(filename + ' saved.')"
   ]
  },
  {
   "cell_type": "code",
   "execution_count": 196,
   "metadata": {},
   "outputs": [
    {
     "name": "stdout",
     "output_type": "stream",
     "text": [
      "json_btc_data/train.json saved.\n",
      "json_btc_data/test.json saved.\n"
     ]
    }
   ],
   "source": [
    "# write the train/test JSON files using the above helper function\n",
    "write_json_dataset(training_series, train_path)        \n",
    "write_json_dataset(test_series, test_path)"
   ]
  },
  {
   "cell_type": "markdown",
   "metadata": {},
   "source": [
    "**Upload to S3 bucket where DeepAR can access during training**"
   ]
  },
  {
   "cell_type": "code",
   "execution_count": 197,
   "metadata": {},
   "outputs": [
    {
     "name": "stdout",
     "output_type": "stream",
     "text": [
      "Training data is stored in: s3://sagemaker-us-east-1-005426805090/deepar-btc-data/train/train.json\n",
      "Test data is stored in: s3://sagemaker-us-east-1-005426805090/deepar-btc-data/test/test.json\n"
     ]
    }
   ],
   "source": [
    "# the prefix for S3. Similar to data directory\n",
    "prefix='deepar-btc-data'\n",
    "\n",
    "# *unique* train/test prefixes\n",
    "train_prefix   = '{}/{}'.format(prefix, 'train')\n",
    "test_prefix    = '{}/{}'.format(prefix, 'test')\n",
    "\n",
    "# uploading data to S3, and saving locations\n",
    "train_path  = sagemaker_session.upload_data(train_path, bucket=bucket, key_prefix=train_prefix)\n",
    "test_path   = sagemaker_session.upload_data(test_path,  bucket=bucket, key_prefix=test_prefix)\n",
    "\n",
    "#check if everything was uploaded correctly\n",
    "print('Training data is stored in: '+ train_path)\n",
    "print('Test data is stored in: '+ test_path)"
   ]
  },
  {
   "cell_type": "markdown",
   "metadata": {},
   "source": [
    "### Training DeepAR"
   ]
  },
  {
   "cell_type": "code",
   "execution_count": 198,
   "metadata": {},
   "outputs": [
    {
     "name": "stderr",
     "output_type": "stream",
     "text": [
      "The method get_image_uri has been renamed in sagemaker>=2.\n",
      "See: https://sagemaker.readthedocs.io/en/stable/v2.html for details.\n",
      "Defaulting to the only supported framework/algorithm version: 1. Ignoring framework/algorithm version: 1.\n"
     ]
    }
   ],
   "source": [
    "##configure the image\n",
    "from sagemaker.amazon.amazon_estimator import get_image_uri\n",
    "\n",
    "image_name = get_image_uri(boto3.Session().region_name, # get the region\n",
    "                           'forecasting-deepar') # specify image"
   ]
  },
  {
   "cell_type": "code",
   "execution_count": 199,
   "metadata": {},
   "outputs": [
    {
     "data": {
      "text/plain": [
       "'522234722520.dkr.ecr.us-east-1.amazonaws.com/forecasting-deepar:1'"
      ]
     },
     "execution_count": 199,
     "metadata": {},
     "output_type": "execute_result"
    }
   ],
   "source": [
    "image_name"
   ]
  },
  {
   "cell_type": "code",
   "execution_count": 200,
   "metadata": {},
   "outputs": [
    {
     "name": "stderr",
     "output_type": "stream",
     "text": [
      "train_instance_count has been renamed in sagemaker>=2.\n",
      "See: https://sagemaker.readthedocs.io/en/stable/v2.html for details.\n",
      "train_instance_type has been renamed in sagemaker>=2.\n",
      "See: https://sagemaker.readthedocs.io/en/stable/v2.html for details.\n"
     ]
    }
   ],
   "source": [
    "from sagemaker.estimator import Estimator\n",
    "\n",
    "# dir to save model artifacts\n",
    "s3_output_path = \"s3://{}/{}/output\".format(bucket, prefix)\n",
    "\n",
    "# instantiate a DeepAR estimator\n",
    "estimator = Estimator(sagemaker_session=sagemaker_session,\n",
    "                      image_uri=image_name,\n",
    "                      role=role,\n",
    "                      train_instance_count=1,\n",
    "                      train_instance_type='ml.c4.xlarge',\n",
    "                      output_path=s3_output_path\n",
    "                      )"
   ]
  },
  {
   "cell_type": "code",
   "execution_count": 201,
   "metadata": {},
   "outputs": [],
   "source": [
    "##set the model hyperparameters\n",
    "hyperparameters = {\n",
    "    \"epochs\": \"50\",\n",
    "    \"time_freq\": 'H',\n",
    "    \"prediction_length\": str(prediction_length),\n",
    "    \"context_length\": str(context_length),\n",
    "    \"num_cells\": \"50\",\n",
    "    \"num_layers\": \"2\",\n",
    "    \"mini_batch_size\": \"128\",\n",
    "    \"learning_rate\": \"0.001\",\n",
    "    \"early_stopping_patience\": \"10\"\n",
    "}\n",
    "\n",
    "estimator.set_hyperparameters(**hyperparameters)"
   ]
  },
  {
   "cell_type": "markdown",
   "metadata": {},
   "source": [
    "**Start the training Job** "
   ]
  },
  {
   "cell_type": "code",
   "execution_count": 202,
   "metadata": {},
   "outputs": [
    {
     "name": "stdout",
     "output_type": "stream",
     "text": [
      "2021-10-22 07:09:59 Starting - Starting the training job...\n",
      "2021-10-22 07:10:27 Starting - Launching requested ML instancesProfilerReport-1634886599: InProgress\n",
      "......\n",
      "2021-10-22 07:11:27 Starting - Preparing the instances for training...............\n",
      "2021-10-22 07:13:48 Downloading - Downloading input data...\n",
      "2021-10-22 07:14:28 Training - Training image download completed. Training in progress.\u001b[34mArguments: train\u001b[0m\n",
      "\u001b[34m[10/22/2021 07:14:26 INFO 140662060397952] Reading default configuration from /opt/amazon/lib/python3.6/site-packages/algorithm/resources/default-input.json: {'_kvstore': 'auto', '_num_gpus': 'auto', '_num_kv_servers': 'auto', '_tuning_objective_metric': '', 'cardinality': 'auto', 'dropout_rate': '0.10', 'early_stopping_patience': '', 'embedding_dimension': '10', 'learning_rate': '0.001', 'likelihood': 'student-t', 'mini_batch_size': '128', 'num_cells': '40', 'num_dynamic_feat': 'auto', 'num_eval_samples': '100', 'num_layers': '2', 'test_quantiles': '[0.1, 0.2, 0.3, 0.4, 0.5, 0.6, 0.7, 0.8, 0.9]'}\u001b[0m\n",
      "\u001b[34m[10/22/2021 07:14:26 INFO 140662060397952] Merging with provided configuration from /opt/ml/input/config/hyperparameters.json: {'prediction_length': '168', 'time_freq': 'H', 'context_length': '168', 'num_layers': '2', 'epochs': '50', 'learning_rate': '0.001', 'early_stopping_patience': '10', 'mini_batch_size': '128', 'num_cells': '50'}\u001b[0m\n",
      "\u001b[34m[10/22/2021 07:14:26 INFO 140662060397952] Final configuration: {'_kvstore': 'auto', '_num_gpus': 'auto', '_num_kv_servers': 'auto', '_tuning_objective_metric': '', 'cardinality': 'auto', 'dropout_rate': '0.10', 'early_stopping_patience': '10', 'embedding_dimension': '10', 'learning_rate': '0.001', 'likelihood': 'student-t', 'mini_batch_size': '128', 'num_cells': '50', 'num_dynamic_feat': 'auto', 'num_eval_samples': '100', 'num_layers': '2', 'test_quantiles': '[0.1, 0.2, 0.3, 0.4, 0.5, 0.6, 0.7, 0.8, 0.9]', 'prediction_length': '168', 'time_freq': 'H', 'context_length': '168', 'epochs': '50'}\u001b[0m\n",
      "\u001b[34mProcess 1 is a worker.\u001b[0m\n",
      "\u001b[34m[10/22/2021 07:14:26 INFO 140662060397952] Detected entry point for worker worker\u001b[0m\n",
      "\u001b[34m[10/22/2021 07:14:26 INFO 140662060397952] Using early stopping with patience 10\u001b[0m\n",
      "\u001b[34m[10/22/2021 07:14:26 INFO 140662060397952] random_seed is None\u001b[0m\n",
      "\u001b[34m[10/22/2021 07:14:26 INFO 140662060397952] [cardinality=auto] `cat` field was NOT found in the file `/opt/ml/input/data/train/train.json` and will NOT be used for training.\u001b[0m\n",
      "\u001b[34m[10/22/2021 07:14:26 INFO 140662060397952] [num_dynamic_feat=auto] `dynamic_feat` field was NOT found in the file `/opt/ml/input/data/train/train.json` and will NOT be used for training.\u001b[0m\n",
      "\u001b[34m[10/22/2021 07:14:26 INFO 140662060397952] Training set statistics:\u001b[0m\n",
      "\u001b[34m[10/22/2021 07:14:26 INFO 140662060397952] Real time series\u001b[0m\n",
      "\u001b[34m[10/22/2021 07:14:26 INFO 140662060397952] number of time series: 1\u001b[0m\n",
      "\u001b[34m[10/22/2021 07:14:26 INFO 140662060397952] number of observations: 11233\u001b[0m\n",
      "\u001b[34m[10/22/2021 07:14:26 INFO 140662060397952] mean target length: 11233.0\u001b[0m\n",
      "\u001b[34m[10/22/2021 07:14:26 INFO 140662060397952] min/mean/max target: 4545.41015625/19195.1400338289/61366.3984375\u001b[0m\n",
      "\u001b[34m[10/22/2021 07:14:26 INFO 140662060397952] mean abs(target): 19195.1400338289\u001b[0m\n",
      "\u001b[34m[10/22/2021 07:14:26 INFO 140662060397952] contains missing values: no\u001b[0m\n",
      "\u001b[34m[10/22/2021 07:14:26 INFO 140662060397952] Small number of time series. Doing 1280 passes over dataset with prob 1.0 per epoch.\u001b[0m\n",
      "\u001b[34m[10/22/2021 07:14:26 INFO 140662060397952] Test set statistics:\u001b[0m\n",
      "\u001b[34m[10/22/2021 07:14:26 INFO 140662060397952] Real time series\u001b[0m\n",
      "\u001b[34m[10/22/2021 07:14:26 INFO 140662060397952] number of time series: 1\u001b[0m\n",
      "\u001b[34m[10/22/2021 07:14:26 INFO 140662060397952] number of observations: 11401\u001b[0m\n",
      "\u001b[34m[10/22/2021 07:14:26 INFO 140662060397952] mean target length: 11401.0\u001b[0m\n",
      "\u001b[34m[10/22/2021 07:14:26 INFO 140662060397952] min/mean/max target: 4545.41015625/19804.793263748794/64496.21875\u001b[0m\n",
      "\u001b[34m[10/22/2021 07:14:26 INFO 140662060397952] mean abs(target): 19804.793263748794\u001b[0m\n",
      "\u001b[34m[10/22/2021 07:14:26 INFO 140662060397952] contains missing values: no\u001b[0m\n",
      "\u001b[34m[10/22/2021 07:14:26 INFO 140662060397952] #memory_usage::<batchbuffer> = 407.22618103027344 mb\u001b[0m\n",
      "\u001b[34m[10/22/2021 07:14:26 INFO 140662060397952] nvidia-smi took: 0.025217771530151367 secs to identify 0 gpus\u001b[0m\n",
      "\u001b[34m[10/22/2021 07:14:26 INFO 140662060397952] Number of GPUs being used: 0\u001b[0m\n",
      "\u001b[34m[10/22/2021 07:14:26 INFO 140662060397952] Create Store: local\u001b[0m\n",
      "\u001b[34m#metrics {\"StartTime\": 1634886866.793028, \"EndTime\": 1634886871.8659415, \"Dimensions\": {\"Algorithm\": \"AWS/DeepAR\", \"Host\": \"algo-1\", \"Operation\": \"training\"}, \"Metrics\": {\"get_graph.time\": {\"sum\": 5070.53017616272, \"count\": 1, \"min\": 5070.53017616272, \"max\": 5070.53017616272}}}\n",
      "\u001b[0m\n",
      "\u001b[34m[10/22/2021 07:14:31 INFO 140662060397952] Number of GPUs being used: 0\u001b[0m\n",
      "\u001b[34m[10/22/2021 07:14:33 INFO 140662060397952] #memory_usage::<model> = 376 mb\u001b[0m\n",
      "\u001b[34m#metrics {\"StartTime\": 1634886871.8660526, \"EndTime\": 1634886873.613495, \"Dimensions\": {\"Algorithm\": \"AWS/DeepAR\", \"Host\": \"algo-1\", \"Operation\": \"training\"}, \"Metrics\": {\"initialize.time\": {\"sum\": 6820.335388183594, \"count\": 1, \"min\": 6820.335388183594, \"max\": 6820.335388183594}}}\n",
      "\u001b[0m\n",
      "\u001b[34m[10/22/2021 07:14:37 INFO 140662060397952] Epoch[0] Batch[0] avg_epoch_loss=11.545093\u001b[0m\n",
      "\u001b[34m[10/22/2021 07:14:37 INFO 140662060397952] #quality_metric: host=algo-1, epoch=0, batch=0 train loss <loss>=11.545092582702637\u001b[0m\n",
      "\u001b[34m[10/22/2021 07:14:43 INFO 140662060397952] Epoch[0] Batch[5] avg_epoch_loss=10.653803\u001b[0m\n",
      "\u001b[34m[10/22/2021 07:14:43 INFO 140662060397952] #quality_metric: host=algo-1, epoch=0, batch=5 train loss <loss>=10.653802553812662\u001b[0m\n",
      "\u001b[34m[10/22/2021 07:14:43 INFO 140662060397952] Epoch[0] Batch [5]#011Speed: 105.00 samples/sec#011loss=10.653803\u001b[0m\n",
      "\u001b[34m[10/22/2021 07:14:50 INFO 140662060397952] Epoch[0] Batch[10] avg_epoch_loss=10.374456\u001b[0m\n",
      "\u001b[34m[10/22/2021 07:14:50 INFO 140662060397952] #quality_metric: host=algo-1, epoch=0, batch=10 train loss <loss>=10.039239311218262\u001b[0m\n",
      "\u001b[34m[10/22/2021 07:14:50 INFO 140662060397952] Epoch[0] Batch [10]#011Speed: 101.39 samples/sec#011loss=10.039239\u001b[0m\n",
      "\u001b[34m/opt/amazon/python3.6/lib/python3.6/contextlib.py:99: DeprecationWarning: generator 'local_timer' raised StopIteration\n",
      "  self.gen.throw(type, value, traceback)\u001b[0m\n",
      "\u001b[34m[10/22/2021 07:14:50 INFO 140662060397952] processed a total of 1309 examples\u001b[0m\n",
      "\u001b[34m#metrics {\"StartTime\": 1634886873.6135805, \"EndTime\": 1634886890.079839, \"Dimensions\": {\"Algorithm\": \"AWS/DeepAR\", \"Host\": \"algo-1\", \"Operation\": \"training\"}, \"Metrics\": {\"epochs\": {\"sum\": 50.0, \"count\": 1, \"min\": 50, \"max\": 50}, \"update.time\": {\"sum\": 16466.142654418945, \"count\": 1, \"min\": 16466.142654418945, \"max\": 16466.142654418945}}}\n",
      "\u001b[0m\n",
      "\u001b[34m[10/22/2021 07:14:50 INFO 140662060397952] #throughput_metric: host=algo-1, train throughput=79.49559938337867 records/second\u001b[0m\n",
      "\u001b[34m[10/22/2021 07:14:50 INFO 140662060397952] #progress_metric: host=algo-1, completed 2.0 % of epochs\u001b[0m\n",
      "\u001b[34m[10/22/2021 07:14:50 INFO 140662060397952] #quality_metric: host=algo-1, epoch=0, train loss <loss>=10.374455625360662\u001b[0m\n",
      "\u001b[34m[10/22/2021 07:14:50 INFO 140662060397952] best epoch loss so far\u001b[0m\n",
      "\u001b[34m[10/22/2021 07:14:50 INFO 140662060397952] Saved checkpoint to \"/opt/ml/model/state_6d09647a-8aa9-47b8-9d93-9c5c397a3103-0000.params\"\u001b[0m\n",
      "\u001b[34m#metrics {\"StartTime\": 1634886890.0799623, \"EndTime\": 1634886890.2107284, \"Dimensions\": {\"Algorithm\": \"AWS/DeepAR\", \"Host\": \"algo-1\", \"Operation\": \"training\"}, \"Metrics\": {\"state.serialize.time\": {\"sum\": 130.06210327148438, \"count\": 1, \"min\": 130.06210327148438, \"max\": 130.06210327148438}}}\n",
      "\u001b[0m\n",
      "\u001b[34m[10/22/2021 07:14:53 INFO 140662060397952] Epoch[1] Batch[0] avg_epoch_loss=9.714803\u001b[0m\n",
      "\u001b[34m[10/22/2021 07:14:53 INFO 140662060397952] #quality_metric: host=algo-1, epoch=1, batch=0 train loss <loss>=9.714802742004395\u001b[0m\n",
      "\u001b[34m[10/22/2021 07:14:59 INFO 140662060397952] Epoch[1] Batch[5] avg_epoch_loss=9.529687\u001b[0m\n",
      "\u001b[34m[10/22/2021 07:14:59 INFO 140662060397952] #quality_metric: host=algo-1, epoch=1, batch=5 train loss <loss>=9.529686768849691\u001b[0m\n",
      "\u001b[34m[10/22/2021 07:14:59 INFO 140662060397952] Epoch[1] Batch [5]#011Speed: 111.28 samples/sec#011loss=9.529687\u001b[0m\n",
      "\u001b[34m[10/22/2021 07:15:06 INFO 140662060397952] Epoch[1] Batch[10] avg_epoch_loss=9.300928\u001b[0m\n",
      "\u001b[34m[10/22/2021 07:15:06 INFO 140662060397952] #quality_metric: host=algo-1, epoch=1, batch=10 train loss <loss>=9.026417350769043\u001b[0m\n",
      "\u001b[34m[10/22/2021 07:15:06 INFO 140662060397952] Epoch[1] Batch [10]#011Speed: 93.21 samples/sec#011loss=9.026417\u001b[0m\n",
      "\u001b[34m[10/22/2021 07:15:06 INFO 140662060397952] processed a total of 1283 examples\u001b[0m\n",
      "\u001b[34m#metrics {\"StartTime\": 1634886890.2108343, \"EndTime\": 1634886906.3510342, \"Dimensions\": {\"Algorithm\": \"AWS/DeepAR\", \"Host\": \"algo-1\", \"Operation\": \"training\"}, \"Metrics\": {\"update.time\": {\"sum\": 16140.109539031982, \"count\": 1, \"min\": 16140.109539031982, \"max\": 16140.109539031982}}}\n",
      "\u001b[0m\n",
      "\u001b[34m[10/22/2021 07:15:06 INFO 140662060397952] #throughput_metric: host=algo-1, train throughput=79.49070380006098 records/second\u001b[0m\n",
      "\u001b[34m[10/22/2021 07:15:06 INFO 140662060397952] #progress_metric: host=algo-1, completed 4.0 % of epochs\u001b[0m\n",
      "\u001b[34m[10/22/2021 07:15:06 INFO 140662060397952] #quality_metric: host=algo-1, epoch=1, train loss <loss>=9.300927942449396\u001b[0m\n",
      "\u001b[34m[10/22/2021 07:15:06 INFO 140662060397952] best epoch loss so far\u001b[0m\n",
      "\u001b[34m[10/22/2021 07:15:06 INFO 140662060397952] Saved checkpoint to \"/opt/ml/model/state_9b5bc345-278b-4707-a11e-55564b455aad-0000.params\"\u001b[0m\n",
      "\u001b[34m#metrics {\"StartTime\": 1634886906.3511293, \"EndTime\": 1634886906.4807806, \"Dimensions\": {\"Algorithm\": \"AWS/DeepAR\", \"Host\": \"algo-1\", \"Operation\": \"training\"}, \"Metrics\": {\"state.serialize.time\": {\"sum\": 129.0738582611084, \"count\": 1, \"min\": 129.0738582611084, \"max\": 129.0738582611084}}}\n",
      "\u001b[0m\n",
      "\u001b[34m[10/22/2021 07:15:10 INFO 140662060397952] Epoch[2] Batch[0] avg_epoch_loss=9.149503\u001b[0m\n",
      "\u001b[34m[10/22/2021 07:15:10 INFO 140662060397952] #quality_metric: host=algo-1, epoch=2, batch=0 train loss <loss>=9.149502754211426\u001b[0m\n",
      "\u001b[34m[10/22/2021 07:15:15 INFO 140662060397952] Epoch[2] Batch[5] avg_epoch_loss=8.989179\u001b[0m\n",
      "\u001b[34m[10/22/2021 07:15:15 INFO 140662060397952] #quality_metric: host=algo-1, epoch=2, batch=5 train loss <loss>=8.989179293314615\u001b[0m\n",
      "\u001b[34m[10/22/2021 07:15:15 INFO 140662060397952] Epoch[2] Batch [5]#011Speed: 111.67 samples/sec#011loss=8.989179\u001b[0m\n",
      "\u001b[34m[10/22/2021 07:15:21 INFO 140662060397952] Epoch[2] Batch[10] avg_epoch_loss=8.991016\u001b[0m\n",
      "\u001b[34m[10/22/2021 07:15:21 INFO 140662060397952] #quality_metric: host=algo-1, epoch=2, batch=10 train loss <loss>=8.993219947814941\u001b[0m\n",
      "\u001b[34m[10/22/2021 07:15:21 INFO 140662060397952] Epoch[2] Batch [10]#011Speed: 103.42 samples/sec#011loss=8.993220\u001b[0m\n",
      "\u001b[34m[10/22/2021 07:15:21 INFO 140662060397952] processed a total of 1284 examples\u001b[0m\n",
      "\u001b[34m#metrics {\"StartTime\": 1634886906.4808846, \"EndTime\": 1634886921.927894, \"Dimensions\": {\"Algorithm\": \"AWS/DeepAR\", \"Host\": \"algo-1\", \"Operation\": \"training\"}, \"Metrics\": {\"update.time\": {\"sum\": 15446.913480758667, \"count\": 1, \"min\": 15446.913480758667, \"max\": 15446.913480758667}}}\n",
      "\u001b[0m\n",
      "\u001b[34m[10/22/2021 07:15:21 INFO 140662060397952] #throughput_metric: host=algo-1, train throughput=83.12258994811582 records/second\u001b[0m\n",
      "\u001b[34m[10/22/2021 07:15:21 INFO 140662060397952] #progress_metric: host=algo-1, completed 6.0 % of epochs\u001b[0m\n",
      "\u001b[34m[10/22/2021 07:15:21 INFO 140662060397952] #quality_metric: host=algo-1, epoch=2, train loss <loss>=8.991015954451127\u001b[0m\n",
      "\u001b[34m[10/22/2021 07:15:21 INFO 140662060397952] best epoch loss so far\u001b[0m\n",
      "\u001b[34m[10/22/2021 07:15:22 INFO 140662060397952] Saved checkpoint to \"/opt/ml/model/state_5b824a0d-80ea-4d96-ad54-771eeec1ab9e-0000.params\"\u001b[0m\n",
      "\u001b[34m#metrics {\"StartTime\": 1634886921.9279957, \"EndTime\": 1634886922.116658, \"Dimensions\": {\"Algorithm\": \"AWS/DeepAR\", \"Host\": \"algo-1\", \"Operation\": \"training\"}, \"Metrics\": {\"state.serialize.time\": {\"sum\": 188.0784034729004, \"count\": 1, \"min\": 188.0784034729004, \"max\": 188.0784034729004}}}\n",
      "\u001b[0m\n",
      "\u001b[34m[10/22/2021 07:15:25 INFO 140662060397952] Epoch[3] Batch[0] avg_epoch_loss=8.968222\u001b[0m\n",
      "\u001b[34m[10/22/2021 07:15:25 INFO 140662060397952] #quality_metric: host=algo-1, epoch=3, batch=0 train loss <loss>=8.968221664428711\u001b[0m\n",
      "\u001b[34m[10/22/2021 07:15:31 INFO 140662060397952] Epoch[3] Batch[5] avg_epoch_loss=8.812082\u001b[0m\n",
      "\u001b[34m[10/22/2021 07:15:31 INFO 140662060397952] #quality_metric: host=algo-1, epoch=3, batch=5 train loss <loss>=8.812081813812256\u001b[0m\n",
      "\u001b[34m[10/22/2021 07:15:31 INFO 140662060397952] Epoch[3] Batch [5]#011Speed: 112.18 samples/sec#011loss=8.812082\u001b[0m\n",
      "\u001b[34m[10/22/2021 07:15:37 INFO 140662060397952] Epoch[3] Batch[10] avg_epoch_loss=8.758674\u001b[0m\n",
      "\u001b[34m[10/22/2021 07:15:37 INFO 140662060397952] #quality_metric: host=algo-1, epoch=3, batch=10 train loss <loss>=8.694585227966309\u001b[0m\n",
      "\u001b[34m[10/22/2021 07:15:37 INFO 140662060397952] Epoch[3] Batch [10]#011Speed: 106.48 samples/sec#011loss=8.694585\u001b[0m\n",
      "\u001b[34m[10/22/2021 07:15:37 INFO 140662060397952] processed a total of 1306 examples\u001b[0m\n",
      "\u001b[34m#metrics {\"StartTime\": 1634886922.1167588, \"EndTime\": 1634886937.409851, \"Dimensions\": {\"Algorithm\": \"AWS/DeepAR\", \"Host\": \"algo-1\", \"Operation\": \"training\"}, \"Metrics\": {\"update.time\": {\"sum\": 15292.996644973755, \"count\": 1, \"min\": 15292.996644973755, \"max\": 15292.996644973755}}}\n",
      "\u001b[0m\n",
      "\u001b[34m[10/22/2021 07:15:37 INFO 140662060397952] #throughput_metric: host=algo-1, train throughput=85.39775496375839 records/second\u001b[0m\n",
      "\u001b[34m[10/22/2021 07:15:37 INFO 140662060397952] #progress_metric: host=algo-1, completed 8.0 % of epochs\u001b[0m\n",
      "\u001b[34m[10/22/2021 07:15:37 INFO 140662060397952] #quality_metric: host=algo-1, epoch=3, train loss <loss>=8.758674274791371\u001b[0m\n",
      "\u001b[34m[10/22/2021 07:15:37 INFO 140662060397952] best epoch loss so far\u001b[0m\n",
      "\u001b[34m[10/22/2021 07:15:37 INFO 140662060397952] Saved checkpoint to \"/opt/ml/model/state_cb86aa04-b7ef-4ff7-a21d-ae2609e6a6b6-0000.params\"\u001b[0m\n",
      "\u001b[34m#metrics {\"StartTime\": 1634886937.4099474, \"EndTime\": 1634886937.524545, \"Dimensions\": {\"Algorithm\": \"AWS/DeepAR\", \"Host\": \"algo-1\", \"Operation\": \"training\"}, \"Metrics\": {\"state.serialize.time\": {\"sum\": 113.97671699523926, \"count\": 1, \"min\": 113.97671699523926, \"max\": 113.97671699523926}}}\n",
      "\u001b[0m\n",
      "\u001b[34m[10/22/2021 07:15:41 INFO 140662060397952] Epoch[4] Batch[0] avg_epoch_loss=8.958903\u001b[0m\n",
      "\u001b[34m[10/22/2021 07:15:41 INFO 140662060397952] #quality_metric: host=algo-1, epoch=4, batch=0 train loss <loss>=8.958903312683105\u001b[0m\n",
      "\u001b[34m[10/22/2021 07:15:46 INFO 140662060397952] Epoch[4] Batch[5] avg_epoch_loss=8.830585\u001b[0m\n",
      "\u001b[34m[10/22/2021 07:15:46 INFO 140662060397952] #quality_metric: host=algo-1, epoch=4, batch=5 train loss <loss>=8.830585161844889\u001b[0m\n",
      "\u001b[34m[10/22/2021 07:15:46 INFO 140662060397952] Epoch[4] Batch [5]#011Speed: 111.99 samples/sec#011loss=8.830585\u001b[0m\n",
      "\u001b[34m[10/22/2021 07:15:51 INFO 140662060397952] processed a total of 1251 examples\u001b[0m\n",
      "\u001b[34m#metrics {\"StartTime\": 1634886937.5246406, \"EndTime\": 1634886951.5539563, \"Dimensions\": {\"Algorithm\": \"AWS/DeepAR\", \"Host\": \"algo-1\", \"Operation\": \"training\"}, \"Metrics\": {\"update.time\": {\"sum\": 14029.222249984741, \"count\": 1, \"min\": 14029.222249984741, \"max\": 14029.222249984741}}}\n",
      "\u001b[0m\n",
      "\u001b[34m[10/22/2021 07:15:51 INFO 140662060397952] #throughput_metric: host=algo-1, train throughput=89.16930349665665 records/second\u001b[0m\n",
      "\u001b[34m[10/22/2021 07:15:51 INFO 140662060397952] #progress_metric: host=algo-1, completed 10.0 % of epochs\u001b[0m\n",
      "\u001b[34m[10/22/2021 07:15:51 INFO 140662060397952] #quality_metric: host=algo-1, epoch=4, train loss <loss>=8.791959476470947\u001b[0m\n",
      "\u001b[34m[10/22/2021 07:15:51 INFO 140662060397952] loss did not improve\u001b[0m\n",
      "\u001b[34m[10/22/2021 07:15:55 INFO 140662060397952] Epoch[5] Batch[0] avg_epoch_loss=8.731094\u001b[0m\n",
      "\u001b[34m[10/22/2021 07:15:55 INFO 140662060397952] #quality_metric: host=algo-1, epoch=5, batch=0 train loss <loss>=8.731094360351562\u001b[0m\n",
      "\u001b[34m[10/22/2021 07:16:00 INFO 140662060397952] Epoch[5] Batch[5] avg_epoch_loss=8.642163\u001b[0m\n",
      "\u001b[34m[10/22/2021 07:16:00 INFO 140662060397952] #quality_metric: host=algo-1, epoch=5, batch=5 train loss <loss>=8.642162799835205\u001b[0m\n",
      "\u001b[34m[10/22/2021 07:16:00 INFO 140662060397952] Epoch[5] Batch [5]#011Speed: 112.46 samples/sec#011loss=8.642163\u001b[0m\n",
      "\u001b[34m[10/22/2021 07:16:06 INFO 140662060397952] processed a total of 1264 examples\u001b[0m\n",
      "\u001b[34m#metrics {\"StartTime\": 1634886951.554066, \"EndTime\": 1634886966.3532684, \"Dimensions\": {\"Algorithm\": \"AWS/DeepAR\", \"Host\": \"algo-1\", \"Operation\": \"training\"}, \"Metrics\": {\"update.time\": {\"sum\": 14798.182010650635, \"count\": 1, \"min\": 14798.182010650635, \"max\": 14798.182010650635}}}\n",
      "\u001b[0m\n",
      "\u001b[34m[10/22/2021 07:16:06 INFO 140662060397952] #throughput_metric: host=algo-1, train throughput=85.41508159020074 records/second\u001b[0m\n",
      "\u001b[34m[10/22/2021 07:16:06 INFO 140662060397952] #progress_metric: host=algo-1, completed 12.0 % of epochs\u001b[0m\n",
      "\u001b[34m[10/22/2021 07:16:06 INFO 140662060397952] #quality_metric: host=algo-1, epoch=5, train loss <loss>=8.592293453216552\u001b[0m\n",
      "\u001b[34m[10/22/2021 07:16:06 INFO 140662060397952] best epoch loss so far\u001b[0m\n",
      "\u001b[34m[10/22/2021 07:16:06 INFO 140662060397952] Saved checkpoint to \"/opt/ml/model/state_fcc54251-44ad-49fd-a7e2-27c476edc513-0000.params\"\u001b[0m\n",
      "\u001b[34m#metrics {\"StartTime\": 1634886966.3533614, \"EndTime\": 1634886966.4764726, \"Dimensions\": {\"Algorithm\": \"AWS/DeepAR\", \"Host\": \"algo-1\", \"Operation\": \"training\"}, \"Metrics\": {\"state.serialize.time\": {\"sum\": 122.44749069213867, \"count\": 1, \"min\": 122.44749069213867, \"max\": 122.44749069213867}}}\n",
      "\u001b[0m\n",
      "\u001b[34m[10/22/2021 07:16:10 INFO 140662060397952] Epoch[6] Batch[0] avg_epoch_loss=8.491213\u001b[0m\n",
      "\u001b[34m[10/22/2021 07:16:10 INFO 140662060397952] #quality_metric: host=algo-1, epoch=6, batch=0 train loss <loss>=8.491212844848633\u001b[0m\n",
      "\u001b[34m[10/22/2021 07:16:15 INFO 140662060397952] Epoch[6] Batch[5] avg_epoch_loss=8.471213\u001b[0m\n",
      "\u001b[34m[10/22/2021 07:16:15 INFO 140662060397952] #quality_metric: host=algo-1, epoch=6, batch=5 train loss <loss>=8.4712127049764\u001b[0m\n",
      "\u001b[34m[10/22/2021 07:16:15 INFO 140662060397952] Epoch[6] Batch [5]#011Speed: 110.28 samples/sec#011loss=8.471213\u001b[0m\n",
      "\u001b[34m[10/22/2021 07:16:21 INFO 140662060397952] Epoch[6] Batch[10] avg_epoch_loss=8.410609\u001b[0m\n",
      "\u001b[34m[10/22/2021 07:16:21 INFO 140662060397952] #quality_metric: host=algo-1, epoch=6, batch=10 train loss <loss>=8.337884521484375\u001b[0m\n",
      "\u001b[34m[10/22/2021 07:16:21 INFO 140662060397952] Epoch[6] Batch [10]#011Speed: 103.93 samples/sec#011loss=8.337885\u001b[0m\n",
      "\u001b[34m[10/22/2021 07:16:21 INFO 140662060397952] processed a total of 1283 examples\u001b[0m\n",
      "\u001b[34m#metrics {\"StartTime\": 1634886966.4765706, \"EndTime\": 1634886981.9717216, \"Dimensions\": {\"Algorithm\": \"AWS/DeepAR\", \"Host\": \"algo-1\", \"Operation\": \"training\"}, \"Metrics\": {\"update.time\": {\"sum\": 15495.05591392517, \"count\": 1, \"min\": 15495.05591392517, \"max\": 15495.05591392517}}}\n",
      "\u001b[0m\n",
      "\u001b[34m[10/22/2021 07:16:21 INFO 140662060397952] #throughput_metric: host=algo-1, train throughput=82.79979572747929 records/second\u001b[0m\n",
      "\u001b[34m[10/22/2021 07:16:21 INFO 140662060397952] #progress_metric: host=algo-1, completed 14.0 % of epochs\u001b[0m\n",
      "\u001b[34m[10/22/2021 07:16:21 INFO 140662060397952] #quality_metric: host=algo-1, epoch=6, train loss <loss>=8.410608985207297\u001b[0m\n",
      "\u001b[34m[10/22/2021 07:16:21 INFO 140662060397952] best epoch loss so far\u001b[0m\n",
      "\u001b[34m[10/22/2021 07:16:22 INFO 140662060397952] Saved checkpoint to \"/opt/ml/model/state_aff1de21-ff8a-4399-81af-01f8c6825f14-0000.params\"\u001b[0m\n",
      "\u001b[34m#metrics {\"StartTime\": 1634886981.9718242, \"EndTime\": 1634886982.090116, \"Dimensions\": {\"Algorithm\": \"AWS/DeepAR\", \"Host\": \"algo-1\", \"Operation\": \"training\"}, \"Metrics\": {\"state.serialize.time\": {\"sum\": 117.67911911010742, \"count\": 1, \"min\": 117.67911911010742, \"max\": 117.67911911010742}}}\n",
      "\u001b[0m\n",
      "\u001b[34m[10/22/2021 07:16:25 INFO 140662060397952] Epoch[7] Batch[0] avg_epoch_loss=8.961001\u001b[0m\n",
      "\u001b[34m[10/22/2021 07:16:25 INFO 140662060397952] #quality_metric: host=algo-1, epoch=7, batch=0 train loss <loss>=8.9610013961792\u001b[0m\n",
      "\u001b[34m[10/22/2021 07:16:31 INFO 140662060397952] Epoch[7] Batch[5] avg_epoch_loss=8.691421\u001b[0m\n",
      "\u001b[34m[10/22/2021 07:16:31 INFO 140662060397952] #quality_metric: host=algo-1, epoch=7, batch=5 train loss <loss>=8.691420714060465\u001b[0m\n",
      "\u001b[34m[10/22/2021 07:16:31 INFO 140662060397952] Epoch[7] Batch [5]#011Speed: 111.96 samples/sec#011loss=8.691421\u001b[0m\n",
      "\u001b[34m[10/22/2021 07:16:36 INFO 140662060397952] processed a total of 1262 examples\u001b[0m\n",
      "\u001b[34m#metrics {\"StartTime\": 1634886982.0902212, \"EndTime\": 1634886996.0899808, \"Dimensions\": {\"Algorithm\": \"AWS/DeepAR\", \"Host\": \"algo-1\", \"Operation\": \"training\"}, \"Metrics\": {\"update.time\": {\"sum\": 13999.669551849365, \"count\": 1, \"min\": 13999.669551849365, \"max\": 13999.669551849365}}}\n",
      "\u001b[0m\n",
      "\u001b[34m[10/22/2021 07:16:36 INFO 140662060397952] #throughput_metric: host=algo-1, train throughput=90.14405455525522 records/second\u001b[0m\n",
      "\u001b[34m[10/22/2021 07:16:36 INFO 140662060397952] #progress_metric: host=algo-1, completed 16.0 % of epochs\u001b[0m\n",
      "\u001b[34m[10/22/2021 07:16:36 INFO 140662060397952] #quality_metric: host=algo-1, epoch=7, train loss <loss>=8.646476936340331\u001b[0m\n",
      "\u001b[34m[10/22/2021 07:16:36 INFO 140662060397952] loss did not improve\u001b[0m\n",
      "\u001b[34m[10/22/2021 07:16:39 INFO 140662060397952] Epoch[8] Batch[0] avg_epoch_loss=8.453863\u001b[0m\n",
      "\u001b[34m[10/22/2021 07:16:39 INFO 140662060397952] #quality_metric: host=algo-1, epoch=8, batch=0 train loss <loss>=8.453863143920898\u001b[0m\n",
      "\u001b[34m[10/22/2021 07:16:45 INFO 140662060397952] Epoch[8] Batch[5] avg_epoch_loss=8.470521\u001b[0m\n",
      "\u001b[34m[10/22/2021 07:16:45 INFO 140662060397952] #quality_metric: host=algo-1, epoch=8, batch=5 train loss <loss>=8.470521132151285\u001b[0m\n",
      "\u001b[34m[10/22/2021 07:16:45 INFO 140662060397952] Epoch[8] Batch [5]#011Speed: 112.18 samples/sec#011loss=8.470521\u001b[0m\n",
      "\u001b[34m[10/22/2021 07:16:50 INFO 140662060397952] processed a total of 1272 examples\u001b[0m\n",
      "\u001b[34m#metrics {\"StartTime\": 1634886996.090077, \"EndTime\": 1634887010.2071662, \"Dimensions\": {\"Algorithm\": \"AWS/DeepAR\", \"Host\": \"algo-1\", \"Operation\": \"training\"}, \"Metrics\": {\"update.time\": {\"sum\": 14116.368055343628, \"count\": 1, \"min\": 14116.368055343628, \"max\": 14116.368055343628}}}\n",
      "\u001b[0m\n",
      "\u001b[34m[10/22/2021 07:16:50 INFO 140662060397952] #throughput_metric: host=algo-1, train throughput=90.10732489664981 records/second\u001b[0m\n",
      "\u001b[34m[10/22/2021 07:16:50 INFO 140662060397952] #progress_metric: host=algo-1, completed 18.0 % of epochs\u001b[0m\n",
      "\u001b[34m[10/22/2021 07:16:50 INFO 140662060397952] #quality_metric: host=algo-1, epoch=8, train loss <loss>=8.42539873123169\u001b[0m\n",
      "\u001b[34m[10/22/2021 07:16:50 INFO 140662060397952] loss did not improve\u001b[0m\n",
      "\u001b[34m[10/22/2021 07:16:53 INFO 140662060397952] Epoch[9] Batch[0] avg_epoch_loss=8.268127\u001b[0m\n",
      "\u001b[34m[10/22/2021 07:16:53 INFO 140662060397952] #quality_metric: host=algo-1, epoch=9, batch=0 train loss <loss>=8.26812744140625\u001b[0m\n",
      "\u001b[34m[10/22/2021 07:16:59 INFO 140662060397952] Epoch[9] Batch[5] avg_epoch_loss=8.239081\u001b[0m\n",
      "\u001b[34m[10/22/2021 07:16:59 INFO 140662060397952] #quality_metric: host=algo-1, epoch=9, batch=5 train loss <loss>=8.239081382751465\u001b[0m\n",
      "\u001b[34m[10/22/2021 07:16:59 INFO 140662060397952] Epoch[9] Batch [5]#011Speed: 112.34 samples/sec#011loss=8.239081\u001b[0m\n",
      "\u001b[34m[10/22/2021 07:17:04 INFO 140662060397952] processed a total of 1185 examples\u001b[0m\n",
      "\u001b[34m#metrics {\"StartTime\": 1634887010.2072523, \"EndTime\": 1634887024.8739862, \"Dimensions\": {\"Algorithm\": \"AWS/DeepAR\", \"Host\": \"algo-1\", \"Operation\": \"training\"}, \"Metrics\": {\"update.time\": {\"sum\": 14666.120052337646, \"count\": 1, \"min\": 14666.120052337646, \"max\": 14666.120052337646}}}\n",
      "\u001b[0m\n",
      "\u001b[34m[10/22/2021 07:17:04 INFO 140662060397952] #throughput_metric: host=algo-1, train throughput=80.79745839924755 records/second\u001b[0m\n",
      "\u001b[34m[10/22/2021 07:17:04 INFO 140662060397952] #progress_metric: host=algo-1, completed 20.0 % of epochs\u001b[0m\n",
      "\u001b[34m[10/22/2021 07:17:04 INFO 140662060397952] #quality_metric: host=algo-1, epoch=9, train loss <loss>=8.215496444702149\u001b[0m\n",
      "\u001b[34m[10/22/2021 07:17:04 INFO 140662060397952] best epoch loss so far\u001b[0m\n",
      "\u001b[34m[10/22/2021 07:17:05 INFO 140662060397952] Saved checkpoint to \"/opt/ml/model/state_ea4ea9b6-9408-488e-b393-d1a99008c067-0000.params\"\u001b[0m\n",
      "\u001b[34m#metrics {\"StartTime\": 1634887024.8741174, \"EndTime\": 1634887025.0103953, \"Dimensions\": {\"Algorithm\": \"AWS/DeepAR\", \"Host\": \"algo-1\", \"Operation\": \"training\"}, \"Metrics\": {\"state.serialize.time\": {\"sum\": 135.34212112426758, \"count\": 1, \"min\": 135.34212112426758, \"max\": 135.34212112426758}}}\n",
      "\u001b[0m\n",
      "\u001b[34m[10/22/2021 07:17:08 INFO 140662060397952] Epoch[10] Batch[0] avg_epoch_loss=9.405314\u001b[0m\n",
      "\u001b[34m[10/22/2021 07:17:08 INFO 140662060397952] #quality_metric: host=algo-1, epoch=10, batch=0 train loss <loss>=9.405314445495605\u001b[0m\n",
      "\u001b[34m[10/22/2021 07:17:14 INFO 140662060397952] Epoch[10] Batch[5] avg_epoch_loss=8.784430\u001b[0m\n",
      "\u001b[34m[10/22/2021 07:17:14 INFO 140662060397952] #quality_metric: host=algo-1, epoch=10, batch=5 train loss <loss>=8.784430344899496\u001b[0m\n",
      "\u001b[34m[10/22/2021 07:17:14 INFO 140662060397952] Epoch[10] Batch [5]#011Speed: 111.69 samples/sec#011loss=8.784430\u001b[0m\n",
      "\u001b[34m[10/22/2021 07:17:20 INFO 140662060397952] Epoch[10] Batch[10] avg_epoch_loss=8.631101\u001b[0m\n",
      "\u001b[34m[10/22/2021 07:17:20 INFO 140662060397952] #quality_metric: host=algo-1, epoch=10, batch=10 train loss <loss>=8.447105026245117\u001b[0m\n",
      "\u001b[34m[10/22/2021 07:17:20 INFO 140662060397952] Epoch[10] Batch [10]#011Speed: 105.52 samples/sec#011loss=8.447105\u001b[0m\n",
      "\u001b[34m[10/22/2021 07:17:20 INFO 140662060397952] processed a total of 1303 examples\u001b[0m\n",
      "\u001b[34m#metrics {\"StartTime\": 1634887025.0104945, \"EndTime\": 1634887040.5546122, \"Dimensions\": {\"Algorithm\": \"AWS/DeepAR\", \"Host\": \"algo-1\", \"Operation\": \"training\"}, \"Metrics\": {\"update.time\": {\"sum\": 15544.030904769897, \"count\": 1, \"min\": 15544.030904769897, \"max\": 15544.030904769897}}}\n",
      "\u001b[0m\n",
      "\u001b[34m[10/22/2021 07:17:20 INFO 140662060397952] #throughput_metric: host=algo-1, train throughput=83.82571004887961 records/second\u001b[0m\n",
      "\u001b[34m[10/22/2021 07:17:20 INFO 140662060397952] #progress_metric: host=algo-1, completed 22.0 % of epochs\u001b[0m\n",
      "\u001b[34m[10/22/2021 07:17:20 INFO 140662060397952] #quality_metric: host=algo-1, epoch=10, train loss <loss>=8.63110065460205\u001b[0m\n",
      "\u001b[34m[10/22/2021 07:17:20 INFO 140662060397952] loss did not improve\u001b[0m\n",
      "\u001b[34m[10/22/2021 07:17:24 INFO 140662060397952] Epoch[11] Batch[0] avg_epoch_loss=8.732596\u001b[0m\n",
      "\u001b[34m[10/22/2021 07:17:24 INFO 140662060397952] #quality_metric: host=algo-1, epoch=11, batch=0 train loss <loss>=8.732596397399902\u001b[0m\n",
      "\u001b[34m[10/22/2021 07:17:29 INFO 140662060397952] Epoch[11] Batch[5] avg_epoch_loss=8.415169\u001b[0m\n",
      "\u001b[34m[10/22/2021 07:17:29 INFO 140662060397952] #quality_metric: host=algo-1, epoch=11, batch=5 train loss <loss>=8.415168603261312\u001b[0m\n",
      "\u001b[34m[10/22/2021 07:17:29 INFO 140662060397952] Epoch[11] Batch [5]#011Speed: 112.31 samples/sec#011loss=8.415169\u001b[0m\n",
      "\u001b[34m[10/22/2021 07:17:34 INFO 140662060397952] processed a total of 1264 examples\u001b[0m\n",
      "\u001b[34m#metrics {\"StartTime\": 1634887040.5546978, \"EndTime\": 1634887054.570711, \"Dimensions\": {\"Algorithm\": \"AWS/DeepAR\", \"Host\": \"algo-1\", \"Operation\": \"training\"}, \"Metrics\": {\"update.time\": {\"sum\": 14015.374660491943, \"count\": 1, \"min\": 14015.374660491943, \"max\": 14015.374660491943}}}\n",
      "\u001b[0m\n",
      "\u001b[34m[10/22/2021 07:17:34 INFO 140662060397952] #throughput_metric: host=algo-1, train throughput=90.18581611389241 records/second\u001b[0m\n",
      "\u001b[34m[10/22/2021 07:17:34 INFO 140662060397952] #progress_metric: host=algo-1, completed 24.0 % of epochs\u001b[0m\n",
      "\u001b[34m[10/22/2021 07:17:34 INFO 140662060397952] #quality_metric: host=algo-1, epoch=11, train loss <loss>=8.362622356414795\u001b[0m\n",
      "\u001b[34m[10/22/2021 07:17:34 INFO 140662060397952] loss did not improve\u001b[0m\n",
      "\u001b[34m[10/22/2021 07:17:38 INFO 140662060397952] Epoch[12] Batch[0] avg_epoch_loss=8.293902\u001b[0m\n",
      "\u001b[34m[10/22/2021 07:17:38 INFO 140662060397952] #quality_metric: host=algo-1, epoch=12, batch=0 train loss <loss>=8.293902397155762\u001b[0m\n",
      "\u001b[34m[10/22/2021 07:17:43 INFO 140662060397952] Epoch[12] Batch[5] avg_epoch_loss=8.163890\u001b[0m\n",
      "\u001b[34m[10/22/2021 07:17:43 INFO 140662060397952] #quality_metric: host=algo-1, epoch=12, batch=5 train loss <loss>=8.163889567057291\u001b[0m\n",
      "\u001b[34m[10/22/2021 07:17:43 INFO 140662060397952] Epoch[12] Batch [5]#011Speed: 112.01 samples/sec#011loss=8.163890\u001b[0m\n",
      "\u001b[34m[10/22/2021 07:17:48 INFO 140662060397952] processed a total of 1269 examples\u001b[0m\n",
      "\u001b[34m#metrics {\"StartTime\": 1634887054.5707998, \"EndTime\": 1634887068.5929344, \"Dimensions\": {\"Algorithm\": \"AWS/DeepAR\", \"Host\": \"algo-1\", \"Operation\": \"training\"}, \"Metrics\": {\"update.time\": {\"sum\": 14021.511554718018, \"count\": 1, \"min\": 14021.511554718018, \"max\": 14021.511554718018}}}\n",
      "\u001b[0m\n",
      "\u001b[34m[10/22/2021 07:17:48 INFO 140662060397952] #throughput_metric: host=algo-1, train throughput=90.50283420957939 records/second\u001b[0m\n",
      "\u001b[34m[10/22/2021 07:17:48 INFO 140662060397952] #progress_metric: host=algo-1, completed 26.0 % of epochs\u001b[0m\n",
      "\u001b[34m[10/22/2021 07:17:48 INFO 140662060397952] #quality_metric: host=algo-1, epoch=12, train loss <loss>=8.144693756103516\u001b[0m\n",
      "\u001b[34m[10/22/2021 07:17:48 INFO 140662060397952] best epoch loss so far\u001b[0m\n",
      "\u001b[34m[10/22/2021 07:17:48 INFO 140662060397952] Saved checkpoint to \"/opt/ml/model/state_ffa8f7a2-6645-4839-ae14-49d3ce7d98cb-0000.params\"\u001b[0m\n",
      "\u001b[34m#metrics {\"StartTime\": 1634887068.593027, \"EndTime\": 1634887068.722302, \"Dimensions\": {\"Algorithm\": \"AWS/DeepAR\", \"Host\": \"algo-1\", \"Operation\": \"training\"}, \"Metrics\": {\"state.serialize.time\": {\"sum\": 128.67069244384766, \"count\": 1, \"min\": 128.67069244384766, \"max\": 128.67069244384766}}}\n",
      "\u001b[0m\n",
      "\u001b[34m[10/22/2021 07:17:52 INFO 140662060397952] Epoch[13] Batch[0] avg_epoch_loss=7.987503\u001b[0m\n",
      "\u001b[34m[10/22/2021 07:17:52 INFO 140662060397952] #quality_metric: host=algo-1, epoch=13, batch=0 train loss <loss>=7.9875030517578125\u001b[0m\n",
      "\u001b[34m[10/22/2021 07:17:58 INFO 140662060397952] Epoch[13] Batch[5] avg_epoch_loss=8.070167\u001b[0m\n",
      "\u001b[34m[10/22/2021 07:17:58 INFO 140662060397952] #quality_metric: host=algo-1, epoch=13, batch=5 train loss <loss>=8.070167382558187\u001b[0m\n",
      "\u001b[34m[10/22/2021 07:17:58 INFO 140662060397952] Epoch[13] Batch [5]#011Speed: 112.10 samples/sec#011loss=8.070167\u001b[0m\n",
      "\u001b[34m[10/22/2021 07:18:03 INFO 140662060397952] processed a total of 1271 examples\u001b[0m\n",
      "\u001b[34m#metrics {\"StartTime\": 1634887068.7223938, \"EndTime\": 1634887083.0474396, \"Dimensions\": {\"Algorithm\": \"AWS/DeepAR\", \"Host\": \"algo-1\", \"Operation\": \"training\"}, \"Metrics\": {\"update.time\": {\"sum\": 14324.949741363525, \"count\": 1, \"min\": 14324.949741363525, \"max\": 14324.949741363525}}}\n",
      "\u001b[0m\n",
      "\u001b[34m[10/22/2021 07:18:03 INFO 140662060397952] #throughput_metric: host=algo-1, train throughput=88.72527518104768 records/second\u001b[0m\n",
      "\u001b[34m[10/22/2021 07:18:03 INFO 140662060397952] #progress_metric: host=algo-1, completed 28.0 % of epochs\u001b[0m\n",
      "\u001b[34m[10/22/2021 07:18:03 INFO 140662060397952] #quality_metric: host=algo-1, epoch=13, train loss <loss>=8.012565517425537\u001b[0m\n",
      "\u001b[34m[10/22/2021 07:18:03 INFO 140662060397952] best epoch loss so far\u001b[0m\n",
      "\u001b[34m[10/22/2021 07:18:03 INFO 140662060397952] Saved checkpoint to \"/opt/ml/model/state_4d7979b7-8e9d-4224-8641-8181b09624d0-0000.params\"\u001b[0m\n",
      "\u001b[34m#metrics {\"StartTime\": 1634887083.0475554, \"EndTime\": 1634887083.1754093, \"Dimensions\": {\"Algorithm\": \"AWS/DeepAR\", \"Host\": \"algo-1\", \"Operation\": \"training\"}, \"Metrics\": {\"state.serialize.time\": {\"sum\": 127.22539901733398, \"count\": 1, \"min\": 127.22539901733398, \"max\": 127.22539901733398}}}\n",
      "\u001b[0m\n",
      "\u001b[34m[10/22/2021 07:18:07 INFO 140662060397952] Epoch[14] Batch[0] avg_epoch_loss=7.885769\u001b[0m\n",
      "\u001b[34m[10/22/2021 07:18:07 INFO 140662060397952] #quality_metric: host=algo-1, epoch=14, batch=0 train loss <loss>=7.885769367218018\u001b[0m\n",
      "\u001b[34m[10/22/2021 07:18:12 INFO 140662060397952] Epoch[14] Batch[5] avg_epoch_loss=7.853045\u001b[0m\n",
      "\u001b[34m[10/22/2021 07:18:12 INFO 140662060397952] #quality_metric: host=algo-1, epoch=14, batch=5 train loss <loss>=7.853044827779134\u001b[0m\n",
      "\u001b[34m[10/22/2021 07:18:12 INFO 140662060397952] Epoch[14] Batch [5]#011Speed: 111.89 samples/sec#011loss=7.853045\u001b[0m\n",
      "\u001b[34m[10/22/2021 07:18:19 INFO 140662060397952] Epoch[14] Batch[10] avg_epoch_loss=7.850961\u001b[0m\n",
      "\u001b[34m[10/22/2021 07:18:19 INFO 140662060397952] #quality_metric: host=algo-1, epoch=14, batch=10 train loss <loss>=7.848459339141845\u001b[0m\n",
      "\u001b[34m[10/22/2021 07:18:19 INFO 140662060397952] Epoch[14] Batch [10]#011Speed: 104.27 samples/sec#011loss=7.848459\u001b[0m\n",
      "\u001b[34m[10/22/2021 07:18:19 INFO 140662060397952] processed a total of 1291 examples\u001b[0m\n",
      "\u001b[34m#metrics {\"StartTime\": 1634887083.1756105, \"EndTime\": 1634887099.0507195, \"Dimensions\": {\"Algorithm\": \"AWS/DeepAR\", \"Host\": \"algo-1\", \"Operation\": \"training\"}, \"Metrics\": {\"update.time\": {\"sum\": 15874.991655349731, \"count\": 1, \"min\": 15874.991655349731, \"max\": 15874.991655349731}}}\n",
      "\u001b[0m\n",
      "\u001b[34m[10/22/2021 07:18:19 INFO 140662060397952] #throughput_metric: host=algo-1, train throughput=81.32212260693107 records/second\u001b[0m\n",
      "\u001b[34m[10/22/2021 07:18:19 INFO 140662060397952] #progress_metric: host=algo-1, completed 30.0 % of epochs\u001b[0m\n",
      "\u001b[34m[10/22/2021 07:18:19 INFO 140662060397952] #quality_metric: host=algo-1, epoch=14, train loss <loss>=7.850960514762185\u001b[0m\n",
      "\u001b[34m[10/22/2021 07:18:19 INFO 140662060397952] best epoch loss so far\u001b[0m\n",
      "\u001b[34m[10/22/2021 07:18:19 INFO 140662060397952] Saved checkpoint to \"/opt/ml/model/state_5c48d88c-bc45-4306-b35b-c2c3a5e51378-0000.params\"\u001b[0m\n",
      "\u001b[34m#metrics {\"StartTime\": 1634887099.0508194, \"EndTime\": 1634887099.2407064, \"Dimensions\": {\"Algorithm\": \"AWS/DeepAR\", \"Host\": \"algo-1\", \"Operation\": \"training\"}, \"Metrics\": {\"state.serialize.time\": {\"sum\": 189.3632411956787, \"count\": 1, \"min\": 189.3632411956787, \"max\": 189.3632411956787}}}\n",
      "\u001b[0m\n",
      "\u001b[34m[10/22/2021 07:18:22 INFO 140662060397952] Epoch[15] Batch[0] avg_epoch_loss=8.031666\u001b[0m\n",
      "\u001b[34m[10/22/2021 07:18:22 INFO 140662060397952] #quality_metric: host=algo-1, epoch=15, batch=0 train loss <loss>=8.031665802001953\u001b[0m\n",
      "\u001b[34m[10/22/2021 07:18:28 INFO 140662060397952] Epoch[15] Batch[5] avg_epoch_loss=8.128480\u001b[0m\n",
      "\u001b[34m[10/22/2021 07:18:28 INFO 140662060397952] #quality_metric: host=algo-1, epoch=15, batch=5 train loss <loss>=8.128480275472006\u001b[0m\n",
      "\u001b[34m[10/22/2021 07:18:28 INFO 140662060397952] Epoch[15] Batch [5]#011Speed: 113.11 samples/sec#011loss=8.128480\u001b[0m\n",
      "\u001b[34m[10/22/2021 07:18:34 INFO 140662060397952] Epoch[15] Batch[10] avg_epoch_loss=8.074921\u001b[0m\n",
      "\u001b[34m[10/22/2021 07:18:34 INFO 140662060397952] #quality_metric: host=algo-1, epoch=15, batch=10 train loss <loss>=8.010648822784423\u001b[0m\n",
      "\u001b[34m[10/22/2021 07:18:34 INFO 140662060397952] Epoch[15] Batch [10]#011Speed: 106.87 samples/sec#011loss=8.010649\u001b[0m\n",
      "\u001b[34m[10/22/2021 07:18:34 INFO 140662060397952] processed a total of 1360 examples\u001b[0m\n",
      "\u001b[34m#metrics {\"StartTime\": 1634887099.2408006, \"EndTime\": 1634887114.3980875, \"Dimensions\": {\"Algorithm\": \"AWS/DeepAR\", \"Host\": \"algo-1\", \"Operation\": \"training\"}, \"Metrics\": {\"update.time\": {\"sum\": 15157.196521759033, \"count\": 1, \"min\": 15157.196521759033, \"max\": 15157.196521759033}}}\n",
      "\u001b[0m\n",
      "\u001b[34m[10/22/2021 07:18:34 INFO 140662060397952] #throughput_metric: host=algo-1, train throughput=89.72515703131711 records/second\u001b[0m\n",
      "\u001b[34m[10/22/2021 07:18:34 INFO 140662060397952] #progress_metric: host=algo-1, completed 32.0 % of epochs\u001b[0m\n",
      "\u001b[34m[10/22/2021 07:18:34 INFO 140662060397952] #quality_metric: host=algo-1, epoch=15, train loss <loss>=8.074920524250377\u001b[0m\n",
      "\u001b[34m[10/22/2021 07:18:34 INFO 140662060397952] loss did not improve\u001b[0m\n",
      "\u001b[34m[10/22/2021 07:18:37 INFO 140662060397952] Epoch[16] Batch[0] avg_epoch_loss=7.766882\u001b[0m\n",
      "\u001b[34m[10/22/2021 07:18:37 INFO 140662060397952] #quality_metric: host=algo-1, epoch=16, batch=0 train loss <loss>=7.766881942749023\u001b[0m\n",
      "\u001b[34m[10/22/2021 07:18:43 INFO 140662060397952] Epoch[16] Batch[5] avg_epoch_loss=7.814856\u001b[0m\n",
      "\u001b[34m[10/22/2021 07:18:43 INFO 140662060397952] #quality_metric: host=algo-1, epoch=16, batch=5 train loss <loss>=7.814855575561523\u001b[0m\n",
      "\u001b[34m[10/22/2021 07:18:43 INFO 140662060397952] Epoch[16] Batch [5]#011Speed: 113.36 samples/sec#011loss=7.814856\u001b[0m\n",
      "\u001b[34m[10/22/2021 07:18:48 INFO 140662060397952] processed a total of 1238 examples\u001b[0m\n",
      "\u001b[34m#metrics {\"StartTime\": 1634887114.398244, \"EndTime\": 1634887128.2071426, \"Dimensions\": {\"Algorithm\": \"AWS/DeepAR\", \"Host\": \"algo-1\", \"Operation\": \"training\"}, \"Metrics\": {\"update.time\": {\"sum\": 13808.399200439453, \"count\": 1, \"min\": 13808.399200439453, \"max\": 13808.399200439453}}}\n",
      "\u001b[0m\n",
      "\u001b[34m[10/22/2021 07:18:48 INFO 140662060397952] #throughput_metric: host=algo-1, train throughput=89.65466694080509 records/second\u001b[0m\n",
      "\u001b[34m[10/22/2021 07:18:48 INFO 140662060397952] #progress_metric: host=algo-1, completed 34.0 % of epochs\u001b[0m\n",
      "\u001b[34m[10/22/2021 07:18:48 INFO 140662060397952] #quality_metric: host=algo-1, epoch=16, train loss <loss>=7.78955602645874\u001b[0m\n",
      "\u001b[34m[10/22/2021 07:18:48 INFO 140662060397952] best epoch loss so far\u001b[0m\n",
      "\u001b[34m[10/22/2021 07:18:48 INFO 140662060397952] Saved checkpoint to \"/opt/ml/model/state_0eb4cf4f-3de1-413b-b889-25af6ba109fb-0000.params\"\u001b[0m\n",
      "\u001b[34m#metrics {\"StartTime\": 1634887128.2072299, \"EndTime\": 1634887128.3194091, \"Dimensions\": {\"Algorithm\": \"AWS/DeepAR\", \"Host\": \"algo-1\", \"Operation\": \"training\"}, \"Metrics\": {\"state.serialize.time\": {\"sum\": 111.39893531799316, \"count\": 1, \"min\": 111.39893531799316, \"max\": 111.39893531799316}}}\n",
      "\u001b[0m\n",
      "\u001b[34m[10/22/2021 07:18:51 INFO 140662060397952] Epoch[17] Batch[0] avg_epoch_loss=7.927098\u001b[0m\n",
      "\u001b[34m[10/22/2021 07:18:51 INFO 140662060397952] #quality_metric: host=algo-1, epoch=17, batch=0 train loss <loss>=7.927097797393799\u001b[0m\n",
      "\u001b[34m[10/22/2021 07:18:57 INFO 140662060397952] Epoch[17] Batch[5] avg_epoch_loss=7.692460\u001b[0m\n",
      "\u001b[34m[10/22/2021 07:18:57 INFO 140662060397952] #quality_metric: host=algo-1, epoch=17, batch=5 train loss <loss>=7.692460378011067\u001b[0m\n",
      "\u001b[34m[10/22/2021 07:18:57 INFO 140662060397952] Epoch[17] Batch [5]#011Speed: 113.44 samples/sec#011loss=7.692460\u001b[0m\n",
      "\u001b[34m[10/22/2021 07:19:03 INFO 140662060397952] Epoch[17] Batch[10] avg_epoch_loss=7.662834\u001b[0m\n",
      "\u001b[34m[10/22/2021 07:19:03 INFO 140662060397952] #quality_metric: host=algo-1, epoch=17, batch=10 train loss <loss>=7.627281665802002\u001b[0m\n",
      "\u001b[34m[10/22/2021 07:19:03 INFO 140662060397952] Epoch[17] Batch [10]#011Speed: 103.61 samples/sec#011loss=7.627282\u001b[0m\n",
      "\u001b[34m[10/22/2021 07:19:03 INFO 140662060397952] processed a total of 1304 examples\u001b[0m\n",
      "\u001b[34m#metrics {\"StartTime\": 1634887128.3195114, \"EndTime\": 1634887143.6302195, \"Dimensions\": {\"Algorithm\": \"AWS/DeepAR\", \"Host\": \"algo-1\", \"Operation\": \"training\"}, \"Metrics\": {\"update.time\": {\"sum\": 15310.61053276062, \"count\": 1, \"min\": 15310.61053276062, \"max\": 15310.61053276062}}}\n",
      "\u001b[0m\n",
      "\u001b[34m[10/22/2021 07:19:03 INFO 140662060397952] #throughput_metric: host=algo-1, train throughput=85.16878592322011 records/second\u001b[0m\n",
      "\u001b[34m[10/22/2021 07:19:03 INFO 140662060397952] #progress_metric: host=algo-1, completed 36.0 % of epochs\u001b[0m\n",
      "\u001b[34m[10/22/2021 07:19:03 INFO 140662060397952] #quality_metric: host=algo-1, epoch=17, train loss <loss>=7.6628336906433105\u001b[0m\n",
      "\u001b[34m[10/22/2021 07:19:03 INFO 140662060397952] best epoch loss so far\u001b[0m\n",
      "\u001b[34m[10/22/2021 07:19:03 INFO 140662060397952] Saved checkpoint to \"/opt/ml/model/state_85ded0b1-f376-47cf-aa2e-8c851b4a5df9-0000.params\"\u001b[0m\n",
      "\u001b[34m#metrics {\"StartTime\": 1634887143.6303287, \"EndTime\": 1634887143.7836027, \"Dimensions\": {\"Algorithm\": \"AWS/DeepAR\", \"Host\": \"algo-1\", \"Operation\": \"training\"}, \"Metrics\": {\"state.serialize.time\": {\"sum\": 152.571439743042, \"count\": 1, \"min\": 152.571439743042, \"max\": 152.571439743042}}}\n",
      "\u001b[0m\n",
      "\u001b[34m[10/22/2021 07:19:07 INFO 140662060397952] Epoch[18] Batch[0] avg_epoch_loss=8.531939\u001b[0m\n",
      "\u001b[34m[10/22/2021 07:19:07 INFO 140662060397952] #quality_metric: host=algo-1, epoch=18, batch=0 train loss <loss>=8.531938552856445\u001b[0m\n",
      "\u001b[34m[10/22/2021 07:19:13 INFO 140662060397952] Epoch[18] Batch[5] avg_epoch_loss=7.720165\u001b[0m\n",
      "\u001b[34m[10/22/2021 07:19:13 INFO 140662060397952] #quality_metric: host=algo-1, epoch=18, batch=5 train loss <loss>=7.720165332158406\u001b[0m\n",
      "\u001b[34m[10/22/2021 07:19:13 INFO 140662060397952] Epoch[18] Batch [5]#011Speed: 113.23 samples/sec#011loss=7.720165\u001b[0m\n",
      "\u001b[34m[10/22/2021 07:19:17 INFO 140662060397952] processed a total of 1267 examples\u001b[0m\n",
      "\u001b[34m#metrics {\"StartTime\": 1634887143.7837048, \"EndTime\": 1634887157.887556, \"Dimensions\": {\"Algorithm\": \"AWS/DeepAR\", \"Host\": \"algo-1\", \"Operation\": \"training\"}, \"Metrics\": {\"update.time\": {\"sum\": 14103.752136230469, \"count\": 1, \"min\": 14103.752136230469, \"max\": 14103.752136230469}}}\n",
      "\u001b[0m\n",
      "\u001b[34m[10/22/2021 07:19:17 INFO 140662060397952] #throughput_metric: host=algo-1, train throughput=89.83299445395889 records/second\u001b[0m\n",
      "\u001b[34m[10/22/2021 07:19:17 INFO 140662060397952] #progress_metric: host=algo-1, completed 38.0 % of epochs\u001b[0m\n",
      "\u001b[34m[10/22/2021 07:19:17 INFO 140662060397952] #quality_metric: host=algo-1, epoch=18, train loss <loss>=7.76465425491333\u001b[0m\n",
      "\u001b[34m[10/22/2021 07:19:17 INFO 140662060397952] loss did not improve\u001b[0m\n",
      "\u001b[34m[10/22/2021 07:19:21 INFO 140662060397952] Epoch[19] Batch[0] avg_epoch_loss=7.428087\u001b[0m\n",
      "\u001b[34m[10/22/2021 07:19:21 INFO 140662060397952] #quality_metric: host=algo-1, epoch=19, batch=0 train loss <loss>=7.42808723449707\u001b[0m\n",
      "\u001b[34m[10/22/2021 07:19:27 INFO 140662060397952] Epoch[19] Batch[5] avg_epoch_loss=7.638293\u001b[0m\n",
      "\u001b[34m[10/22/2021 07:19:27 INFO 140662060397952] #quality_metric: host=algo-1, epoch=19, batch=5 train loss <loss>=7.638292868932088\u001b[0m\n",
      "\u001b[34m[10/22/2021 07:19:27 INFO 140662060397952] Epoch[19] Batch [5]#011Speed: 112.09 samples/sec#011loss=7.638293\u001b[0m\n",
      "\u001b[34m[10/22/2021 07:19:31 INFO 140662060397952] processed a total of 1270 examples\u001b[0m\n",
      "\u001b[34m#metrics {\"StartTime\": 1634887157.8877008, \"EndTime\": 1634887171.821725, \"Dimensions\": {\"Algorithm\": \"AWS/DeepAR\", \"Host\": \"algo-1\", \"Operation\": \"training\"}, \"Metrics\": {\"update.time\": {\"sum\": 13933.319330215454, \"count\": 1, \"min\": 13933.319330215454, \"max\": 13933.319330215454}}}\n",
      "\u001b[0m\n",
      "\u001b[34m[10/22/2021 07:19:31 INFO 140662060397952] #throughput_metric: host=algo-1, train throughput=91.14729868917686 records/second\u001b[0m\n",
      "\u001b[34m[10/22/2021 07:19:31 INFO 140662060397952] #progress_metric: host=algo-1, completed 40.0 % of epochs\u001b[0m\n",
      "\u001b[34m[10/22/2021 07:19:31 INFO 140662060397952] #quality_metric: host=algo-1, epoch=19, train loss <loss>=7.601483678817749\u001b[0m\n",
      "\u001b[34m[10/22/2021 07:19:31 INFO 140662060397952] best epoch loss so far\u001b[0m\n",
      "\u001b[34m[10/22/2021 07:19:31 INFO 140662060397952] Saved checkpoint to \"/opt/ml/model/state_1036b4d3-2d2b-4b9c-a033-0e1e7b1aebf6-0000.params\"\u001b[0m\n",
      "\u001b[34m#metrics {\"StartTime\": 1634887171.8218422, \"EndTime\": 1634887171.9481077, \"Dimensions\": {\"Algorithm\": \"AWS/DeepAR\", \"Host\": \"algo-1\", \"Operation\": \"training\"}, \"Metrics\": {\"state.serialize.time\": {\"sum\": 125.48494338989258, \"count\": 1, \"min\": 125.48494338989258, \"max\": 125.48494338989258}}}\n",
      "\u001b[0m\n",
      "\u001b[34m[10/22/2021 07:19:35 INFO 140662060397952] Epoch[20] Batch[0] avg_epoch_loss=7.648466\u001b[0m\n",
      "\u001b[34m[10/22/2021 07:19:35 INFO 140662060397952] #quality_metric: host=algo-1, epoch=20, batch=0 train loss <loss>=7.648465633392334\u001b[0m\n",
      "\u001b[34m[10/22/2021 07:19:41 INFO 140662060397952] Epoch[20] Batch[5] avg_epoch_loss=7.626687\u001b[0m\n",
      "\u001b[34m[10/22/2021 07:19:41 INFO 140662060397952] #quality_metric: host=algo-1, epoch=20, batch=5 train loss <loss>=7.626687288284302\u001b[0m\n",
      "\u001b[34m[10/22/2021 07:19:41 INFO 140662060397952] Epoch[20] Batch [5]#011Speed: 112.33 samples/sec#011loss=7.626687\u001b[0m\n",
      "\u001b[34m[10/22/2021 07:19:45 INFO 140662060397952] processed a total of 1261 examples\u001b[0m\n",
      "\u001b[34m#metrics {\"StartTime\": 1634887171.9482195, \"EndTime\": 1634887185.9320488, \"Dimensions\": {\"Algorithm\": \"AWS/DeepAR\", \"Host\": \"algo-1\", \"Operation\": \"training\"}, \"Metrics\": {\"update.time\": {\"sum\": 13983.72507095337, \"count\": 1, \"min\": 13983.72507095337, \"max\": 13983.72507095337}}}\n",
      "\u001b[0m\n",
      "\u001b[34m[10/22/2021 07:19:45 INFO 140662060397952] #throughput_metric: host=algo-1, train throughput=90.17485739197402 records/second\u001b[0m\n",
      "\u001b[34m[10/22/2021 07:19:45 INFO 140662060397952] #progress_metric: host=algo-1, completed 42.0 % of epochs\u001b[0m\n",
      "\u001b[34m[10/22/2021 07:19:45 INFO 140662060397952] #quality_metric: host=algo-1, epoch=20, train loss <loss>=7.585881519317627\u001b[0m\n",
      "\u001b[34m[10/22/2021 07:19:45 INFO 140662060397952] best epoch loss so far\u001b[0m\n",
      "\u001b[34m[10/22/2021 07:19:46 INFO 140662060397952] Saved checkpoint to \"/opt/ml/model/state_3792b5c5-5703-4f85-a438-1eeaf98bf25b-0000.params\"\u001b[0m\n",
      "\u001b[34m#metrics {\"StartTime\": 1634887185.9322095, \"EndTime\": 1634887186.047473, \"Dimensions\": {\"Algorithm\": \"AWS/DeepAR\", \"Host\": \"algo-1\", \"Operation\": \"training\"}, \"Metrics\": {\"state.serialize.time\": {\"sum\": 114.59064483642578, \"count\": 1, \"min\": 114.59064483642578, \"max\": 114.59064483642578}}}\n",
      "\u001b[0m\n",
      "\u001b[34m[10/22/2021 07:19:49 INFO 140662060397952] Epoch[21] Batch[0] avg_epoch_loss=7.442609\u001b[0m\n",
      "\u001b[34m[10/22/2021 07:19:49 INFO 140662060397952] #quality_metric: host=algo-1, epoch=21, batch=0 train loss <loss>=7.442608833312988\u001b[0m\n",
      "\u001b[34m[10/22/2021 07:19:55 INFO 140662060397952] Epoch[21] Batch[5] avg_epoch_loss=7.549444\u001b[0m\n",
      "\u001b[34m[10/22/2021 07:19:55 INFO 140662060397952] #quality_metric: host=algo-1, epoch=21, batch=5 train loss <loss>=7.54944388071696\u001b[0m\n",
      "\u001b[34m[10/22/2021 07:19:55 INFO 140662060397952] Epoch[21] Batch [5]#011Speed: 109.11 samples/sec#011loss=7.549444\u001b[0m\n",
      "\u001b[34m[10/22/2021 07:20:01 INFO 140662060397952] Epoch[21] Batch[10] avg_epoch_loss=7.516711\u001b[0m\n",
      "\u001b[34m[10/22/2021 07:20:01 INFO 140662060397952] #quality_metric: host=algo-1, epoch=21, batch=10 train loss <loss>=7.477431106567383\u001b[0m\n",
      "\u001b[34m[10/22/2021 07:20:01 INFO 140662060397952] Epoch[21] Batch [10]#011Speed: 108.65 samples/sec#011loss=7.477431\u001b[0m\n",
      "\u001b[34m[10/22/2021 07:20:01 INFO 140662060397952] processed a total of 1281 examples\u001b[0m\n",
      "\u001b[34m#metrics {\"StartTime\": 1634887186.04757, \"EndTime\": 1634887201.3443098, \"Dimensions\": {\"Algorithm\": \"AWS/DeepAR\", \"Host\": \"algo-1\", \"Operation\": \"training\"}, \"Metrics\": {\"update.time\": {\"sum\": 15296.639919281006, \"count\": 1, \"min\": 15296.639919281006, \"max\": 15296.639919281006}}}\n",
      "\u001b[0m\n",
      "\u001b[34m[10/22/2021 07:20:01 INFO 140662060397952] #throughput_metric: host=algo-1, train throughput=83.7429964939218 records/second\u001b[0m\n",
      "\u001b[34m[10/22/2021 07:20:01 INFO 140662060397952] #progress_metric: host=algo-1, completed 44.0 % of epochs\u001b[0m\n",
      "\u001b[34m[10/22/2021 07:20:01 INFO 140662060397952] #quality_metric: host=algo-1, epoch=21, train loss <loss>=7.5167108015580615\u001b[0m\n",
      "\u001b[34m[10/22/2021 07:20:01 INFO 140662060397952] best epoch loss so far\u001b[0m\n",
      "\u001b[34m[10/22/2021 07:20:01 INFO 140662060397952] Saved checkpoint to \"/opt/ml/model/state_4861a239-5416-4dd9-a7d4-c43d7bc1e359-0000.params\"\u001b[0m\n",
      "\u001b[34m#metrics {\"StartTime\": 1634887201.3444195, \"EndTime\": 1634887201.4685314, \"Dimensions\": {\"Algorithm\": \"AWS/DeepAR\", \"Host\": \"algo-1\", \"Operation\": \"training\"}, \"Metrics\": {\"state.serialize.time\": {\"sum\": 123.47006797790527, \"count\": 1, \"min\": 123.47006797790527, \"max\": 123.47006797790527}}}\n",
      "\u001b[0m\n",
      "\u001b[34m[10/22/2021 07:20:05 INFO 140662060397952] Epoch[22] Batch[0] avg_epoch_loss=8.946121\u001b[0m\n",
      "\u001b[34m[10/22/2021 07:20:05 INFO 140662060397952] #quality_metric: host=algo-1, epoch=22, batch=0 train loss <loss>=8.946121215820312\u001b[0m\n",
      "\u001b[34m[10/22/2021 07:20:11 INFO 140662060397952] Epoch[22] Batch[5] avg_epoch_loss=8.604033\u001b[0m\n",
      "\u001b[34m[10/22/2021 07:20:11 INFO 140662060397952] #quality_metric: host=algo-1, epoch=22, batch=5 train loss <loss>=8.604033470153809\u001b[0m\n",
      "\u001b[34m[10/22/2021 07:20:11 INFO 140662060397952] Epoch[22] Batch [5]#011Speed: 106.20 samples/sec#011loss=8.604033\u001b[0m\n",
      "\u001b[34m[10/22/2021 07:20:17 INFO 140662060397952] Epoch[22] Batch[10] avg_epoch_loss=8.423884\u001b[0m\n",
      "\u001b[34m[10/22/2021 07:20:17 INFO 140662060397952] #quality_metric: host=algo-1, epoch=22, batch=10 train loss <loss>=8.20770492553711\u001b[0m\n",
      "\u001b[34m[10/22/2021 07:20:17 INFO 140662060397952] Epoch[22] Batch [10]#011Speed: 106.21 samples/sec#011loss=8.207705\u001b[0m\n",
      "\u001b[34m[10/22/2021 07:20:17 INFO 140662060397952] processed a total of 1296 examples\u001b[0m\n",
      "\u001b[34m#metrics {\"StartTime\": 1634887201.4686213, \"EndTime\": 1634887217.4408557, \"Dimensions\": {\"Algorithm\": \"AWS/DeepAR\", \"Host\": \"algo-1\", \"Operation\": \"training\"}, \"Metrics\": {\"update.time\": {\"sum\": 15972.1519947052, \"count\": 1, \"min\": 15972.1519947052, \"max\": 15972.1519947052}}}\n",
      "\u001b[0m\n",
      "\u001b[34m[10/22/2021 07:20:17 INFO 140662060397952] #throughput_metric: host=algo-1, train throughput=81.14040877506481 records/second\u001b[0m\n",
      "\u001b[34m[10/22/2021 07:20:17 INFO 140662060397952] #progress_metric: host=algo-1, completed 46.0 % of epochs\u001b[0m\n",
      "\u001b[34m[10/22/2021 07:20:17 INFO 140662060397952] #quality_metric: host=algo-1, epoch=22, train loss <loss>=8.423884131691672\u001b[0m\n",
      "\u001b[34m[10/22/2021 07:20:17 INFO 140662060397952] loss did not improve\u001b[0m\n",
      "\u001b[34m[10/22/2021 07:20:21 INFO 140662060397952] Epoch[23] Batch[0] avg_epoch_loss=8.467188\u001b[0m\n",
      "\u001b[34m[10/22/2021 07:20:21 INFO 140662060397952] #quality_metric: host=algo-1, epoch=23, batch=0 train loss <loss>=8.467187881469727\u001b[0m\n",
      "\u001b[34m[10/22/2021 07:20:26 INFO 140662060397952] Epoch[23] Batch[5] avg_epoch_loss=8.106866\u001b[0m\n",
      "\u001b[34m[10/22/2021 07:20:26 INFO 140662060397952] #quality_metric: host=algo-1, epoch=23, batch=5 train loss <loss>=8.106866121292114\u001b[0m\n",
      "\u001b[34m[10/22/2021 07:20:26 INFO 140662060397952] Epoch[23] Batch [5]#011Speed: 110.49 samples/sec#011loss=8.106866\u001b[0m\n",
      "\u001b[34m[10/22/2021 07:20:31 INFO 140662060397952] processed a total of 1247 examples\u001b[0m\n",
      "\u001b[34m#metrics {\"StartTime\": 1634887217.4409678, \"EndTime\": 1634887231.5760598, \"Dimensions\": {\"Algorithm\": \"AWS/DeepAR\", \"Host\": \"algo-1\", \"Operation\": \"training\"}, \"Metrics\": {\"update.time\": {\"sum\": 14134.441614151001, \"count\": 1, \"min\": 14134.441614151001, \"max\": 14134.441614151001}}}\n",
      "\u001b[0m\n",
      "\u001b[34m[10/22/2021 07:20:31 INFO 140662060397952] #throughput_metric: host=algo-1, train throughput=88.22290134067072 records/second\u001b[0m\n",
      "\u001b[34m[10/22/2021 07:20:31 INFO 140662060397952] #progress_metric: host=algo-1, completed 48.0 % of epochs\u001b[0m\n",
      "\u001b[34m[10/22/2021 07:20:31 INFO 140662060397952] #quality_metric: host=algo-1, epoch=23, train loss <loss>=8.01940598487854\u001b[0m\n",
      "\u001b[34m[10/22/2021 07:20:31 INFO 140662060397952] loss did not improve\u001b[0m\n",
      "\u001b[34m[10/22/2021 07:20:35 INFO 140662060397952] Epoch[24] Batch[0] avg_epoch_loss=7.856007\u001b[0m\n",
      "\u001b[34m[10/22/2021 07:20:35 INFO 140662060397952] #quality_metric: host=algo-1, epoch=24, batch=0 train loss <loss>=7.856007099151611\u001b[0m\n",
      "\u001b[34m[10/22/2021 07:20:40 INFO 140662060397952] Epoch[24] Batch[5] avg_epoch_loss=7.828746\u001b[0m\n",
      "\u001b[34m[10/22/2021 07:20:40 INFO 140662060397952] #quality_metric: host=algo-1, epoch=24, batch=5 train loss <loss>=7.828745762507121\u001b[0m\n",
      "\u001b[34m[10/22/2021 07:20:40 INFO 140662060397952] Epoch[24] Batch [5]#011Speed: 112.35 samples/sec#011loss=7.828746\u001b[0m\n",
      "\u001b[34m[10/22/2021 07:20:45 INFO 140662060397952] processed a total of 1253 examples\u001b[0m\n",
      "\u001b[34m#metrics {\"StartTime\": 1634887231.5762186, \"EndTime\": 1634887245.627316, \"Dimensions\": {\"Algorithm\": \"AWS/DeepAR\", \"Host\": \"algo-1\", \"Operation\": \"training\"}, \"Metrics\": {\"update.time\": {\"sum\": 14050.53997039795, \"count\": 1, \"min\": 14050.53997039795, \"max\": 14050.53997039795}}}\n",
      "\u001b[0m\n",
      "\u001b[34m[10/22/2021 07:20:45 INFO 140662060397952] #throughput_metric: host=algo-1, train throughput=89.17704897275647 records/second\u001b[0m\n",
      "\u001b[34m[10/22/2021 07:20:45 INFO 140662060397952] #progress_metric: host=algo-1, completed 50.0 % of epochs\u001b[0m\n",
      "\u001b[34m[10/22/2021 07:20:45 INFO 140662060397952] #quality_metric: host=algo-1, epoch=24, train loss <loss>=7.721482372283935\u001b[0m\n",
      "\u001b[34m[10/22/2021 07:20:45 INFO 140662060397952] loss did not improve\u001b[0m\n",
      "\u001b[34m[10/22/2021 07:20:49 INFO 140662060397952] Epoch[25] Batch[0] avg_epoch_loss=7.553828\u001b[0m\n",
      "\u001b[34m[10/22/2021 07:20:49 INFO 140662060397952] #quality_metric: host=algo-1, epoch=25, batch=0 train loss <loss>=7.55382776260376\u001b[0m\n",
      "\u001b[34m[10/22/2021 07:20:55 INFO 140662060397952] Epoch[25] Batch[5] avg_epoch_loss=7.482581\u001b[0m\n",
      "\u001b[34m[10/22/2021 07:20:55 INFO 140662060397952] #quality_metric: host=algo-1, epoch=25, batch=5 train loss <loss>=7.48258113861084\u001b[0m\n",
      "\u001b[34m[10/22/2021 07:20:55 INFO 140662060397952] Epoch[25] Batch [5]#011Speed: 110.21 samples/sec#011loss=7.482581\u001b[0m\n",
      "\u001b[34m[10/22/2021 07:20:59 INFO 140662060397952] processed a total of 1279 examples\u001b[0m\n",
      "\u001b[34m#metrics {\"StartTime\": 1634887245.6274266, \"EndTime\": 1634887259.7577817, \"Dimensions\": {\"Algorithm\": \"AWS/DeepAR\", \"Host\": \"algo-1\", \"Operation\": \"training\"}, \"Metrics\": {\"update.time\": {\"sum\": 14129.81104850769, \"count\": 1, \"min\": 14129.81104850769, \"max\": 14129.81104850769}}}\n",
      "\u001b[0m\n",
      "\u001b[34m[10/22/2021 07:20:59 INFO 140662060397952] #throughput_metric: host=algo-1, train throughput=90.51686575372644 records/second\u001b[0m\n",
      "\u001b[34m[10/22/2021 07:20:59 INFO 140662060397952] #progress_metric: host=algo-1, completed 52.0 % of epochs\u001b[0m\n",
      "\u001b[34m[10/22/2021 07:20:59 INFO 140662060397952] #quality_metric: host=algo-1, epoch=25, train loss <loss>=7.472457838058472\u001b[0m\n",
      "\u001b[34m[10/22/2021 07:20:59 INFO 140662060397952] best epoch loss so far\u001b[0m\n",
      "\u001b[34m[10/22/2021 07:20:59 INFO 140662060397952] Saved checkpoint to \"/opt/ml/model/state_66e6c963-8312-416b-82d3-1ef4f2dfe145-0000.params\"\u001b[0m\n",
      "\u001b[34m#metrics {\"StartTime\": 1634887259.757885, \"EndTime\": 1634887259.8780947, \"Dimensions\": {\"Algorithm\": \"AWS/DeepAR\", \"Host\": \"algo-1\", \"Operation\": \"training\"}, \"Metrics\": {\"state.serialize.time\": {\"sum\": 119.52018737792969, \"count\": 1, \"min\": 119.52018737792969, \"max\": 119.52018737792969}}}\n",
      "\u001b[0m\n",
      "\u001b[34m[10/22/2021 07:21:03 INFO 140662060397952] Epoch[26] Batch[0] avg_epoch_loss=7.524033\u001b[0m\n",
      "\u001b[34m[10/22/2021 07:21:03 INFO 140662060397952] #quality_metric: host=algo-1, epoch=26, batch=0 train loss <loss>=7.5240325927734375\u001b[0m\n",
      "\u001b[34m[10/22/2021 07:21:09 INFO 140662060397952] Epoch[26] Batch[5] avg_epoch_loss=7.488700\u001b[0m\n",
      "\u001b[34m[10/22/2021 07:21:09 INFO 140662060397952] #quality_metric: host=algo-1, epoch=26, batch=5 train loss <loss>=7.488699674606323\u001b[0m\n",
      "\u001b[34m[10/22/2021 07:21:09 INFO 140662060397952] Epoch[26] Batch [5]#011Speed: 102.16 samples/sec#011loss=7.488700\u001b[0m\n",
      "\u001b[34m[10/22/2021 07:21:14 INFO 140662060397952] processed a total of 1238 examples\u001b[0m\n",
      "\u001b[34m#metrics {\"StartTime\": 1634887259.8782005, \"EndTime\": 1634887274.635603, \"Dimensions\": {\"Algorithm\": \"AWS/DeepAR\", \"Host\": \"algo-1\", \"Operation\": \"training\"}, \"Metrics\": {\"update.time\": {\"sum\": 14757.303953170776, \"count\": 1, \"min\": 14757.303953170776, \"max\": 14757.303953170776}}}\n",
      "\u001b[0m\n",
      "\u001b[34m[10/22/2021 07:21:14 INFO 140662060397952] #throughput_metric: host=algo-1, train throughput=83.8896971502697 records/second\u001b[0m\n",
      "\u001b[34m[10/22/2021 07:21:14 INFO 140662060397952] #progress_metric: host=algo-1, completed 54.0 % of epochs\u001b[0m\n",
      "\u001b[34m[10/22/2021 07:21:14 INFO 140662060397952] #quality_metric: host=algo-1, epoch=26, train loss <loss>=7.404934215545654\u001b[0m\n",
      "\u001b[34m[10/22/2021 07:21:14 INFO 140662060397952] best epoch loss so far\u001b[0m\n",
      "\u001b[34m[10/22/2021 07:21:14 INFO 140662060397952] Saved checkpoint to \"/opt/ml/model/state_b5214552-0935-47aa-adb7-6a224d8e3500-0000.params\"\u001b[0m\n",
      "\u001b[34m#metrics {\"StartTime\": 1634887274.6357224, \"EndTime\": 1634887274.7583773, \"Dimensions\": {\"Algorithm\": \"AWS/DeepAR\", \"Host\": \"algo-1\", \"Operation\": \"training\"}, \"Metrics\": {\"state.serialize.time\": {\"sum\": 122.02858924865723, \"count\": 1, \"min\": 122.02858924865723, \"max\": 122.02858924865723}}}\n",
      "\u001b[0m\n",
      "\u001b[34m[10/22/2021 07:21:18 INFO 140662060397952] Epoch[27] Batch[0] avg_epoch_loss=7.656911\u001b[0m\n",
      "\u001b[34m[10/22/2021 07:21:18 INFO 140662060397952] #quality_metric: host=algo-1, epoch=27, batch=0 train loss <loss>=7.656911373138428\u001b[0m\n",
      "\u001b[34m[10/22/2021 07:21:24 INFO 140662060397952] Epoch[27] Batch[5] avg_epoch_loss=7.661497\u001b[0m\n",
      "\u001b[34m[10/22/2021 07:21:24 INFO 140662060397952] #quality_metric: host=algo-1, epoch=27, batch=5 train loss <loss>=7.661496877670288\u001b[0m\n",
      "\u001b[34m[10/22/2021 07:21:24 INFO 140662060397952] Epoch[27] Batch [5]#011Speed: 105.67 samples/sec#011loss=7.661497\u001b[0m\n",
      "\u001b[34m[10/22/2021 07:21:29 INFO 140662060397952] processed a total of 1268 examples\u001b[0m\n",
      "\u001b[34m#metrics {\"StartTime\": 1634887274.758468, \"EndTime\": 1634887289.079317, \"Dimensions\": {\"Algorithm\": \"AWS/DeepAR\", \"Host\": \"algo-1\", \"Operation\": \"training\"}, \"Metrics\": {\"update.time\": {\"sum\": 14320.769548416138, \"count\": 1, \"min\": 14320.769548416138, \"max\": 14320.769548416138}}}\n",
      "\u001b[0m\n",
      "\u001b[34m[10/22/2021 07:21:29 INFO 140662060397952] #throughput_metric: host=algo-1, train throughput=88.54175785268279 records/second\u001b[0m\n",
      "\u001b[34m[10/22/2021 07:21:29 INFO 140662060397952] #progress_metric: host=algo-1, completed 56.0 % of epochs\u001b[0m\n",
      "\u001b[34m[10/22/2021 07:21:29 INFO 140662060397952] #quality_metric: host=algo-1, epoch=27, train loss <loss>=7.560757350921631\u001b[0m\n",
      "\u001b[34m[10/22/2021 07:21:29 INFO 140662060397952] loss did not improve\u001b[0m\n",
      "\u001b[34m[10/22/2021 07:21:32 INFO 140662060397952] Epoch[28] Batch[0] avg_epoch_loss=7.187736\u001b[0m\n",
      "\u001b[34m[10/22/2021 07:21:32 INFO 140662060397952] #quality_metric: host=algo-1, epoch=28, batch=0 train loss <loss>=7.1877360343933105\u001b[0m\n",
      "\u001b[34m[10/22/2021 07:21:38 INFO 140662060397952] Epoch[28] Batch[5] avg_epoch_loss=7.323315\u001b[0m\n",
      "\u001b[34m[10/22/2021 07:21:38 INFO 140662060397952] #quality_metric: host=algo-1, epoch=28, batch=5 train loss <loss>=7.323315064112346\u001b[0m\n",
      "\u001b[34m[10/22/2021 07:21:38 INFO 140662060397952] Epoch[28] Batch [5]#011Speed: 113.05 samples/sec#011loss=7.323315\u001b[0m\n",
      "\u001b[34m[10/22/2021 07:21:43 INFO 140662060397952] processed a total of 1268 examples\u001b[0m\n",
      "\u001b[34m#metrics {\"StartTime\": 1634887289.079426, \"EndTime\": 1634887303.0401502, \"Dimensions\": {\"Algorithm\": \"AWS/DeepAR\", \"Host\": \"algo-1\", \"Operation\": \"training\"}, \"Metrics\": {\"update.time\": {\"sum\": 13960.188865661621, \"count\": 1, \"min\": 13960.188865661621, \"max\": 13960.188865661621}}}\n",
      "\u001b[0m\n",
      "\u001b[34m[10/22/2021 07:21:43 INFO 140662060397952] #throughput_metric: host=algo-1, train throughput=90.82856726977417 records/second\u001b[0m\n",
      "\u001b[34m[10/22/2021 07:21:43 INFO 140662060397952] #progress_metric: host=algo-1, completed 58.0 % of epochs\u001b[0m\n",
      "\u001b[34m[10/22/2021 07:21:43 INFO 140662060397952] #quality_metric: host=algo-1, epoch=28, train loss <loss>=7.3436346530914305\u001b[0m\n",
      "\u001b[34m[10/22/2021 07:21:43 INFO 140662060397952] best epoch loss so far\u001b[0m\n",
      "\u001b[34m[10/22/2021 07:21:43 INFO 140662060397952] Saved checkpoint to \"/opt/ml/model/state_e9a1ed77-b504-402a-bedb-e101af946ada-0000.params\"\u001b[0m\n",
      "\u001b[34m#metrics {\"StartTime\": 1634887303.0402775, \"EndTime\": 1634887303.157883, \"Dimensions\": {\"Algorithm\": \"AWS/DeepAR\", \"Host\": \"algo-1\", \"Operation\": \"training\"}, \"Metrics\": {\"state.serialize.time\": {\"sum\": 116.9424057006836, \"count\": 1, \"min\": 116.9424057006836, \"max\": 116.9424057006836}}}\n",
      "\u001b[0m\n",
      "\u001b[34m[10/22/2021 07:21:46 INFO 140662060397952] Epoch[29] Batch[0] avg_epoch_loss=7.263833\u001b[0m\n",
      "\u001b[34m[10/22/2021 07:21:46 INFO 140662060397952] #quality_metric: host=algo-1, epoch=29, batch=0 train loss <loss>=7.2638325691223145\u001b[0m\n",
      "\u001b[34m[10/22/2021 07:21:52 INFO 140662060397952] Epoch[29] Batch[5] avg_epoch_loss=7.426875\u001b[0m\n",
      "\u001b[34m[10/22/2021 07:21:52 INFO 140662060397952] #quality_metric: host=algo-1, epoch=29, batch=5 train loss <loss>=7.426874955495198\u001b[0m\n",
      "\u001b[34m[10/22/2021 07:21:52 INFO 140662060397952] Epoch[29] Batch [5]#011Speed: 112.73 samples/sec#011loss=7.426875\u001b[0m\n",
      "\u001b[34m[10/22/2021 07:21:57 INFO 140662060397952] processed a total of 1244 examples\u001b[0m\n",
      "\u001b[34m#metrics {\"StartTime\": 1634887303.1579852, \"EndTime\": 1634887317.2502055, \"Dimensions\": {\"Algorithm\": \"AWS/DeepAR\", \"Host\": \"algo-1\", \"Operation\": \"training\"}, \"Metrics\": {\"update.time\": {\"sum\": 14092.124938964844, \"count\": 1, \"min\": 14092.124938964844, \"max\": 14092.124938964844}}}\n",
      "\u001b[0m\n",
      "\u001b[34m[10/22/2021 07:21:57 INFO 140662060397952] #throughput_metric: host=algo-1, train throughput=88.27531306377355 records/second\u001b[0m\n",
      "\u001b[34m[10/22/2021 07:21:57 INFO 140662060397952] #progress_metric: host=algo-1, completed 60.0 % of epochs\u001b[0m\n",
      "\u001b[34m[10/22/2021 07:21:57 INFO 140662060397952] #quality_metric: host=algo-1, epoch=29, train loss <loss>=7.4469465732574465\u001b[0m\n",
      "\u001b[34m[10/22/2021 07:21:57 INFO 140662060397952] loss did not improve\u001b[0m\n",
      "\u001b[34m[10/22/2021 07:22:00 INFO 140662060397952] Epoch[30] Batch[0] avg_epoch_loss=7.273284\u001b[0m\n",
      "\u001b[34m[10/22/2021 07:22:00 INFO 140662060397952] #quality_metric: host=algo-1, epoch=30, batch=0 train loss <loss>=7.273284435272217\u001b[0m\n",
      "\u001b[34m[10/22/2021 07:22:07 INFO 140662060397952] Epoch[30] Batch[5] avg_epoch_loss=7.386993\u001b[0m\n",
      "\u001b[34m[10/22/2021 07:22:07 INFO 140662060397952] #quality_metric: host=algo-1, epoch=30, batch=5 train loss <loss>=7.386993169784546\u001b[0m\n",
      "\u001b[34m[10/22/2021 07:22:07 INFO 140662060397952] Epoch[30] Batch [5]#011Speed: 96.57 samples/sec#011loss=7.386993\u001b[0m\n",
      "\u001b[34m[10/22/2021 07:22:12 INFO 140662060397952] processed a total of 1215 examples\u001b[0m\n",
      "\u001b[34m#metrics {\"StartTime\": 1634887317.2503026, \"EndTime\": 1634887332.1592853, \"Dimensions\": {\"Algorithm\": \"AWS/DeepAR\", \"Host\": \"algo-1\", \"Operation\": \"training\"}, \"Metrics\": {\"update.time\": {\"sum\": 14908.214569091797, \"count\": 1, \"min\": 14908.214569091797, \"max\": 14908.214569091797}}}\n",
      "\u001b[0m\n",
      "\u001b[34m[10/22/2021 07:22:12 INFO 140662060397952] #throughput_metric: host=algo-1, train throughput=81.49794993308349 records/second\u001b[0m\n",
      "\u001b[34m[10/22/2021 07:22:12 INFO 140662060397952] #progress_metric: host=algo-1, completed 62.0 % of epochs\u001b[0m\n",
      "\u001b[34m[10/22/2021 07:22:12 INFO 140662060397952] #quality_metric: host=algo-1, epoch=30, train loss <loss>=7.307596349716187\u001b[0m\n",
      "\u001b[34m[10/22/2021 07:22:12 INFO 140662060397952] best epoch loss so far\u001b[0m\n",
      "\u001b[34m[10/22/2021 07:22:12 INFO 140662060397952] Saved checkpoint to \"/opt/ml/model/state_9cf68afa-deb8-46f2-82a8-9c7c6d7a3c5d-0000.params\"\u001b[0m\n",
      "\u001b[34m#metrics {\"StartTime\": 1634887332.159375, \"EndTime\": 1634887332.2751849, \"Dimensions\": {\"Algorithm\": \"AWS/DeepAR\", \"Host\": \"algo-1\", \"Operation\": \"training\"}, \"Metrics\": {\"state.serialize.time\": {\"sum\": 115.13566970825195, \"count\": 1, \"min\": 115.13566970825195, \"max\": 115.13566970825195}}}\n",
      "\u001b[0m\n",
      "\u001b[34m[10/22/2021 07:22:15 INFO 140662060397952] Epoch[31] Batch[0] avg_epoch_loss=7.544910\u001b[0m\n",
      "\u001b[34m[10/22/2021 07:22:15 INFO 140662060397952] #quality_metric: host=algo-1, epoch=31, batch=0 train loss <loss>=7.544909954071045\u001b[0m\n",
      "\u001b[34m[10/22/2021 07:22:21 INFO 140662060397952] Epoch[31] Batch[5] avg_epoch_loss=7.444781\u001b[0m\n",
      "\u001b[34m[10/22/2021 07:22:21 INFO 140662060397952] #quality_metric: host=algo-1, epoch=31, batch=5 train loss <loss>=7.444780985514323\u001b[0m\n",
      "\u001b[34m[10/22/2021 07:22:21 INFO 140662060397952] Epoch[31] Batch [5]#011Speed: 113.31 samples/sec#011loss=7.444781\u001b[0m\n",
      "\u001b[34m[10/22/2021 07:22:27 INFO 140662060397952] Epoch[31] Batch[10] avg_epoch_loss=7.361181\u001b[0m\n",
      "\u001b[34m[10/22/2021 07:22:27 INFO 140662060397952] #quality_metric: host=algo-1, epoch=31, batch=10 train loss <loss>=7.260859966278076\u001b[0m\n",
      "\u001b[34m[10/22/2021 07:22:27 INFO 140662060397952] Epoch[31] Batch [10]#011Speed: 104.63 samples/sec#011loss=7.260860\u001b[0m\n",
      "\u001b[34m[10/22/2021 07:22:27 INFO 140662060397952] processed a total of 1306 examples\u001b[0m\n",
      "\u001b[34m#metrics {\"StartTime\": 1634887332.2752826, \"EndTime\": 1634887347.5565026, \"Dimensions\": {\"Algorithm\": \"AWS/DeepAR\", \"Host\": \"algo-1\", \"Operation\": \"training\"}, \"Metrics\": {\"update.time\": {\"sum\": 15281.09884262085, \"count\": 1, \"min\": 15281.09884262085, \"max\": 15281.09884262085}}}\n",
      "\u001b[0m\n",
      "\u001b[34m[10/22/2021 07:22:27 INFO 140662060397952] #throughput_metric: host=algo-1, train throughput=85.46403666844841 records/second\u001b[0m\n",
      "\u001b[34m[10/22/2021 07:22:27 INFO 140662060397952] #progress_metric: host=algo-1, completed 64.0 % of epochs\u001b[0m\n",
      "\u001b[34m[10/22/2021 07:22:27 INFO 140662060397952] #quality_metric: host=algo-1, epoch=31, train loss <loss>=7.36118052222512\u001b[0m\n",
      "\u001b[34m[10/22/2021 07:22:27 INFO 140662060397952] loss did not improve\u001b[0m\n",
      "\u001b[34m[10/22/2021 07:22:31 INFO 140662060397952] Epoch[32] Batch[0] avg_epoch_loss=7.807851\u001b[0m\n",
      "\u001b[34m[10/22/2021 07:22:31 INFO 140662060397952] #quality_metric: host=algo-1, epoch=32, batch=0 train loss <loss>=7.8078508377075195\u001b[0m\n",
      "\u001b[34m[10/22/2021 07:22:36 INFO 140662060397952] Epoch[32] Batch[5] avg_epoch_loss=7.494344\u001b[0m\n",
      "\u001b[34m[10/22/2021 07:22:36 INFO 140662060397952] #quality_metric: host=algo-1, epoch=32, batch=5 train loss <loss>=7.494344393412272\u001b[0m\n",
      "\u001b[34m[10/22/2021 07:22:36 INFO 140662060397952] Epoch[32] Batch [5]#011Speed: 112.60 samples/sec#011loss=7.494344\u001b[0m\n",
      "\u001b[34m[10/22/2021 07:22:41 INFO 140662060397952] processed a total of 1198 examples\u001b[0m\n",
      "\u001b[34m#metrics {\"StartTime\": 1634887347.5565975, \"EndTime\": 1634887361.5187254, \"Dimensions\": {\"Algorithm\": \"AWS/DeepAR\", \"Host\": \"algo-1\", \"Operation\": \"training\"}, \"Metrics\": {\"update.time\": {\"sum\": 13961.582660675049, \"count\": 1, \"min\": 13961.582660675049, \"max\": 13961.582660675049}}}\n",
      "\u001b[0m\n",
      "\u001b[34m[10/22/2021 07:22:41 INFO 140662060397952] #throughput_metric: host=algo-1, train throughput=85.80440434072482 records/second\u001b[0m\n",
      "\u001b[34m[10/22/2021 07:22:41 INFO 140662060397952] #progress_metric: host=algo-1, completed 66.0 % of epochs\u001b[0m\n",
      "\u001b[34m[10/22/2021 07:22:41 INFO 140662060397952] #quality_metric: host=algo-1, epoch=32, train loss <loss>=7.4494462490081785\u001b[0m\n",
      "\u001b[34m[10/22/2021 07:22:41 INFO 140662060397952] loss did not improve\u001b[0m\n",
      "\u001b[34m[10/22/2021 07:22:45 INFO 140662060397952] Epoch[33] Batch[0] avg_epoch_loss=7.809592\u001b[0m\n",
      "\u001b[34m[10/22/2021 07:22:45 INFO 140662060397952] #quality_metric: host=algo-1, epoch=33, batch=0 train loss <loss>=7.809591770172119\u001b[0m\n",
      "\u001b[34m[10/22/2021 07:22:50 INFO 140662060397952] Epoch[33] Batch[5] avg_epoch_loss=7.512943\u001b[0m\n",
      "\u001b[34m[10/22/2021 07:22:50 INFO 140662060397952] #quality_metric: host=algo-1, epoch=33, batch=5 train loss <loss>=7.512943347295125\u001b[0m\n",
      "\u001b[34m[10/22/2021 07:22:50 INFO 140662060397952] Epoch[33] Batch [5]#011Speed: 112.99 samples/sec#011loss=7.512943\u001b[0m\n",
      "\u001b[34m[10/22/2021 07:22:55 INFO 140662060397952] processed a total of 1249 examples\u001b[0m\n",
      "\u001b[34m#metrics {\"StartTime\": 1634887361.518868, \"EndTime\": 1634887375.5366368, \"Dimensions\": {\"Algorithm\": \"AWS/DeepAR\", \"Host\": \"algo-1\", \"Operation\": \"training\"}, \"Metrics\": {\"update.time\": {\"sum\": 14015.90609550476, \"count\": 1, \"min\": 14015.90609550476, \"max\": 14015.90609550476}}}\n",
      "\u001b[0m\n",
      "\u001b[34m[10/22/2021 07:22:55 INFO 140662060397952] #throughput_metric: host=algo-1, train throughput=89.11175907606433 records/second\u001b[0m\n",
      "\u001b[34m[10/22/2021 07:22:55 INFO 140662060397952] #progress_metric: host=algo-1, completed 68.0 % of epochs\u001b[0m\n",
      "\u001b[34m[10/22/2021 07:22:55 INFO 140662060397952] #quality_metric: host=algo-1, epoch=33, train loss <loss>=7.480995178222656\u001b[0m\n",
      "\u001b[34m[10/22/2021 07:22:55 INFO 140662060397952] loss did not improve\u001b[0m\n",
      "\u001b[34m[10/22/2021 07:22:59 INFO 140662060397952] Epoch[34] Batch[0] avg_epoch_loss=7.237481\u001b[0m\n",
      "\u001b[34m[10/22/2021 07:22:59 INFO 140662060397952] #quality_metric: host=algo-1, epoch=34, batch=0 train loss <loss>=7.237480640411377\u001b[0m\n",
      "\u001b[34m[10/22/2021 07:23:05 INFO 140662060397952] Epoch[34] Batch[5] avg_epoch_loss=7.259387\u001b[0m\n",
      "\u001b[34m[10/22/2021 07:23:05 INFO 140662060397952] #quality_metric: host=algo-1, epoch=34, batch=5 train loss <loss>=7.259387334187825\u001b[0m\n",
      "\u001b[34m[10/22/2021 07:23:05 INFO 140662060397952] Epoch[34] Batch [5]#011Speed: 104.38 samples/sec#011loss=7.259387\u001b[0m\n",
      "\u001b[34m[10/22/2021 07:23:11 INFO 140662060397952] Epoch[34] Batch[10] avg_epoch_loss=7.238570\u001b[0m\n",
      "\u001b[34m[10/22/2021 07:23:11 INFO 140662060397952] #quality_metric: host=algo-1, epoch=34, batch=10 train loss <loss>=7.213588714599609\u001b[0m\n",
      "\u001b[34m[10/22/2021 07:23:11 INFO 140662060397952] Epoch[34] Batch [10]#011Speed: 100.95 samples/sec#011loss=7.213589\u001b[0m\n",
      "\u001b[34m[10/22/2021 07:23:11 INFO 140662060397952] processed a total of 1294 examples\u001b[0m\n",
      "\u001b[34m#metrics {\"StartTime\": 1634887375.5367503, \"EndTime\": 1634887391.5710902, \"Dimensions\": {\"Algorithm\": \"AWS/DeepAR\", \"Host\": \"algo-1\", \"Operation\": \"training\"}, \"Metrics\": {\"update.time\": {\"sum\": 16033.75220298767, \"count\": 1, \"min\": 16033.75220298767, \"max\": 16033.75220298767}}}\n",
      "\u001b[0m\n",
      "\u001b[34m[10/22/2021 07:23:11 INFO 140662060397952] #throughput_metric: host=algo-1, train throughput=80.7039854681866 records/second\u001b[0m\n",
      "\u001b[34m[10/22/2021 07:23:11 INFO 140662060397952] #progress_metric: host=algo-1, completed 70.0 % of epochs\u001b[0m\n",
      "\u001b[34m[10/22/2021 07:23:11 INFO 140662060397952] #quality_metric: host=algo-1, epoch=34, train loss <loss>=7.238569779829546\u001b[0m\n",
      "\u001b[34m[10/22/2021 07:23:11 INFO 140662060397952] best epoch loss so far\u001b[0m\n",
      "\u001b[34m[10/22/2021 07:23:11 INFO 140662060397952] Saved checkpoint to \"/opt/ml/model/state_b2ee0c1c-7d36-4ee2-b7d6-d7e930fdc050-0000.params\"\u001b[0m\n",
      "\u001b[34m#metrics {\"StartTime\": 1634887391.5711896, \"EndTime\": 1634887391.686926, \"Dimensions\": {\"Algorithm\": \"AWS/DeepAR\", \"Host\": \"algo-1\", \"Operation\": \"training\"}, \"Metrics\": {\"state.serialize.time\": {\"sum\": 115.0827407836914, \"count\": 1, \"min\": 115.0827407836914, \"max\": 115.0827407836914}}}\n",
      "\u001b[0m\n",
      "\u001b[34m[10/22/2021 07:23:15 INFO 140662060397952] Epoch[35] Batch[0] avg_epoch_loss=8.353086\u001b[0m\n",
      "\u001b[34m[10/22/2021 07:23:15 INFO 140662060397952] #quality_metric: host=algo-1, epoch=35, batch=0 train loss <loss>=8.353086471557617\u001b[0m\n",
      "\u001b[34m[10/22/2021 07:23:20 INFO 140662060397952] Epoch[35] Batch[5] avg_epoch_loss=8.714329\u001b[0m\n",
      "\u001b[34m[10/22/2021 07:23:20 INFO 140662060397952] #quality_metric: host=algo-1, epoch=35, batch=5 train loss <loss>=8.71432932217916\u001b[0m\n",
      "\u001b[34m[10/22/2021 07:23:20 INFO 140662060397952] Epoch[35] Batch [5]#011Speed: 111.98 samples/sec#011loss=8.714329\u001b[0m\n",
      "\u001b[34m[10/22/2021 07:23:25 INFO 140662060397952] processed a total of 1234 examples\u001b[0m\n",
      "\u001b[34m#metrics {\"StartTime\": 1634887391.687029, \"EndTime\": 1634887405.6907423, \"Dimensions\": {\"Algorithm\": \"AWS/DeepAR\", \"Host\": \"algo-1\", \"Operation\": \"training\"}, \"Metrics\": {\"update.time\": {\"sum\": 14003.626108169556, \"count\": 1, \"min\": 14003.626108169556, \"max\": 14003.626108169556}}}\n",
      "\u001b[0m\n",
      "\u001b[34m[10/22/2021 07:23:25 INFO 140662060397952] #throughput_metric: host=algo-1, train throughput=88.11916621621923 records/second\u001b[0m\n",
      "\u001b[34m[10/22/2021 07:23:25 INFO 140662060397952] #progress_metric: host=algo-1, completed 72.0 % of epochs\u001b[0m\n",
      "\u001b[34m[10/22/2021 07:23:25 INFO 140662060397952] #quality_metric: host=algo-1, epoch=35, train loss <loss>=8.507111978530883\u001b[0m\n",
      "\u001b[34m[10/22/2021 07:23:25 INFO 140662060397952] loss did not improve\u001b[0m\n",
      "\u001b[34m[10/22/2021 07:23:29 INFO 140662060397952] Epoch[36] Batch[0] avg_epoch_loss=7.617118\u001b[0m\n",
      "\u001b[34m[10/22/2021 07:23:29 INFO 140662060397952] #quality_metric: host=algo-1, epoch=36, batch=0 train loss <loss>=7.617117881774902\u001b[0m\n",
      "\u001b[34m[10/22/2021 07:23:34 INFO 140662060397952] Epoch[36] Batch[5] avg_epoch_loss=7.950178\u001b[0m\n",
      "\u001b[34m[10/22/2021 07:23:34 INFO 140662060397952] #quality_metric: host=algo-1, epoch=36, batch=5 train loss <loss>=7.950178464253743\u001b[0m\n",
      "\u001b[34m[10/22/2021 07:23:34 INFO 140662060397952] Epoch[36] Batch [5]#011Speed: 113.53 samples/sec#011loss=7.950178\u001b[0m\n",
      "\u001b[34m[10/22/2021 07:23:39 INFO 140662060397952] processed a total of 1210 examples\u001b[0m\n",
      "\u001b[34m#metrics {\"StartTime\": 1634887405.6908321, \"EndTime\": 1634887419.4759104, \"Dimensions\": {\"Algorithm\": \"AWS/DeepAR\", \"Host\": \"algo-1\", \"Operation\": \"training\"}, \"Metrics\": {\"update.time\": {\"sum\": 13784.435749053955, \"count\": 1, \"min\": 13784.435749053955, \"max\": 13784.435749053955}}}\n",
      "\u001b[0m\n",
      "\u001b[34m[10/22/2021 07:23:39 INFO 140662060397952] #throughput_metric: host=algo-1, train throughput=87.77912632861911 records/second\u001b[0m\n",
      "\u001b[34m[10/22/2021 07:23:39 INFO 140662060397952] #progress_metric: host=algo-1, completed 74.0 % of epochs\u001b[0m\n",
      "\u001b[34m[10/22/2021 07:23:39 INFO 140662060397952] #quality_metric: host=algo-1, epoch=36, train loss <loss>=7.951123666763306\u001b[0m\n",
      "\u001b[34m[10/22/2021 07:23:39 INFO 140662060397952] loss did not improve\u001b[0m\n",
      "\u001b[34m[10/22/2021 07:23:42 INFO 140662060397952] Epoch[37] Batch[0] avg_epoch_loss=7.704907\u001b[0m\n",
      "\u001b[34m[10/22/2021 07:23:42 INFO 140662060397952] #quality_metric: host=algo-1, epoch=37, batch=0 train loss <loss>=7.704906940460205\u001b[0m\n",
      "\u001b[34m[10/22/2021 07:23:48 INFO 140662060397952] Epoch[37] Batch[5] avg_epoch_loss=7.689903\u001b[0m\n",
      "\u001b[34m[10/22/2021 07:23:48 INFO 140662060397952] #quality_metric: host=algo-1, epoch=37, batch=5 train loss <loss>=7.689903259277344\u001b[0m\n",
      "\u001b[34m[10/22/2021 07:23:48 INFO 140662060397952] Epoch[37] Batch [5]#011Speed: 114.03 samples/sec#011loss=7.689903\u001b[0m\n",
      "\u001b[34m[10/22/2021 07:23:53 INFO 140662060397952] processed a total of 1245 examples\u001b[0m\n",
      "\u001b[34m#metrics {\"StartTime\": 1634887419.4760215, \"EndTime\": 1634887433.258489, \"Dimensions\": {\"Algorithm\": \"AWS/DeepAR\", \"Host\": \"algo-1\", \"Operation\": \"training\"}, \"Metrics\": {\"update.time\": {\"sum\": 13781.816482543945, \"count\": 1, \"min\": 13781.816482543945, \"max\": 13781.816482543945}}}\n",
      "\u001b[0m\n",
      "\u001b[34m[10/22/2021 07:23:53 INFO 140662060397952] #throughput_metric: host=algo-1, train throughput=90.3354647767598 records/second\u001b[0m\n",
      "\u001b[34m[10/22/2021 07:23:53 INFO 140662060397952] #progress_metric: host=algo-1, completed 76.0 % of epochs\u001b[0m\n",
      "\u001b[34m[10/22/2021 07:23:53 INFO 140662060397952] #quality_metric: host=algo-1, epoch=37, train loss <loss>=7.621685743331909\u001b[0m\n",
      "\u001b[34m[10/22/2021 07:23:53 INFO 140662060397952] loss did not improve\u001b[0m\n",
      "\u001b[34m[10/22/2021 07:23:56 INFO 140662060397952] Epoch[38] Batch[0] avg_epoch_loss=7.526463\u001b[0m\n",
      "\u001b[34m[10/22/2021 07:23:56 INFO 140662060397952] #quality_metric: host=algo-1, epoch=38, batch=0 train loss <loss>=7.526462554931641\u001b[0m\n",
      "\u001b[34m[10/22/2021 07:24:02 INFO 140662060397952] Epoch[38] Batch[5] avg_epoch_loss=7.436683\u001b[0m\n",
      "\u001b[34m[10/22/2021 07:24:02 INFO 140662060397952] #quality_metric: host=algo-1, epoch=38, batch=5 train loss <loss>=7.436683098475139\u001b[0m\n",
      "\u001b[34m[10/22/2021 07:24:02 INFO 140662060397952] Epoch[38] Batch [5]#011Speed: 109.46 samples/sec#011loss=7.436683\u001b[0m\n",
      "\u001b[34m[10/22/2021 07:24:09 INFO 140662060397952] Epoch[38] Batch[10] avg_epoch_loss=7.418277\u001b[0m\n",
      "\u001b[34m[10/22/2021 07:24:09 INFO 140662060397952] #quality_metric: host=algo-1, epoch=38, batch=10 train loss <loss>=7.396189498901367\u001b[0m\n",
      "\u001b[34m[10/22/2021 07:24:09 INFO 140662060397952] Epoch[38] Batch [10]#011Speed: 97.19 samples/sec#011loss=7.396189\u001b[0m\n",
      "\u001b[34m[10/22/2021 07:24:09 INFO 140662060397952] processed a total of 1326 examples\u001b[0m\n",
      "\u001b[34m#metrics {\"StartTime\": 1634887433.258582, \"EndTime\": 1634887449.1655433, \"Dimensions\": {\"Algorithm\": \"AWS/DeepAR\", \"Host\": \"algo-1\", \"Operation\": \"training\"}, \"Metrics\": {\"update.time\": {\"sum\": 15906.314134597778, \"count\": 1, \"min\": 15906.314134597778, \"max\": 15906.314134597778}}}\n",
      "\u001b[0m\n",
      "\u001b[34m[10/22/2021 07:24:09 INFO 140662060397952] #throughput_metric: host=algo-1, train throughput=83.36234069205805 records/second\u001b[0m\n",
      "\u001b[34m[10/22/2021 07:24:09 INFO 140662060397952] #progress_metric: host=algo-1, completed 78.0 % of epochs\u001b[0m\n",
      "\u001b[34m[10/22/2021 07:24:09 INFO 140662060397952] #quality_metric: host=algo-1, epoch=38, train loss <loss>=7.418276916850697\u001b[0m\n",
      "\u001b[34m[10/22/2021 07:24:09 INFO 140662060397952] loss did not improve\u001b[0m\n",
      "\u001b[34m[10/22/2021 07:24:12 INFO 140662060397952] Epoch[39] Batch[0] avg_epoch_loss=7.543447\u001b[0m\n",
      "\u001b[34m[10/22/2021 07:24:12 INFO 140662060397952] #quality_metric: host=algo-1, epoch=39, batch=0 train loss <loss>=7.543447494506836\u001b[0m\n",
      "\u001b[34m[10/22/2021 07:24:18 INFO 140662060397952] Epoch[39] Batch[5] avg_epoch_loss=7.526470\u001b[0m\n",
      "\u001b[34m[10/22/2021 07:24:18 INFO 140662060397952] #quality_metric: host=algo-1, epoch=39, batch=5 train loss <loss>=7.526469866434733\u001b[0m\n",
      "\u001b[34m[10/22/2021 07:24:18 INFO 140662060397952] Epoch[39] Batch [5]#011Speed: 113.69 samples/sec#011loss=7.526470\u001b[0m\n",
      "\u001b[34m[10/22/2021 07:24:24 INFO 140662060397952] Epoch[39] Batch[10] avg_epoch_loss=7.361066\u001b[0m\n",
      "\u001b[34m[10/22/2021 07:24:24 INFO 140662060397952] #quality_metric: host=algo-1, epoch=39, batch=10 train loss <loss>=7.162582206726074\u001b[0m\n",
      "\u001b[34m[10/22/2021 07:24:24 INFO 140662060397952] Epoch[39] Batch [10]#011Speed: 107.86 samples/sec#011loss=7.162582\u001b[0m\n",
      "\u001b[34m[10/22/2021 07:24:24 INFO 140662060397952] processed a total of 1303 examples\u001b[0m\n",
      "\u001b[34m#metrics {\"StartTime\": 1634887449.1656458, \"EndTime\": 1634887464.3102846, \"Dimensions\": {\"Algorithm\": \"AWS/DeepAR\", \"Host\": \"algo-1\", \"Operation\": \"training\"}, \"Metrics\": {\"update.time\": {\"sum\": 15144.176244735718, \"count\": 1, \"min\": 15144.176244735718, \"max\": 15144.176244735718}}}\n",
      "\u001b[0m\n",
      "\u001b[34m[10/22/2021 07:24:24 INFO 140662060397952] #throughput_metric: host=algo-1, train throughput=86.03876189895796 records/second\u001b[0m\n",
      "\u001b[34m[10/22/2021 07:24:24 INFO 140662060397952] #progress_metric: host=algo-1, completed 80.0 % of epochs\u001b[0m\n",
      "\u001b[34m[10/22/2021 07:24:24 INFO 140662060397952] #quality_metric: host=algo-1, epoch=39, train loss <loss>=7.3610663847489795\u001b[0m\n",
      "\u001b[34m[10/22/2021 07:24:24 INFO 140662060397952] loss did not improve\u001b[0m\n",
      "\u001b[34m[10/22/2021 07:24:27 INFO 140662060397952] Epoch[40] Batch[0] avg_epoch_loss=7.264410\u001b[0m\n",
      "\u001b[34m[10/22/2021 07:24:27 INFO 140662060397952] #quality_metric: host=algo-1, epoch=40, batch=0 train loss <loss>=7.26440954208374\u001b[0m\n",
      "\u001b[34m[10/22/2021 07:24:33 INFO 140662060397952] Epoch[40] Batch[5] avg_epoch_loss=7.250257\u001b[0m\n",
      "\u001b[34m[10/22/2021 07:24:33 INFO 140662060397952] #quality_metric: host=algo-1, epoch=40, batch=5 train loss <loss>=7.250256776809692\u001b[0m\n",
      "\u001b[34m[10/22/2021 07:24:33 INFO 140662060397952] Epoch[40] Batch [5]#011Speed: 113.01 samples/sec#011loss=7.250257\u001b[0m\n",
      "\u001b[34m[10/22/2021 07:24:39 INFO 140662060397952] Epoch[40] Batch[10] avg_epoch_loss=7.366709\u001b[0m\n",
      "\u001b[34m[10/22/2021 07:24:39 INFO 140662060397952] #quality_metric: host=algo-1, epoch=40, batch=10 train loss <loss>=7.506451416015625\u001b[0m\n",
      "\u001b[34m[10/22/2021 07:24:39 INFO 140662060397952] Epoch[40] Batch [10]#011Speed: 107.35 samples/sec#011loss=7.506451\u001b[0m\n",
      "\u001b[34m[10/22/2021 07:24:39 INFO 140662060397952] processed a total of 1295 examples\u001b[0m\n",
      "\u001b[34m#metrics {\"StartTime\": 1634887464.3103948, \"EndTime\": 1634887479.5168862, \"Dimensions\": {\"Algorithm\": \"AWS/DeepAR\", \"Host\": \"algo-1\", \"Operation\": \"training\"}, \"Metrics\": {\"update.time\": {\"sum\": 15205.903768539429, \"count\": 1, \"min\": 15205.903768539429, \"max\": 15205.903768539429}}}\n",
      "\u001b[0m\n",
      "\u001b[34m[10/22/2021 07:24:39 INFO 140662060397952] #throughput_metric: host=algo-1, train throughput=85.16340480666584 records/second\u001b[0m\n",
      "\u001b[34m[10/22/2021 07:24:39 INFO 140662060397952] #progress_metric: host=algo-1, completed 82.0 % of epochs\u001b[0m\n",
      "\u001b[34m[10/22/2021 07:24:39 INFO 140662060397952] #quality_metric: host=algo-1, epoch=40, train loss <loss>=7.366708885539662\u001b[0m\n",
      "\u001b[34m[10/22/2021 07:24:39 INFO 140662060397952] loss did not improve\u001b[0m\n",
      "\u001b[34m[10/22/2021 07:24:43 INFO 140662060397952] Epoch[41] Batch[0] avg_epoch_loss=7.196234\u001b[0m\n",
      "\u001b[34m[10/22/2021 07:24:43 INFO 140662060397952] #quality_metric: host=algo-1, epoch=41, batch=0 train loss <loss>=7.196234226226807\u001b[0m\n",
      "\u001b[34m[10/22/2021 07:24:48 INFO 140662060397952] Epoch[41] Batch[5] avg_epoch_loss=7.191346\u001b[0m\n",
      "\u001b[34m[10/22/2021 07:24:48 INFO 140662060397952] #quality_metric: host=algo-1, epoch=41, batch=5 train loss <loss>=7.191346009572347\u001b[0m\n",
      "\u001b[34m[10/22/2021 07:24:48 INFO 140662060397952] Epoch[41] Batch [5]#011Speed: 112.58 samples/sec#011loss=7.191346\u001b[0m\n",
      "\u001b[34m[10/22/2021 07:24:54 INFO 140662060397952] Epoch[41] Batch[10] avg_epoch_loss=7.177309\u001b[0m\n",
      "\u001b[34m[10/22/2021 07:24:54 INFO 140662060397952] #quality_metric: host=algo-1, epoch=41, batch=10 train loss <loss>=7.160465240478516\u001b[0m\n",
      "\u001b[34m[10/22/2021 07:24:54 INFO 140662060397952] Epoch[41] Batch [10]#011Speed: 107.26 samples/sec#011loss=7.160465\u001b[0m\n",
      "\u001b[34m[10/22/2021 07:24:54 INFO 140662060397952] processed a total of 1313 examples\u001b[0m\n",
      "\u001b[34m#metrics {\"StartTime\": 1634887479.5169926, \"EndTime\": 1634887494.672981, \"Dimensions\": {\"Algorithm\": \"AWS/DeepAR\", \"Host\": \"algo-1\", \"Operation\": \"training\"}, \"Metrics\": {\"update.time\": {\"sum\": 15155.41386604309, \"count\": 1, \"min\": 15155.41386604309, \"max\": 15155.41386604309}}}\n",
      "\u001b[0m\n",
      "\u001b[34m[10/22/2021 07:24:54 INFO 140662060397952] #throughput_metric: host=algo-1, train throughput=86.63491138333937 records/second\u001b[0m\n",
      "\u001b[34m[10/22/2021 07:24:54 INFO 140662060397952] #progress_metric: host=algo-1, completed 84.0 % of epochs\u001b[0m\n",
      "\u001b[34m[10/22/2021 07:24:54 INFO 140662060397952] #quality_metric: host=algo-1, epoch=41, train loss <loss>=7.177309296347878\u001b[0m\n",
      "\u001b[34m[10/22/2021 07:24:54 INFO 140662060397952] best epoch loss so far\u001b[0m\n",
      "\u001b[34m[10/22/2021 07:24:54 INFO 140662060397952] Saved checkpoint to \"/opt/ml/model/state_41a6c3ea-c838-4d2b-95f5-d79e3788dddc-0000.params\"\u001b[0m\n",
      "\u001b[34m#metrics {\"StartTime\": 1634887494.6730785, \"EndTime\": 1634887494.790068, \"Dimensions\": {\"Algorithm\": \"AWS/DeepAR\", \"Host\": \"algo-1\", \"Operation\": \"training\"}, \"Metrics\": {\"state.serialize.time\": {\"sum\": 116.49370193481445, \"count\": 1, \"min\": 116.49370193481445, \"max\": 116.49370193481445}}}\n",
      "\u001b[0m\n",
      "\u001b[34m[10/22/2021 07:24:58 INFO 140662060397952] Epoch[42] Batch[0] avg_epoch_loss=7.494769\u001b[0m\n",
      "\u001b[34m[10/22/2021 07:24:58 INFO 140662060397952] #quality_metric: host=algo-1, epoch=42, batch=0 train loss <loss>=7.494769096374512\u001b[0m\n",
      "\u001b[34m[10/22/2021 07:25:04 INFO 140662060397952] Epoch[42] Batch[5] avg_epoch_loss=7.294490\u001b[0m\n",
      "\u001b[34m[10/22/2021 07:25:04 INFO 140662060397952] #quality_metric: host=algo-1, epoch=42, batch=5 train loss <loss>=7.294490337371826\u001b[0m\n",
      "\u001b[34m[10/22/2021 07:25:04 INFO 140662060397952] Epoch[42] Batch [5]#011Speed: 106.46 samples/sec#011loss=7.294490\u001b[0m\n",
      "\u001b[34m[10/22/2021 07:25:10 INFO 140662060397952] Epoch[42] Batch[10] avg_epoch_loss=7.341752\u001b[0m\n",
      "\u001b[34m[10/22/2021 07:25:10 INFO 140662060397952] #quality_metric: host=algo-1, epoch=42, batch=10 train loss <loss>=7.39846658706665\u001b[0m\n",
      "\u001b[34m[10/22/2021 07:25:10 INFO 140662060397952] Epoch[42] Batch [10]#011Speed: 97.08 samples/sec#011loss=7.398467\u001b[0m\n",
      "\u001b[34m[10/22/2021 07:25:10 INFO 140662060397952] processed a total of 1288 examples\u001b[0m\n",
      "\u001b[34m#metrics {\"StartTime\": 1634887494.7901735, \"EndTime\": 1634887510.9613864, \"Dimensions\": {\"Algorithm\": \"AWS/DeepAR\", \"Host\": \"algo-1\", \"Operation\": \"training\"}, \"Metrics\": {\"update.time\": {\"sum\": 16171.116828918457, \"count\": 1, \"min\": 16171.116828918457, \"max\": 16171.116828918457}}}\n",
      "\u001b[0m\n",
      "\u001b[34m[10/22/2021 07:25:10 INFO 140662060397952] #throughput_metric: host=algo-1, train throughput=79.64745633370214 records/second\u001b[0m\n",
      "\u001b[34m[10/22/2021 07:25:10 INFO 140662060397952] #progress_metric: host=algo-1, completed 86.0 % of epochs\u001b[0m\n",
      "\u001b[34m[10/22/2021 07:25:10 INFO 140662060397952] #quality_metric: host=algo-1, epoch=42, train loss <loss>=7.341752269051292\u001b[0m\n",
      "\u001b[34m[10/22/2021 07:25:10 INFO 140662060397952] loss did not improve\u001b[0m\n",
      "\u001b[34m[10/22/2021 07:25:14 INFO 140662060397952] Epoch[43] Batch[0] avg_epoch_loss=7.956925\u001b[0m\n",
      "\u001b[34m[10/22/2021 07:25:14 INFO 140662060397952] #quality_metric: host=algo-1, epoch=43, batch=0 train loss <loss>=7.956925392150879\u001b[0m\n",
      "\u001b[34m[10/22/2021 07:25:20 INFO 140662060397952] Epoch[43] Batch[5] avg_epoch_loss=7.847619\u001b[0m\n",
      "\u001b[34m[10/22/2021 07:25:20 INFO 140662060397952] #quality_metric: host=algo-1, epoch=43, batch=5 train loss <loss>=7.84761905670166\u001b[0m\n",
      "\u001b[34m[10/22/2021 07:25:20 INFO 140662060397952] Epoch[43] Batch [5]#011Speed: 113.20 samples/sec#011loss=7.847619\u001b[0m\n",
      "\u001b[34m[10/22/2021 07:25:24 INFO 140662060397952] processed a total of 1255 examples\u001b[0m\n",
      "\u001b[34m#metrics {\"StartTime\": 1634887510.9614866, \"EndTime\": 1634887524.8624923, \"Dimensions\": {\"Algorithm\": \"AWS/DeepAR\", \"Host\": \"algo-1\", \"Operation\": \"training\"}, \"Metrics\": {\"update.time\": {\"sum\": 13900.526285171509, \"count\": 1, \"min\": 13900.526285171509, \"max\": 13900.526285171509}}}\n",
      "\u001b[0m\n",
      "\u001b[34m[10/22/2021 07:25:24 INFO 140662060397952] #throughput_metric: host=algo-1, train throughput=90.28322564445243 records/second\u001b[0m\n",
      "\u001b[34m[10/22/2021 07:25:24 INFO 140662060397952] #progress_metric: host=algo-1, completed 88.0 % of epochs\u001b[0m\n",
      "\u001b[34m[10/22/2021 07:25:24 INFO 140662060397952] #quality_metric: host=algo-1, epoch=43, train loss <loss>=7.979390954971313\u001b[0m\n",
      "\u001b[34m[10/22/2021 07:25:24 INFO 140662060397952] loss did not improve\u001b[0m\n",
      "\u001b[34m[10/22/2021 07:25:28 INFO 140662060397952] Epoch[44] Batch[0] avg_epoch_loss=8.648657\u001b[0m\n",
      "\u001b[34m[10/22/2021 07:25:28 INFO 140662060397952] #quality_metric: host=algo-1, epoch=44, batch=0 train loss <loss>=8.648656845092773\u001b[0m\n",
      "\u001b[34m[10/22/2021 07:25:34 INFO 140662060397952] Epoch[44] Batch[5] avg_epoch_loss=8.358954\u001b[0m\n",
      "\u001b[34m[10/22/2021 07:25:34 INFO 140662060397952] #quality_metric: host=algo-1, epoch=44, batch=5 train loss <loss>=8.358954270680746\u001b[0m\n",
      "\u001b[34m[10/22/2021 07:25:34 INFO 140662060397952] Epoch[44] Batch [5]#011Speed: 112.65 samples/sec#011loss=8.358954\u001b[0m\n",
      "\u001b[34m[10/22/2021 07:25:38 INFO 140662060397952] processed a total of 1222 examples\u001b[0m\n",
      "\u001b[34m#metrics {\"StartTime\": 1634887524.8626137, \"EndTime\": 1634887538.849069, \"Dimensions\": {\"Algorithm\": \"AWS/DeepAR\", \"Host\": \"algo-1\", \"Operation\": \"training\"}, \"Metrics\": {\"update.time\": {\"sum\": 13985.84532737732, \"count\": 1, \"min\": 13985.84532737732, \"max\": 13985.84532737732}}}\n",
      "\u001b[0m\n",
      "\u001b[34m[10/22/2021 07:25:38 INFO 140662060397952] #throughput_metric: host=algo-1, train throughput=87.37315252738543 records/second\u001b[0m\n",
      "\u001b[34m[10/22/2021 07:25:38 INFO 140662060397952] #progress_metric: host=algo-1, completed 90.0 % of epochs\u001b[0m\n",
      "\u001b[34m[10/22/2021 07:25:38 INFO 140662060397952] #quality_metric: host=algo-1, epoch=44, train loss <loss>=8.229113721847535\u001b[0m\n",
      "\u001b[34m[10/22/2021 07:25:38 INFO 140662060397952] loss did not improve\u001b[0m\n",
      "\u001b[34m[10/22/2021 07:25:42 INFO 140662060397952] Epoch[45] Batch[0] avg_epoch_loss=7.814106\u001b[0m\n",
      "\u001b[34m[10/22/2021 07:25:42 INFO 140662060397952] #quality_metric: host=algo-1, epoch=45, batch=0 train loss <loss>=7.81410551071167\u001b[0m\n",
      "\u001b[34m[10/22/2021 07:25:48 INFO 140662060397952] Epoch[45] Batch[5] avg_epoch_loss=7.922836\u001b[0m\n",
      "\u001b[34m[10/22/2021 07:25:48 INFO 140662060397952] #quality_metric: host=algo-1, epoch=45, batch=5 train loss <loss>=7.922835906346639\u001b[0m\n",
      "\u001b[34m[10/22/2021 07:25:48 INFO 140662060397952] Epoch[45] Batch [5]#011Speed: 113.23 samples/sec#011loss=7.922836\u001b[0m\n",
      "\u001b[34m[10/22/2021 07:25:52 INFO 140662060397952] processed a total of 1238 examples\u001b[0m\n",
      "\u001b[34m#metrics {\"StartTime\": 1634887538.849164, \"EndTime\": 1634887552.7685835, \"Dimensions\": {\"Algorithm\": \"AWS/DeepAR\", \"Host\": \"algo-1\", \"Operation\": \"training\"}, \"Metrics\": {\"update.time\": {\"sum\": 13918.764591217041, \"count\": 1, \"min\": 13918.764591217041, \"max\": 13918.764591217041}}}\n",
      "\u001b[0m\n",
      "\u001b[34m[10/22/2021 07:25:52 INFO 140662060397952] #throughput_metric: host=algo-1, train throughput=88.94362578530239 records/second\u001b[0m\n",
      "\u001b[34m[10/22/2021 07:25:52 INFO 140662060397952] #progress_metric: host=algo-1, completed 92.0 % of epochs\u001b[0m\n",
      "\u001b[34m[10/22/2021 07:25:52 INFO 140662060397952] #quality_metric: host=algo-1, epoch=45, train loss <loss>=7.865821695327758\u001b[0m\n",
      "\u001b[34m[10/22/2021 07:25:52 INFO 140662060397952] loss did not improve\u001b[0m\n",
      "\u001b[34m[10/22/2021 07:25:56 INFO 140662060397952] Epoch[46] Batch[0] avg_epoch_loss=7.771154\u001b[0m\n",
      "\u001b[34m[10/22/2021 07:25:56 INFO 140662060397952] #quality_metric: host=algo-1, epoch=46, batch=0 train loss <loss>=7.771153926849365\u001b[0m\n",
      "\u001b[34m[10/22/2021 07:26:02 INFO 140662060397952] Epoch[46] Batch[5] avg_epoch_loss=7.602704\u001b[0m\n",
      "\u001b[34m[10/22/2021 07:26:02 INFO 140662060397952] #quality_metric: host=algo-1, epoch=46, batch=5 train loss <loss>=7.602704445521037\u001b[0m\n",
      "\u001b[34m[10/22/2021 07:26:02 INFO 140662060397952] Epoch[46] Batch [5]#011Speed: 107.77 samples/sec#011loss=7.602704\u001b[0m\n",
      "\u001b[34m[10/22/2021 07:26:08 INFO 140662060397952] Epoch[46] Batch[10] avg_epoch_loss=7.515393\u001b[0m\n",
      "\u001b[34m[10/22/2021 07:26:08 INFO 140662060397952] #quality_metric: host=algo-1, epoch=46, batch=10 train loss <loss>=7.410620307922363\u001b[0m\n",
      "\u001b[34m[10/22/2021 07:26:08 INFO 140662060397952] Epoch[46] Batch [10]#011Speed: 93.69 samples/sec#011loss=7.410620\u001b[0m\n",
      "\u001b[34m[10/22/2021 07:26:08 INFO 140662060397952] processed a total of 1343 examples\u001b[0m\n",
      "\u001b[34m#metrics {\"StartTime\": 1634887552.7686932, \"EndTime\": 1634887568.959305, \"Dimensions\": {\"Algorithm\": \"AWS/DeepAR\", \"Host\": \"algo-1\", \"Operation\": \"training\"}, \"Metrics\": {\"update.time\": {\"sum\": 16189.853191375732, \"count\": 1, \"min\": 16189.853191375732, \"max\": 16189.853191375732}}}\n",
      "\u001b[0m\n",
      "\u001b[34m[10/22/2021 07:26:08 INFO 140662060397952] #throughput_metric: host=algo-1, train throughput=82.95246025134979 records/second\u001b[0m\n",
      "\u001b[34m[10/22/2021 07:26:08 INFO 140662060397952] #progress_metric: host=algo-1, completed 94.0 % of epochs\u001b[0m\n",
      "\u001b[34m[10/22/2021 07:26:08 INFO 140662060397952] #quality_metric: host=algo-1, epoch=46, train loss <loss>=7.515393473885276\u001b[0m\n",
      "\u001b[34m[10/22/2021 07:26:08 INFO 140662060397952] loss did not improve\u001b[0m\n",
      "\u001b[34m[10/22/2021 07:26:12 INFO 140662060397952] Epoch[47] Batch[0] avg_epoch_loss=7.302136\u001b[0m\n",
      "\u001b[34m[10/22/2021 07:26:12 INFO 140662060397952] #quality_metric: host=algo-1, epoch=47, batch=0 train loss <loss>=7.302135944366455\u001b[0m\n",
      "\u001b[34m[10/22/2021 07:26:18 INFO 140662060397952] Epoch[47] Batch[5] avg_epoch_loss=7.302013\u001b[0m\n",
      "\u001b[34m[10/22/2021 07:26:18 INFO 140662060397952] #quality_metric: host=algo-1, epoch=47, batch=5 train loss <loss>=7.302012761433919\u001b[0m\n",
      "\u001b[34m[10/22/2021 07:26:18 INFO 140662060397952] Epoch[47] Batch [5]#011Speed: 112.63 samples/sec#011loss=7.302013\u001b[0m\n",
      "\u001b[34m[10/22/2021 07:26:24 INFO 140662060397952] Epoch[47] Batch[10] avg_epoch_loss=7.217252\u001b[0m\n",
      "\u001b[34m[10/22/2021 07:26:24 INFO 140662060397952] #quality_metric: host=algo-1, epoch=47, batch=10 train loss <loss>=7.115539169311523\u001b[0m\n",
      "\u001b[34m[10/22/2021 07:26:24 INFO 140662060397952] Epoch[47] Batch [10]#011Speed: 106.97 samples/sec#011loss=7.115539\u001b[0m\n",
      "\u001b[34m[10/22/2021 07:26:24 INFO 140662060397952] processed a total of 1296 examples\u001b[0m\n",
      "\u001b[34m#metrics {\"StartTime\": 1634887568.959401, \"EndTime\": 1634887584.1687293, \"Dimensions\": {\"Algorithm\": \"AWS/DeepAR\", \"Host\": \"algo-1\", \"Operation\": \"training\"}, \"Metrics\": {\"update.time\": {\"sum\": 15208.711385726929, \"count\": 1, \"min\": 15208.711385726929, \"max\": 15208.711385726929}}}\n",
      "\u001b[0m\n",
      "\u001b[34m[10/22/2021 07:26:24 INFO 140662060397952] #throughput_metric: host=algo-1, train throughput=85.21347448852646 records/second\u001b[0m\n",
      "\u001b[34m[10/22/2021 07:26:24 INFO 140662060397952] #progress_metric: host=algo-1, completed 96.0 % of epochs\u001b[0m\n",
      "\u001b[34m[10/22/2021 07:26:24 INFO 140662060397952] #quality_metric: host=algo-1, epoch=47, train loss <loss>=7.217252037741921\u001b[0m\n",
      "\u001b[34m[10/22/2021 07:26:24 INFO 140662060397952] loss did not improve\u001b[0m\n",
      "\u001b[34m[10/22/2021 07:26:27 INFO 140662060397952] Epoch[48] Batch[0] avg_epoch_loss=7.834709\u001b[0m\n",
      "\u001b[34m[10/22/2021 07:26:27 INFO 140662060397952] #quality_metric: host=algo-1, epoch=48, batch=0 train loss <loss>=7.834709167480469\u001b[0m\n",
      "\u001b[34m[10/22/2021 07:26:33 INFO 140662060397952] Epoch[48] Batch[5] avg_epoch_loss=7.391153\u001b[0m\n",
      "\u001b[34m[10/22/2021 07:26:33 INFO 140662060397952] #quality_metric: host=algo-1, epoch=48, batch=5 train loss <loss>=7.391153017679851\u001b[0m\n",
      "\u001b[34m[10/22/2021 07:26:33 INFO 140662060397952] Epoch[48] Batch [5]#011Speed: 112.63 samples/sec#011loss=7.391153\u001b[0m\n",
      "\u001b[34m[10/22/2021 07:26:39 INFO 140662060397952] Epoch[48] Batch[10] avg_epoch_loss=7.464610\u001b[0m\n",
      "\u001b[34m[10/22/2021 07:26:39 INFO 140662060397952] #quality_metric: host=algo-1, epoch=48, batch=10 train loss <loss>=7.552757930755615\u001b[0m\n",
      "\u001b[34m[10/22/2021 07:26:39 INFO 140662060397952] Epoch[48] Batch [10]#011Speed: 107.33 samples/sec#011loss=7.552758\u001b[0m\n",
      "\u001b[34m[10/22/2021 07:26:39 INFO 140662060397952] processed a total of 1285 examples\u001b[0m\n",
      "\u001b[34m#metrics {\"StartTime\": 1634887584.16883, \"EndTime\": 1634887599.4796677, \"Dimensions\": {\"Algorithm\": \"AWS/DeepAR\", \"Host\": \"algo-1\", \"Operation\": \"training\"}, \"Metrics\": {\"update.time\": {\"sum\": 15310.17541885376, \"count\": 1, \"min\": 15310.17541885376, \"max\": 15310.17541885376}}}\n",
      "\u001b[0m\n",
      "\u001b[34m[10/22/2021 07:26:39 INFO 140662060397952] #throughput_metric: host=algo-1, train throughput=83.9303050658055 records/second\u001b[0m\n",
      "\u001b[34m[10/22/2021 07:26:39 INFO 140662060397952] #progress_metric: host=algo-1, completed 98.0 % of epochs\u001b[0m\n",
      "\u001b[34m[10/22/2021 07:26:39 INFO 140662060397952] #quality_metric: host=algo-1, epoch=48, train loss <loss>=7.464609796350652\u001b[0m\n",
      "\u001b[34m[10/22/2021 07:26:39 INFO 140662060397952] loss did not improve\u001b[0m\n",
      "\u001b[34m[10/22/2021 07:26:43 INFO 140662060397952] Epoch[49] Batch[0] avg_epoch_loss=7.548161\u001b[0m\n",
      "\u001b[34m[10/22/2021 07:26:43 INFO 140662060397952] #quality_metric: host=algo-1, epoch=49, batch=0 train loss <loss>=7.548160552978516\u001b[0m\n",
      "\u001b[34m[10/22/2021 07:26:48 INFO 140662060397952] Epoch[49] Batch[5] avg_epoch_loss=7.626783\u001b[0m\n",
      "\u001b[34m[10/22/2021 07:26:48 INFO 140662060397952] #quality_metric: host=algo-1, epoch=49, batch=5 train loss <loss>=7.626782814661662\u001b[0m\n",
      "\u001b[34m[10/22/2021 07:26:48 INFO 140662060397952] Epoch[49] Batch [5]#011Speed: 111.58 samples/sec#011loss=7.626783\u001b[0m\n",
      "\u001b[34m[10/22/2021 07:26:54 INFO 140662060397952] Epoch[49] Batch[10] avg_epoch_loss=7.575879\u001b[0m\n",
      "\u001b[34m[10/22/2021 07:26:54 INFO 140662060397952] #quality_metric: host=algo-1, epoch=49, batch=10 train loss <loss>=7.514795303344727\u001b[0m\n",
      "\u001b[34m[10/22/2021 07:26:54 INFO 140662060397952] Epoch[49] Batch [10]#011Speed: 108.51 samples/sec#011loss=7.514795\u001b[0m\n",
      "\u001b[34m[10/22/2021 07:26:54 INFO 140662060397952] processed a total of 1300 examples\u001b[0m\n",
      "\u001b[34m#metrics {\"StartTime\": 1634887599.47977, \"EndTime\": 1634887614.6497638, \"Dimensions\": {\"Algorithm\": \"AWS/DeepAR\", \"Host\": \"algo-1\", \"Operation\": \"training\"}, \"Metrics\": {\"update.time\": {\"sum\": 15169.451713562012, \"count\": 1, \"min\": 15169.451713562012, \"max\": 15169.451713562012}}}\n",
      "\u001b[0m\n",
      "\u001b[34m[10/22/2021 07:26:54 INFO 140662060397952] #throughput_metric: host=algo-1, train throughput=85.69773001246348 records/second\u001b[0m\n",
      "\u001b[34m[10/22/2021 07:26:54 INFO 140662060397952] #progress_metric: host=algo-1, completed 100.0 % of epochs\u001b[0m\n",
      "\u001b[34m[10/22/2021 07:26:54 INFO 140662060397952] #quality_metric: host=algo-1, epoch=49, train loss <loss>=7.575879400426691\u001b[0m\n",
      "\u001b[34m[10/22/2021 07:26:54 INFO 140662060397952] loss did not improve\u001b[0m\n",
      "\u001b[34m[10/22/2021 07:26:54 INFO 140662060397952] Final loss: 7.177309296347878 (occurred at epoch 41)\u001b[0m\n",
      "\u001b[34m[10/22/2021 07:26:54 INFO 140662060397952] #quality_metric: host=algo-1, train final_loss <loss>=7.177309296347878\u001b[0m\n",
      "\u001b[34m/opt/amazon/lib/python3.6/site-packages/algorithm/run_worker.py:356: DeprecationWarning: The 'warn' function is deprecated, use 'warning' instead\n",
      "  \"You are using large values for `context_length` and/or `prediction_length`. \"\u001b[0m\n",
      "\u001b[34m[10/22/2021 07:26:54 WARNING 140662060397952] You are using large values for `context_length` and/or `prediction_length`. The following step may take some time. If the step crashes, use an instance with more memory or reduce these two parameters.\u001b[0m\n",
      "\u001b[34m[10/22/2021 07:26:54 INFO 140662060397952] Worker algo-1 finished training.\u001b[0m\n",
      "\u001b[34m[10/22/2021 07:26:54 WARNING 140662060397952] wait_for_all_workers will not sync workers since the kv store is not running distributed\u001b[0m\n",
      "\u001b[34m[10/22/2021 07:26:54 INFO 140662060397952] All workers finished. Serializing model for prediction.\u001b[0m\n",
      "\u001b[34m#metrics {\"StartTime\": 1634887614.6498642, \"EndTime\": 1634887620.374312, \"Dimensions\": {\"Algorithm\": \"AWS/DeepAR\", \"Host\": \"algo-1\", \"Operation\": \"training\"}, \"Metrics\": {\"get_graph.time\": {\"sum\": 5722.9905128479, \"count\": 1, \"min\": 5722.9905128479, \"max\": 5722.9905128479}}}\n",
      "\u001b[0m\n",
      "\u001b[34m[10/22/2021 07:27:00 INFO 140662060397952] Number of GPUs being used: 0\u001b[0m\n",
      "\u001b[34m#metrics {\"StartTime\": 1634887620.3744133, \"EndTime\": 1634887620.9443996, \"Dimensions\": {\"Algorithm\": \"AWS/DeepAR\", \"Host\": \"algo-1\", \"Operation\": \"training\"}, \"Metrics\": {\"finalize.time\": {\"sum\": 6293.126344680786, \"count\": 1, \"min\": 6293.126344680786, \"max\": 6293.126344680786}}}\n",
      "\u001b[0m\n",
      "\u001b[34m[10/22/2021 07:27:00 INFO 140662060397952] Serializing to /opt/ml/model/model_algo-1\u001b[0m\n",
      "\u001b[34m[10/22/2021 07:27:01 INFO 140662060397952] Saved checkpoint to \"/opt/ml/model/model_algo-1-0000.params\"\u001b[0m\n",
      "\u001b[34m#metrics {\"StartTime\": 1634887620.9444883, \"EndTime\": 1634887621.0165048, \"Dimensions\": {\"Algorithm\": \"AWS/DeepAR\", \"Host\": \"algo-1\", \"Operation\": \"training\"}, \"Metrics\": {\"model.serialize.time\": {\"sum\": 71.96521759033203, \"count\": 1, \"min\": 71.96521759033203, \"max\": 71.96521759033203}}}\n",
      "\u001b[0m\n",
      "\u001b[34m[10/22/2021 07:27:01 INFO 140662060397952] Successfully serialized the model for prediction.\u001b[0m\n",
      "\u001b[34m[10/22/2021 07:27:01 INFO 140662060397952] #memory_usage::<batchbuffer> = 407.22618103027344 mb\u001b[0m\n",
      "\u001b[34m[10/22/2021 07:27:01 INFO 140662060397952] Evaluating model accuracy on testset using 100 samples\u001b[0m\n",
      "\u001b[34m#metrics {\"StartTime\": 1634887621.0165741, \"EndTime\": 1634887621.0177543, \"Dimensions\": {\"Algorithm\": \"AWS/DeepAR\", \"Host\": \"algo-1\", \"Operation\": \"training\"}, \"Metrics\": {\"model.bind.time\": {\"sum\": 0.04076957702636719, \"count\": 1, \"min\": 0.04076957702636719, \"max\": 0.04076957702636719}}}\n",
      "\u001b[0m\n",
      "\u001b[34m#metrics {\"StartTime\": 1634887621.0178235, \"EndTime\": 1634887646.1268995, \"Dimensions\": {\"Algorithm\": \"AWS/DeepAR\", \"Host\": \"algo-1\", \"Operation\": \"training\"}, \"Metrics\": {\"model.score.time\": {\"sum\": 25109.18951034546, \"count\": 1, \"min\": 25109.18951034546, \"max\": 25109.18951034546}}}\n",
      "\u001b[0m\n",
      "\u001b[34m[10/22/2021 07:27:26 INFO 140662060397952] #test_score (algo-1, RMSE): 6061.67765556698\u001b[0m\n",
      "\u001b[34m[10/22/2021 07:27:26 INFO 140662060397952] #test_score (algo-1, mean_absolute_QuantileLoss): 621347.0079861111\u001b[0m\n",
      "\u001b[34m[10/22/2021 07:27:26 INFO 140662060397952] #test_score (algo-1, mean_wQuantileLoss): 0.06106339843021163\u001b[0m\n",
      "\u001b[34m[10/22/2021 07:27:26 INFO 140662060397952] #test_score (algo-1, wQuantileLoss[0.1]): 0.05775920217180267\u001b[0m\n",
      "\u001b[34m[10/22/2021 07:27:26 INFO 140662060397952] #test_score (algo-1, wQuantileLoss[0.2]): 0.0702513179158525\u001b[0m\n",
      "\u001b[34m[10/22/2021 07:27:26 INFO 140662060397952] #test_score (algo-1, wQuantileLoss[0.3]): 0.07586543093377966\u001b[0m\n",
      "\u001b[34m[10/22/2021 07:27:26 INFO 140662060397952] #test_score (algo-1, wQuantileLoss[0.4]): 0.07804261997096734\u001b[0m\n",
      "\u001b[34m[10/22/2021 07:27:26 INFO 140662060397952] #test_score (algo-1, wQuantileLoss[0.5]): 0.07470588260314713\u001b[0m\n",
      "\u001b[34m[10/22/2021 07:27:26 INFO 140662060397952] #test_score (algo-1, wQuantileLoss[0.6]): 0.06730655211896959\u001b[0m\n",
      "\u001b[34m[10/22/2021 07:27:26 INFO 140662060397952] #test_score (algo-1, wQuantileLoss[0.7]): 0.05639345201352944\u001b[0m\n",
      "\u001b[34m[10/22/2021 07:27:26 INFO 140662060397952] #test_score (algo-1, wQuantileLoss[0.8]): 0.043066719110749094\u001b[0m\n",
      "\u001b[34m[10/22/2021 07:27:26 INFO 140662060397952] #test_score (algo-1, wQuantileLoss[0.9]): 0.026179409033107257\u001b[0m\n",
      "\u001b[34m[10/22/2021 07:27:26 INFO 140662060397952] #quality_metric: host=algo-1, test RMSE <loss>=6061.67765556698\u001b[0m\n",
      "\u001b[34m[10/22/2021 07:27:26 INFO 140662060397952] #quality_metric: host=algo-1, test mean_wQuantileLoss <loss>=0.06106339843021163\u001b[0m\n",
      "\u001b[34m#metrics {\"StartTime\": 1634887646.1269946, \"EndTime\": 1634887646.2920473, \"Dimensions\": {\"Algorithm\": \"AWS/DeepAR\", \"Host\": \"algo-1\", \"Operation\": \"training\"}, \"Metrics\": {\"setuptime\": {\"sum\": 11.912107467651367, \"count\": 1, \"min\": 11.912107467651367, \"max\": 11.912107467651367}, \"totaltime\": {\"sum\": 779834.5682621002, \"count\": 1, \"min\": 779834.5682621002, \"max\": 779834.5682621002}}}\n",
      "\u001b[0m\n",
      "\n",
      "2021-10-22 07:27:37 Uploading - Uploading generated training model\n",
      "2021-10-22 07:27:37 Completed - Training job completed\n",
      "Training seconds: 832\n",
      "Billable seconds: 832\n",
      "CPU times: user 2.35 s, sys: 113 ms, total: 2.46 s\n",
      "Wall time: 17min 57s\n"
     ]
    }
   ],
   "source": [
    "%%time\n",
    "# train and test channels\n",
    "data_channels = {\n",
    "    \"train\": train_path,\n",
    "    \"test\": test_path\n",
    "}\n",
    "\n",
    "# fit the estimator\n",
    "estimator.fit(inputs=data_channels)"
   ]
  },
  {
   "cell_type": "markdown",
   "metadata": {},
   "source": [
    "**deploy the endpoint to evaluate the predictions**"
   ]
  },
  {
   "cell_type": "markdown",
   "metadata": {},
   "source": [
    "To ease the data serialization and deserialization, the predictor helper class comes in handy.Most importantly it allows time series to be passed directly to the predictor endpoint for predictions. "
   ]
  },
  {
   "cell_type": "code",
   "execution_count": 211,
   "metadata": {
    "scrolled": true
   },
   "outputs": [
    {
     "name": "stdout",
     "output_type": "stream",
     "text": [
      "\u001b[34mimport\u001b[39;49;00m \u001b[04m\u001b[36msagemaker\u001b[39;49;00m\n",
      "\u001b[37m#for predictions\u001b[39;49;00m\n",
      "\u001b[34mfrom\u001b[39;49;00m \u001b[04m\u001b[36msagemaker\u001b[39;49;00m\u001b[04m\u001b[36m.\u001b[39;49;00m\u001b[04m\u001b[36mserializers\u001b[39;49;00m \u001b[34mimport\u001b[39;49;00m IdentitySerializer\n",
      "\u001b[34mimport\u001b[39;49;00m \u001b[04m\u001b[36mnumpy\u001b[39;49;00m \u001b[34mas\u001b[39;49;00m \u001b[04m\u001b[36mnp\u001b[39;49;00m\n",
      "\u001b[34mimport\u001b[39;49;00m \u001b[04m\u001b[36mos\u001b[39;49;00m\n",
      "\u001b[34mimport\u001b[39;49;00m \u001b[04m\u001b[36mjson\u001b[39;49;00m\n",
      "\u001b[34mimport\u001b[39;49;00m \u001b[04m\u001b[36mpandas\u001b[39;49;00m \u001b[34mas\u001b[39;49;00m \u001b[04m\u001b[36mpd\u001b[39;49;00m\n",
      "\n",
      "\u001b[34mclass\u001b[39;49;00m \u001b[04m\u001b[32mDeepARPredictor\u001b[39;49;00m(sagemaker.predictor.Predictor):\n",
      "    \u001b[34mdef\u001b[39;49;00m \u001b[32m__init__\u001b[39;49;00m(\u001b[36mself\u001b[39;49;00m, *args, **kwargs):\n",
      "        \u001b[36msuper\u001b[39;49;00m().\u001b[32m__init__\u001b[39;49;00m(\n",
      "            *args,\n",
      "            \u001b[37m# serializer=JSONSerializer(),\u001b[39;49;00m\n",
      "            serializer=IdentitySerializer(content_type=\u001b[33m\"\u001b[39;49;00m\u001b[33mapplication/json\u001b[39;49;00m\u001b[33m\"\u001b[39;49;00m),\n",
      "            **kwargs,\n",
      "        )\n",
      "\n",
      "    \u001b[34mdef\u001b[39;49;00m \u001b[32mpredict\u001b[39;49;00m(\n",
      "        \u001b[36mself\u001b[39;49;00m,\n",
      "        ts,\n",
      "        cat=\u001b[34mNone\u001b[39;49;00m,\n",
      "        dynamic_feat=\u001b[34mNone\u001b[39;49;00m,\n",
      "        num_samples=\u001b[34m100\u001b[39;49;00m,\n",
      "        return_samples=\u001b[34mFalse\u001b[39;49;00m,\n",
      "        quantiles=[\u001b[33m\"\u001b[39;49;00m\u001b[33m0.1\u001b[39;49;00m\u001b[33m\"\u001b[39;49;00m, \u001b[33m\"\u001b[39;49;00m\u001b[33m0.5\u001b[39;49;00m\u001b[33m\"\u001b[39;49;00m, \u001b[33m\"\u001b[39;49;00m\u001b[33m0.9\u001b[39;49;00m\u001b[33m\"\u001b[39;49;00m],\n",
      "    ):\n",
      "        \u001b[33m\"\"\"Requests the prediction of for the time series listed in `ts`, each with the (optional)\u001b[39;49;00m\n",
      "\u001b[33m        corresponding category listed in `cat`.\u001b[39;49;00m\n",
      "\u001b[33m\u001b[39;49;00m\n",
      "\u001b[33m        ts -- `pandas.Series` object, the time series to predict\u001b[39;49;00m\n",
      "\u001b[33m        cat -- integer, the group associated to the time series (default: None)\u001b[39;49;00m\n",
      "\u001b[33m        num_samples -- integer, number of samples to compute at prediction time (default: 100)\u001b[39;49;00m\n",
      "\u001b[33m        return_samples -- boolean indicating whether to include samples in the response (default: False)\u001b[39;49;00m\n",
      "\u001b[33m        quantiles -- list of strings specifying the quantiles to compute (default: [\"0.1\", \"0.5\", \"0.9\"])\u001b[39;49;00m\n",
      "\u001b[33m\u001b[39;49;00m\n",
      "\u001b[33m        Return value: list of `pandas.DataFrame` objects, each containing the predictions\u001b[39;49;00m\n",
      "\u001b[33m        \"\"\"\u001b[39;49;00m\n",
      "        prediction_time = ts.index[-\u001b[34m1\u001b[39;49;00m] + ts.index.freq\n",
      "        quantiles = [\u001b[36mstr\u001b[39;49;00m(q) \u001b[34mfor\u001b[39;49;00m q \u001b[35min\u001b[39;49;00m quantiles]\n",
      "        req = \u001b[36mself\u001b[39;49;00m.__encode_request(ts, cat, dynamic_feat, num_samples, return_samples, quantiles)\n",
      "        res = \u001b[36msuper\u001b[39;49;00m(DeepARPredictor, \u001b[36mself\u001b[39;49;00m).predict(req)\n",
      "        \u001b[34mreturn\u001b[39;49;00m \u001b[36mself\u001b[39;49;00m.__decode_response(res, ts.index.freq, prediction_time, return_samples)\n",
      "\n",
      "    \u001b[34mdef\u001b[39;49;00m \u001b[32m__encode_request\u001b[39;49;00m(\u001b[36mself\u001b[39;49;00m, ts, cat, dynamic_feat, num_samples, return_samples, quantiles):\n",
      "        instance = series_to_dict(\n",
      "            ts, cat \u001b[34mif\u001b[39;49;00m cat \u001b[35mis\u001b[39;49;00m \u001b[35mnot\u001b[39;49;00m \u001b[34mNone\u001b[39;49;00m \u001b[34melse\u001b[39;49;00m \u001b[34mNone\u001b[39;49;00m, dynamic_feat \u001b[34mif\u001b[39;49;00m dynamic_feat \u001b[34melse\u001b[39;49;00m \u001b[34mNone\u001b[39;49;00m\n",
      "        )\n",
      "\n",
      "        configuration = {\n",
      "            \u001b[33m\"\u001b[39;49;00m\u001b[33mnum_samples\u001b[39;49;00m\u001b[33m\"\u001b[39;49;00m: num_samples,\n",
      "            \u001b[33m\"\u001b[39;49;00m\u001b[33moutput_types\u001b[39;49;00m\u001b[33m\"\u001b[39;49;00m: [\u001b[33m\"\u001b[39;49;00m\u001b[33mquantiles\u001b[39;49;00m\u001b[33m\"\u001b[39;49;00m, \u001b[33m\"\u001b[39;49;00m\u001b[33msamples\u001b[39;49;00m\u001b[33m\"\u001b[39;49;00m] \u001b[34mif\u001b[39;49;00m return_samples \u001b[34melse\u001b[39;49;00m [\u001b[33m\"\u001b[39;49;00m\u001b[33mquantiles\u001b[39;49;00m\u001b[33m\"\u001b[39;49;00m],\n",
      "            \u001b[33m\"\u001b[39;49;00m\u001b[33mquantiles\u001b[39;49;00m\u001b[33m\"\u001b[39;49;00m: quantiles,\n",
      "        }\n",
      "\n",
      "        http_request_data = {\u001b[33m\"\u001b[39;49;00m\u001b[33minstances\u001b[39;49;00m\u001b[33m\"\u001b[39;49;00m: [instance], \u001b[33m\"\u001b[39;49;00m\u001b[33mconfiguration\u001b[39;49;00m\u001b[33m\"\u001b[39;49;00m: configuration}\n",
      "\n",
      "        \u001b[34mreturn\u001b[39;49;00m json.dumps(http_request_data).encode(\u001b[33m\"\u001b[39;49;00m\u001b[33mutf-8\u001b[39;49;00m\u001b[33m\"\u001b[39;49;00m)\n",
      "\n",
      "    \u001b[34mdef\u001b[39;49;00m \u001b[32m__decode_response\u001b[39;49;00m(\u001b[36mself\u001b[39;49;00m, response, freq, prediction_time, return_samples):\n",
      "        \u001b[37m# we only sent one time series so we only receive one in return\u001b[39;49;00m\n",
      "        \u001b[37m# however, if possible one will pass multiple time series as predictions will then be faster\u001b[39;49;00m\n",
      "        predictions = json.loads(response.decode(\u001b[33m\"\u001b[39;49;00m\u001b[33mutf-8\u001b[39;49;00m\u001b[33m\"\u001b[39;49;00m))[\u001b[33m\"\u001b[39;49;00m\u001b[33mpredictions\u001b[39;49;00m\u001b[33m\"\u001b[39;49;00m][\u001b[34m0\u001b[39;49;00m]\n",
      "        prediction_length = \u001b[36mlen\u001b[39;49;00m(\u001b[36mnext\u001b[39;49;00m(\u001b[36miter\u001b[39;49;00m(predictions[\u001b[33m\"\u001b[39;49;00m\u001b[33mquantiles\u001b[39;49;00m\u001b[33m\"\u001b[39;49;00m].values())))\n",
      "        prediction_index = pd.date_range(\n",
      "            start=prediction_time, freq=freq, periods=prediction_length\n",
      "        )\n",
      "        \u001b[34mif\u001b[39;49;00m return_samples:\n",
      "            dict_of_samples = {\u001b[33m\"\u001b[39;49;00m\u001b[33msample_\u001b[39;49;00m\u001b[33m\"\u001b[39;49;00m + \u001b[36mstr\u001b[39;49;00m(i): s \u001b[34mfor\u001b[39;49;00m i, s \u001b[35min\u001b[39;49;00m \u001b[36menumerate\u001b[39;49;00m(predictions[\u001b[33m\"\u001b[39;49;00m\u001b[33msamples\u001b[39;49;00m\u001b[33m\"\u001b[39;49;00m])}\n",
      "        \u001b[34melse\u001b[39;49;00m:\n",
      "            dict_of_samples = {}\n",
      "        \u001b[34mreturn\u001b[39;49;00m pd.DataFrame(\n",
      "            data={**predictions[\u001b[33m\"\u001b[39;49;00m\u001b[33mquantiles\u001b[39;49;00m\u001b[33m\"\u001b[39;49;00m], **dict_of_samples}, index=prediction_index\n",
      "        )\n",
      "\n",
      "    \u001b[34mdef\u001b[39;49;00m \u001b[32mset_frequency\u001b[39;49;00m(\u001b[36mself\u001b[39;49;00m, freq):\n",
      "        \u001b[36mself\u001b[39;49;00m.freq = freq\n",
      "\n",
      "\n",
      "\u001b[34mdef\u001b[39;49;00m \u001b[32mencode_target\u001b[39;49;00m(ts):\n",
      "    \u001b[34mreturn\u001b[39;49;00m [x \u001b[34mif\u001b[39;49;00m np.isfinite(x) \u001b[34melse\u001b[39;49;00m \u001b[33m\"\u001b[39;49;00m\u001b[33mNaN\u001b[39;49;00m\u001b[33m\"\u001b[39;49;00m \u001b[34mfor\u001b[39;49;00m x \u001b[35min\u001b[39;49;00m ts]\n",
      "\n",
      "\n",
      "\u001b[34mdef\u001b[39;49;00m \u001b[32mseries_to_dict\u001b[39;49;00m(ts, cat=\u001b[34mNone\u001b[39;49;00m, dynamic_feat=\u001b[34mNone\u001b[39;49;00m):\n",
      "    \u001b[33m\"\"\"Given a pandas.Series object, returns a dictionary encoding the time series.\u001b[39;49;00m\n",
      "\u001b[33m\u001b[39;49;00m\n",
      "\u001b[33m    ts -- a pands.Series object with the target time series\u001b[39;49;00m\n",
      "\u001b[33m    cat -- an integer indicating the time series category\u001b[39;49;00m\n",
      "\u001b[33m\u001b[39;49;00m\n",
      "\u001b[33m    Return value: a dictionary\u001b[39;49;00m\n",
      "\u001b[33m    \"\"\"\u001b[39;49;00m\n",
      "    obj = {\u001b[33m\"\u001b[39;49;00m\u001b[33mstart\u001b[39;49;00m\u001b[33m\"\u001b[39;49;00m: \u001b[36mstr\u001b[39;49;00m(ts.index[\u001b[34m0\u001b[39;49;00m]), \u001b[33m\"\u001b[39;49;00m\u001b[33mtarget\u001b[39;49;00m\u001b[33m\"\u001b[39;49;00m: encode_target(ts)}\n",
      "    \u001b[34mif\u001b[39;49;00m cat \u001b[35mis\u001b[39;49;00m \u001b[35mnot\u001b[39;49;00m \u001b[34mNone\u001b[39;49;00m:\n",
      "        obj[\u001b[33m\"\u001b[39;49;00m\u001b[33mcat\u001b[39;49;00m\u001b[33m\"\u001b[39;49;00m] = cat\n",
      "    \u001b[34mif\u001b[39;49;00m dynamic_feat \u001b[35mis\u001b[39;49;00m \u001b[35mnot\u001b[39;49;00m \u001b[34mNone\u001b[39;49;00m:\n",
      "        obj[\u001b[33m\"\u001b[39;49;00m\u001b[33mdynamic_feat\u001b[39;49;00m\u001b[33m\"\u001b[39;49;00m] = dynamic_feat\n",
      "    \u001b[34mreturn\u001b[39;49;00m obj\n"
     ]
    }
   ],
   "source": [
    "##view content of the predict_helper class\n",
    "!pygmentize Predictor_helper.py"
   ]
  },
  {
   "cell_type": "code",
   "execution_count": 2,
   "metadata": {},
   "outputs": [],
   "source": [
    "from sagemaker.serializers import IdentitySerializer"
   ]
  },
  {
   "cell_type": "code",
   "execution_count": 247,
   "metadata": {},
   "outputs": [
    {
     "name": "stdout",
     "output_type": "stream",
     "text": [
      "-------------------!CPU times: user 328 ms, sys: 4.42 ms, total: 333 ms\n",
      "Wall time: 9min 33s\n"
     ]
    }
   ],
   "source": [
    "%%time\n",
    "#this enables us do predictions in timeseries format\n",
    "import Predictor_helper\n",
    "\n",
    "# create a predictor\n",
    "predictor_with_series = estimator.deploy(\n",
    "    initial_instance_count=1,\n",
    "    instance_type='ml.t2.medium',\n",
    "    predictor_cls=Predictor_helper.DeepARPredictor\n",
    ")"
   ]
  },
  {
   "cell_type": "markdown",
   "metadata": {},
   "source": [
    "### Getting Predictions from the deployed endpoint\n",
    "\n",
    "We would do this by evaluating the performance of the training job against the actual "
   ]
  },
  {
   "cell_type": "code",
   "execution_count": 214,
   "metadata": {
    "scrolled": true
   },
   "outputs": [],
   "source": [
    "# get formatted input time series\n",
    "# json_input_series = json_predictor_input(training_series)\n",
    "\n",
    "# get the prediction from the predictor\n",
    "json_prediction = predictor_with_series.predict(training_series)"
   ]
  },
  {
   "cell_type": "code",
   "execution_count": 215,
   "metadata": {},
   "outputs": [
    {
     "data": {
      "text/html": [
       "<div>\n",
       "<style scoped>\n",
       "    .dataframe tbody tr th:only-of-type {\n",
       "        vertical-align: middle;\n",
       "    }\n",
       "\n",
       "    .dataframe tbody tr th {\n",
       "        vertical-align: top;\n",
       "    }\n",
       "\n",
       "    .dataframe thead th {\n",
       "        text-align: right;\n",
       "    }\n",
       "</style>\n",
       "<table border=\"1\" class=\"dataframe\">\n",
       "  <thead>\n",
       "    <tr style=\"text-align: right;\">\n",
       "      <th></th>\n",
       "      <th>0.1</th>\n",
       "      <th>0.5</th>\n",
       "      <th>0.9</th>\n",
       "    </tr>\n",
       "  </thead>\n",
       "  <tbody>\n",
       "    <tr>\n",
       "      <th>2021-04-13 01:00:00</th>\n",
       "      <td>58763.816406</td>\n",
       "      <td>60680.191406</td>\n",
       "      <td>62623.761719</td>\n",
       "    </tr>\n",
       "    <tr>\n",
       "      <th>2021-04-13 02:00:00</th>\n",
       "      <td>58700.953125</td>\n",
       "      <td>60606.050781</td>\n",
       "      <td>62139.589844</td>\n",
       "    </tr>\n",
       "    <tr>\n",
       "      <th>2021-04-13 03:00:00</th>\n",
       "      <td>58654.406250</td>\n",
       "      <td>60689.566406</td>\n",
       "      <td>63258.222656</td>\n",
       "    </tr>\n",
       "    <tr>\n",
       "      <th>2021-04-13 04:00:00</th>\n",
       "      <td>58536.320312</td>\n",
       "      <td>60874.402344</td>\n",
       "      <td>62889.742188</td>\n",
       "    </tr>\n",
       "    <tr>\n",
       "      <th>2021-04-13 05:00:00</th>\n",
       "      <td>58641.378906</td>\n",
       "      <td>60855.796875</td>\n",
       "      <td>62696.144531</td>\n",
       "    </tr>\n",
       "    <tr>\n",
       "      <th>...</th>\n",
       "      <td>...</td>\n",
       "      <td>...</td>\n",
       "      <td>...</td>\n",
       "    </tr>\n",
       "    <tr>\n",
       "      <th>2021-04-19 20:00:00</th>\n",
       "      <td>61749.179688</td>\n",
       "      <td>66709.898438</td>\n",
       "      <td>71677.796875</td>\n",
       "    </tr>\n",
       "    <tr>\n",
       "      <th>2021-04-19 21:00:00</th>\n",
       "      <td>62615.746094</td>\n",
       "      <td>66462.125000</td>\n",
       "      <td>71877.054688</td>\n",
       "    </tr>\n",
       "    <tr>\n",
       "      <th>2021-04-19 22:00:00</th>\n",
       "      <td>61578.500000</td>\n",
       "      <td>66311.882812</td>\n",
       "      <td>71483.281250</td>\n",
       "    </tr>\n",
       "    <tr>\n",
       "      <th>2021-04-19 23:00:00</th>\n",
       "      <td>61755.523438</td>\n",
       "      <td>65936.132812</td>\n",
       "      <td>72016.882812</td>\n",
       "    </tr>\n",
       "    <tr>\n",
       "      <th>2021-04-20 00:00:00</th>\n",
       "      <td>62681.679688</td>\n",
       "      <td>66241.742188</td>\n",
       "      <td>72445.242188</td>\n",
       "    </tr>\n",
       "  </tbody>\n",
       "</table>\n",
       "<p>168 rows × 3 columns</p>\n",
       "</div>"
      ],
      "text/plain": [
       "                              0.1           0.5           0.9\n",
       "2021-04-13 01:00:00  58763.816406  60680.191406  62623.761719\n",
       "2021-04-13 02:00:00  58700.953125  60606.050781  62139.589844\n",
       "2021-04-13 03:00:00  58654.406250  60689.566406  63258.222656\n",
       "2021-04-13 04:00:00  58536.320312  60874.402344  62889.742188\n",
       "2021-04-13 05:00:00  58641.378906  60855.796875  62696.144531\n",
       "...                           ...           ...           ...\n",
       "2021-04-19 20:00:00  61749.179688  66709.898438  71677.796875\n",
       "2021-04-19 21:00:00  62615.746094  66462.125000  71877.054688\n",
       "2021-04-19 22:00:00  61578.500000  66311.882812  71483.281250\n",
       "2021-04-19 23:00:00  61755.523438  65936.132812  72016.882812\n",
       "2021-04-20 00:00:00  62681.679688  66241.742188  72445.242188\n",
       "\n",
       "[168 rows x 3 columns]"
      ]
     },
     "execution_count": 215,
     "metadata": {},
     "output_type": "execute_result"
    }
   ],
   "source": [
    "json_prediction"
   ]
  },
  {
   "cell_type": "code",
   "execution_count": 217,
   "metadata": {
    "scrolled": true
   },
   "outputs": [
    {
     "name": "stdout",
     "output_type": "stream",
     "text": [
      "DeepAR MAE: 8362.860700619185\n"
     ]
    }
   ],
   "source": [
    "MAE = mean_absolute_error(test_series[len(test_series)-prediction_length:], json_prediction['0.9'])\n",
    "print ('DeepAR MAE: {0}'.format(MAE))"
   ]
  },
  {
   "cell_type": "code",
   "execution_count": 219,
   "metadata": {},
   "outputs": [
    {
     "data": {
      "image/png": "[encoded data removed]",
      "text/plain": [
       "<Figure size 864x360 with 1 Axes>"
      ]
     },
     "metadata": {
      "needs_background": "light"
     },
     "output_type": "display_data"
    }
   ],
   "source": [
    "p10 = json_prediction['0.1']\n",
    "p90 = json_prediction['0.9']\n",
    "p50 = json_prediction['0.5']\n",
    "target = test_series[-prediction_length:]\n",
    "# Plot\n",
    "plt.figure(figsize=(12,5))\n",
    "plt.plot(target, label='target')\n",
    "plt.fill_between(p10.index, p10, p90, color='y', alpha=0.5, label='80% confidence interval')\n",
    "p50.plot(label='prediction median')\n",
    "plt.title('Validation forecast vs Actual')\n",
    "plt.legend(loc='upper left', fontsize=10)\n",
    "plt.show()"
   ]
  },
  {
   "cell_type": "markdown",
   "metadata": {},
   "source": [
    "**Generate future predictions**"
   ]
  },
  {
   "cell_type": "code",
   "execution_count": 226,
   "metadata": {},
   "outputs": [
    {
     "data": {
      "text/plain": [
       "Timestamp('2021-04-20 00:00:00', freq='H')"
      ]
     },
     "execution_count": 226,
     "metadata": {},
     "output_type": "execute_result"
    }
   ],
   "source": [
    "#last known BTC date\n",
    "test_series[-1:].index[0]"
   ]
  },
  {
   "cell_type": "code",
   "execution_count": 251,
   "metadata": {
    "scrolled": true
   },
   "outputs": [],
   "source": [
    "future_predictions = predictor_with_series.predict(test_series[-168:])"
   ]
  },
  {
   "cell_type": "markdown",
   "metadata": {},
   "source": [
    "*we expect predictions to start from the next hour - 2021-04-20 01:00:00*"
   ]
  },
  {
   "cell_type": "code",
   "execution_count": 252,
   "metadata": {},
   "outputs": [
    {
     "data": {
      "text/html": [
       "<div>\n",
       "<style scoped>\n",
       "    .dataframe tbody tr th:only-of-type {\n",
       "        vertical-align: middle;\n",
       "    }\n",
       "\n",
       "    .dataframe tbody tr th {\n",
       "        vertical-align: top;\n",
       "    }\n",
       "\n",
       "    .dataframe thead th {\n",
       "        text-align: right;\n",
       "    }\n",
       "</style>\n",
       "<table border=\"1\" class=\"dataframe\">\n",
       "  <thead>\n",
       "    <tr style=\"text-align: right;\">\n",
       "      <th></th>\n",
       "      <th>0.1</th>\n",
       "      <th>0.5</th>\n",
       "      <th>0.9</th>\n",
       "    </tr>\n",
       "  </thead>\n",
       "  <tbody>\n",
       "    <tr>\n",
       "      <th>2021-04-20 01:00:00</th>\n",
       "      <td>56088.734375</td>\n",
       "      <td>58317.320312</td>\n",
       "      <td>60100.203125</td>\n",
       "    </tr>\n",
       "    <tr>\n",
       "      <th>2021-04-20 02:00:00</th>\n",
       "      <td>54691.511719</td>\n",
       "      <td>57321.152344</td>\n",
       "      <td>58765.347656</td>\n",
       "    </tr>\n",
       "    <tr>\n",
       "      <th>2021-04-20 03:00:00</th>\n",
       "      <td>56057.148438</td>\n",
       "      <td>57359.058594</td>\n",
       "      <td>59066.523438</td>\n",
       "    </tr>\n",
       "    <tr>\n",
       "      <th>2021-04-20 04:00:00</th>\n",
       "      <td>55494.062500</td>\n",
       "      <td>57067.039062</td>\n",
       "      <td>58871.593750</td>\n",
       "    </tr>\n",
       "    <tr>\n",
       "      <th>2021-04-20 05:00:00</th>\n",
       "      <td>55087.394531</td>\n",
       "      <td>57153.105469</td>\n",
       "      <td>58725.136719</td>\n",
       "    </tr>\n",
       "    <tr>\n",
       "      <th>...</th>\n",
       "      <td>...</td>\n",
       "      <td>...</td>\n",
       "      <td>...</td>\n",
       "    </tr>\n",
       "    <tr>\n",
       "      <th>2021-04-26 20:00:00</th>\n",
       "      <td>62779.386719</td>\n",
       "      <td>65508.078125</td>\n",
       "      <td>68450.757812</td>\n",
       "    </tr>\n",
       "    <tr>\n",
       "      <th>2021-04-26 21:00:00</th>\n",
       "      <td>63437.273438</td>\n",
       "      <td>65668.570312</td>\n",
       "      <td>68347.679688</td>\n",
       "    </tr>\n",
       "    <tr>\n",
       "      <th>2021-04-26 22:00:00</th>\n",
       "      <td>63227.355469</td>\n",
       "      <td>65374.988281</td>\n",
       "      <td>68727.890625</td>\n",
       "    </tr>\n",
       "    <tr>\n",
       "      <th>2021-04-26 23:00:00</th>\n",
       "      <td>62214.464844</td>\n",
       "      <td>65522.027344</td>\n",
       "      <td>68588.437500</td>\n",
       "    </tr>\n",
       "    <tr>\n",
       "      <th>2021-04-27 00:00:00</th>\n",
       "      <td>63030.031250</td>\n",
       "      <td>66286.625000</td>\n",
       "      <td>69314.656250</td>\n",
       "    </tr>\n",
       "  </tbody>\n",
       "</table>\n",
       "<p>168 rows × 3 columns</p>\n",
       "</div>"
      ],
      "text/plain": [
       "                              0.1           0.5           0.9\n",
       "2021-04-20 01:00:00  56088.734375  58317.320312  60100.203125\n",
       "2021-04-20 02:00:00  54691.511719  57321.152344  58765.347656\n",
       "2021-04-20 03:00:00  56057.148438  57359.058594  59066.523438\n",
       "2021-04-20 04:00:00  55494.062500  57067.039062  58871.593750\n",
       "2021-04-20 05:00:00  55087.394531  57153.105469  58725.136719\n",
       "...                           ...           ...           ...\n",
       "2021-04-26 20:00:00  62779.386719  65508.078125  68450.757812\n",
       "2021-04-26 21:00:00  63437.273438  65668.570312  68347.679688\n",
       "2021-04-26 22:00:00  63227.355469  65374.988281  68727.890625\n",
       "2021-04-26 23:00:00  62214.464844  65522.027344  68588.437500\n",
       "2021-04-27 00:00:00  63030.031250  66286.625000  69314.656250\n",
       "\n",
       "[168 rows x 3 columns]"
      ]
     },
     "execution_count": 252,
     "metadata": {},
     "output_type": "execute_result"
    }
   ],
   "source": [
    "future_predictions"
   ]
  },
  {
   "cell_type": "code",
   "execution_count": 253,
   "metadata": {},
   "outputs": [
    {
     "data": {
      "image/png": "[encoded data removed]",
      "text/plain": [
       "<Figure size 864x360 with 1 Axes>"
      ]
     },
     "metadata": {
      "needs_background": "light"
     },
     "output_type": "display_data"
    }
   ],
   "source": [
    "plt.figure(figsize=(12,5))\n",
    "future_predictions['0.5'].plot(label='prediction median')\n",
    "plt.title('Future BTC price trend for the next week')\n",
    "plt.legend(loc='upper left', fontsize=10)\n",
    "plt.show()"
   ]
  },
  {
   "cell_type": "markdown",
   "metadata": {},
   "source": [
    "**delete the endpoint for now**"
   ]
  },
  {
   "cell_type": "code",
   "execution_count": 227,
   "metadata": {},
   "outputs": [],
   "source": [
    "predictor_with_series.delete_endpoint()"
   ]
  },
  {
   "cell_type": "markdown",
   "metadata": {},
   "source": [
    "## Section 2 of Model Training: Using Pre-trained text-to-SQL model"
   ]
  },
  {
   "cell_type": "markdown",
   "metadata": {},
   "source": [
    "A pretrained huggingface model developed on text and corresponding sql output as obtained in the [Wikisql](https://huggingface.co/datasets/wikisql#source-data) database was employed for the text to sql translation task in the project. Huggingface hosts thousands of pretrained models and is currently supported by AWS Sagemaker making it ideal. All that was required was to download the model and the tokenizer from huggingface and deploy for predictions. \n",
    "\n",
    "The model is a transformer model called [Google T5](https://ai.googleblog.com/2020/02/exploring-transfer-learning-with-t5.html), fine-tuned to handle text to sql translation. Visit [here](https://huggingface.co/mrm8488/t5-base-finetuned-wikiSQL) for a detailed description of the model. "
   ]
  },
  {
   "cell_type": "code",
   "execution_count": 5,
   "metadata": {},
   "outputs": [
    {
     "data": {
      "application/vnd.jupyter.widget-view+json": {
       "model_id": "819c18c202e3407aa495ab33398e71b9",
       "version_major": 2,
       "version_minor": 0
      },
      "text/plain": [
       "Downloading:   0%|          | 0.00/25.0 [00:00<?, ?B/s]"
      ]
     },
     "metadata": {},
     "output_type": "display_data"
    },
    {
     "data": {
      "application/vnd.jupyter.widget-view+json": {
       "model_id": "e2c01dfe91fe4600a051101f7bef2ccd",
       "version_major": 2,
       "version_minor": 0
      },
      "text/plain": [
       "Downloading:   0%|          | 0.00/1.20k [00:00<?, ?B/s]"
      ]
     },
     "metadata": {},
     "output_type": "display_data"
    },
    {
     "name": "stderr",
     "output_type": "stream",
     "text": [
      "The `xla_device` argument has been deprecated in v4.4.0 of Transformers. It is ignored and you can safely remove it from your `config.json` file.\n"
     ]
    },
    {
     "data": {
      "application/vnd.jupyter.widget-view+json": {
       "model_id": "011eb4c54add4713b39a6a224ab29d7c",
       "version_major": 2,
       "version_minor": 0
      },
      "text/plain": [
       "Downloading:   0%|          | 0.00/773k [00:00<?, ?B/s]"
      ]
     },
     "metadata": {},
     "output_type": "display_data"
    },
    {
     "data": {
      "application/vnd.jupyter.widget-view+json": {
       "model_id": "40db857d1e80458b98af033fe35634f9",
       "version_major": 2,
       "version_minor": 0
      },
      "text/plain": [
       "Downloading:   0%|          | 0.00/1.74k [00:00<?, ?B/s]"
      ]
     },
     "metadata": {},
     "output_type": "display_data"
    },
    {
     "name": "stderr",
     "output_type": "stream",
     "text": [
      "The `xla_device` argument has been deprecated in v4.4.0 of Transformers. It is ignored and you can safely remove it from your `config.json` file.\n",
      "The `xla_device` argument has been deprecated in v4.4.0 of Transformers. It is ignored and you can safely remove it from your `config.json` file.\n",
      "The `xla_device` argument has been deprecated in v4.4.0 of Transformers. It is ignored and you can safely remove it from your `config.json` file.\n"
     ]
    },
    {
     "data": {
      "application/vnd.jupyter.widget-view+json": {
       "model_id": "365c0946bb4646eab1e14befe07bd0b5",
       "version_major": 2,
       "version_minor": 0
      },
      "text/plain": [
       "Downloading:   0%|          | 0.00/1.11G [00:00<?, ?B/s]"
      ]
     },
     "metadata": {},
     "output_type": "display_data"
    }
   ],
   "source": [
    "tokenizer = AutoTokenizer.from_pretrained(\"mrm8488/t5-base-finetuned-wikiSQL\")\n",
    "model = AutoModelWithLMHead.from_pretrained(\"mrm8488/t5-base-finetuned-wikiSQL\")"
   ]
  },
  {
   "cell_type": "code",
   "execution_count": 6,
   "metadata": {},
   "outputs": [],
   "source": [
    "#data preprocessor for predictions\n",
    "def get_sql(query):\n",
    "    \n",
    "    input_text = \"translate English to SQL: %s </s>\" % query\n",
    "    \n",
    "    features = tokenizer([input_text], return_tensors='pt')\n",
    "\n",
    "    output = model.generate(input_ids=features['input_ids'], \n",
    "               attention_mask=features['attention_mask'])\n",
    "\n",
    "    return tokenizer.decode(output[0])"
   ]
  },
  {
   "cell_type": "code",
   "execution_count": 9,
   "metadata": {},
   "outputs": [
    {
     "data": {
      "text/plain": [
       "'<pad> SELECT MAX Price ( USD ) FROM table</s>'"
      ]
     },
     "execution_count": 9,
     "metadata": {},
     "output_type": "execute_result"
    }
   ],
   "source": [
    "get_sql(\"what is the Highest price of Bitcoin so far?\")"
   ]
  },
  {
   "cell_type": "code",
   "execution_count": 17,
   "metadata": {},
   "outputs": [],
   "source": [
    "from sagemaker.huggingface import HuggingFaceModel\n",
    "\n",
    "hub = {\n",
    "    'HF_MODEL_ID': 'mrm8488/t5-base-finetuned-wikiSQL',\n",
    "    'HF_TASK': 'translation'\n",
    "}\n",
    "\n",
    "eng_to_sql_model = HuggingFaceModel(\n",
    "    env=hub,\n",
    "    role=role,\n",
    "    transformers_version=\"4.6\", # transformers version used\n",
    "    pytorch_version=\"1.7\", # pytorch version used\n",
    "    py_version='py36', # python version used\n",
    ")"
   ]
  },
  {
   "cell_type": "code",
   "execution_count": 18,
   "metadata": {},
   "outputs": [
    {
     "name": "stdout",
     "output_type": "stream",
     "text": [
      "------------!CPU times: user 260 ms, sys: 25 ms, total: 285 ms\n",
      "Wall time: 6min 2s\n"
     ]
    }
   ],
   "source": [
    "%%time\n",
    "eng_to_sql_predictor = eng_to_sql_model.deploy(\n",
    "   initial_instance_count=1,\n",
    "   instance_type=\"ml.m5.xlarge\"\n",
    ")"
   ]
  },
  {
   "cell_type": "code",
   "execution_count": 19,
   "metadata": {},
   "outputs": [],
   "source": [
    "data = {\n",
    "\"inputs\": \"what is the Highest price of Bitcoin so far?\"\n",
    "}"
   ]
  },
  {
   "cell_type": "code",
   "execution_count": 20,
   "metadata": {},
   "outputs": [
    {
     "data": {
      "text/plain": [
       "[{'translation_text': 'SELECT MAX Price ( USD ) FROM table'}]"
      ]
     },
     "execution_count": 20,
     "metadata": {},
     "output_type": "execute_result"
    }
   ],
   "source": [
    "eng_to_sql_predictor.predict(data)"
   ]
  },
  {
   "cell_type": "markdown",
   "metadata": {},
   "source": [
    "## Section 3: Deploying the models to serve over the internet "
   ]
  },
  {
   "cell_type": "markdown",
   "metadata": {},
   "source": [
    "**Redeploy the forecast and the text_to_sql models**: if you haven't deleted the endpoints you can use model.endpoint to retreive the endpoint names to be used in the runtime below. However, if deleted and the endpoint configurations have not been deleted you can create a new endpoint using the existing endpoint configurations using the AWS console"
   ]
  },
  {
   "cell_type": "code",
   "execution_count": 21,
   "metadata": {},
   "outputs": [],
   "source": [
    "test_query = 'what is the Highest price of Bitcoin so far?'\n",
    "test_forecast = 'What it is the predicted price of bitcoin in 3 days'"
   ]
  },
  {
   "cell_type": "markdown",
   "metadata": {},
   "source": [
    "As anticipated, the user questions will be of two types: query about the data and a forecast request. This means the lambda function between the API gateway and the model needs to be able to differentiate the intent of the user, preprocess the data before sending to the right endpoint for response.\n",
    "\n",
    "Below we will create a basic vocabulary of keywords that customers would use for prediction requests"
   ]
  },
  {
   "cell_type": "code",
   "execution_count": 14,
   "metadata": {},
   "outputs": [],
   "source": [
    "prediction_vocab = ['prediction', 'forecast', 'predicted', 'predict', 'forecasted', 'guess', 'estimated', 'future']"
   ]
  },
  {
   "cell_type": "code",
   "execution_count": 15,
   "metadata": {},
   "outputs": [],
   "source": [
    "## little helper function to detect user's intent \n",
    "def detect_intent(user_text):\n",
    "    user_words = user_text.split(' ')\n",
    "    if any(x in user_words for x in prediction_vocab):\n",
    "        return 'forecast'\n",
    "    else:\n",
    "        return 'query'"
   ]
  },
  {
   "cell_type": "code",
   "execution_count": 16,
   "metadata": {},
   "outputs": [
    {
     "data": {
      "text/plain": [
       "'forecast'"
      ]
     },
     "execution_count": 16,
     "metadata": {},
     "output_type": "execute_result"
    }
   ],
   "source": [
    "#test the function\n",
    "detect_intent(test_forecast)"
   ]
  },
  {
   "cell_type": "code",
   "execution_count": 19,
   "metadata": {},
   "outputs": [],
   "source": [
    "#another function to detect the forecast timeline\n",
    "def get_period(user_text):\n",
    "    numeric_words_dict = {'one': 1, 'two': 2, 'three': 3, 'four':4, 'five':5, \n",
    "                     'six':6, 'seven':7, 'eight':8, 'nine':9, 'ten':10}\n",
    "    numeric_words_list =  list(numeric_words_dict.keys())\n",
    "    \n",
    "    UNITS = {\"hour\":1, \"day\":24, \"week\":24*7, \"hours\":1, \"days\":24, \"weeks\":24*7}\n",
    "    \n",
    "    try:\n",
    "        user_words = user_text.split(' ')\n",
    "        user_words = [str(numeric_words_dict[wrd]) if wrd in numeric_words_list else wrd for wrd in user_words]\n",
    "\n",
    "        count = [int(word) for word in user_words if word.isdigit()][0]\n",
    "        period = [UNITS[word] for word in user_words if word in list(UNITS.keys())][0]\n",
    "        total_period = count*period\n",
    "    except:\n",
    "        total_period = 168\n",
    "\n",
    "    return total_period"
   ]
  },
  {
   "cell_type": "code",
   "execution_count": 20,
   "metadata": {},
   "outputs": [
    {
     "data": {
      "text/plain": [
       "336"
      ]
     },
     "execution_count": 20,
     "metadata": {},
     "output_type": "execute_result"
    }
   ],
   "source": [
    "get_period('what is the price forecast for bitcoin in 2 weeks')"
   ]
  },
  {
   "cell_type": "markdown",
   "metadata": {},
   "source": [
    "Now we have developed the various helper functions, the next step is to tie everything together"
   ]
  },
  {
   "cell_type": "code",
   "execution_count": 109,
   "metadata": {},
   "outputs": [],
   "source": [
    "if detect_intent(test_forecast) =='forecast':\n",
    "    pred_period = get_period(test_forecast)\n",
    "    pred_data = test_series[-pred_period:]\n",
    "else:\n",
    "    pred_data = test_query"
   ]
  },
  {
   "cell_type": "code",
   "execution_count": 39,
   "metadata": {},
   "outputs": [
    {
     "data": {
      "text/plain": [
       "Date_Hour\n",
       "2021-04-17 01:00:00    61897.333333\n",
       "2021-04-17 02:00:00    62234.418333\n",
       "2021-04-17 03:00:00    62325.971500\n",
       "2021-04-17 04:00:00    62323.561000\n",
       "2021-04-17 05:00:00    62239.075500\n",
       "                           ...     \n",
       "2021-04-19 20:00:00    56140.110167\n",
       "2021-04-19 21:00:00    56224.218167\n",
       "2021-04-19 22:00:00    56142.364667\n",
       "2021-04-19 23:00:00    55857.384500\n",
       "2021-04-20 00:00:00    55676.033333\n",
       "Freq: H, Name: Close, Length: 72, dtype: float64"
      ]
     },
     "execution_count": 39,
     "metadata": {},
     "output_type": "execute_result"
    }
   ],
   "source": [
    "pred_data"
   ]
  },
  {
   "cell_type": "markdown",
   "metadata": {},
   "source": [
    "We need a library that provides local access to the sagemaker API for working with Amazon services - boto3 (which we have already imported as a dependent library). \n",
    "To start with, we need to get a handle to the SageMaker runtime."
   ]
  },
  {
   "cell_type": "code",
   "execution_count": 24,
   "metadata": {},
   "outputs": [],
   "source": [
    "runtime = boto3.Session().client('sagemaker-runtime')"
   ]
  },
  {
   "cell_type": "code",
   "execution_count": 92,
   "metadata": {},
   "outputs": [],
   "source": [
    "response_forecast = runtime.invoke_endpoint(EndpointName = 'deepar-forecast', # The name of the endpoint we created\n",
    "                                       ContentType = 'application/json',    # The data format that is expected\n",
    "                                       Body = json.dumps({\"instances\": \n",
    "                                           [{\n",
    "                                               \"start\": \"2021-04-20 01:00:00\", # This is a required field per the documentation\n",
    "                                               \"target\": list(pred_data) # This is the guidance for the predictions\n",
    "                                           }]\n",
    "                                           })\n",
    "                                           )"
   ]
  },
  {
   "cell_type": "code",
   "execution_count": 111,
   "metadata": {
    "scrolled": true
   },
   "outputs": [],
   "source": [
    "response_from_forecast = response_forecast['Body'].read().decode('utf-8')\n",
    "# print(response_from_forecast)"
   ]
  },
  {
   "cell_type": "code",
   "execution_count": 94,
   "metadata": {},
   "outputs": [
    {
     "data": {
      "text/plain": [
       "168"
      ]
     },
     "execution_count": 94,
     "metadata": {},
     "output_type": "execute_result"
    }
   ],
   "source": [
    "#check the length of the predictions\n",
    "len(json.loads(response_from_forecast)['predictions'][0][\"mean\"])"
   ]
  },
  {
   "cell_type": "code",
   "execution_count": 106,
   "metadata": {},
   "outputs": [],
   "source": [
    "## this will be copied and pasted in the lambda function\n",
    "# print(list(test_series[-168:]))"
   ]
  },
  {
   "cell_type": "markdown",
   "metadata": {},
   "source": [
    "**second endpoint**"
   ]
  },
  {
   "cell_type": "code",
   "execution_count": 16,
   "metadata": {},
   "outputs": [
    {
     "data": {
      "text/plain": [
       "'{\"input\": \"what is the Highest price of Bitcoin so far?\"}'"
      ]
     },
     "execution_count": 16,
     "metadata": {},
     "output_type": "execute_result"
    }
   ],
   "source": [
    "json.dumps({'input':test_query})"
   ]
  },
  {
   "cell_type": "code",
   "execution_count": 27,
   "metadata": {},
   "outputs": [],
   "source": [
    "response_query = runtime.invoke_endpoint(EndpointName = 'Huggingface-endpoint', # The name of the endpoint we created\n",
    "                                       ContentType = 'application/json',                     # The data format that is expected\n",
    "                                       Body = json.dumps({'inputs':test_query}))"
   ]
  },
  {
   "cell_type": "code",
   "execution_count": 30,
   "metadata": {},
   "outputs": [
    {
     "name": "stdout",
     "output_type": "stream",
     "text": [
      "[{\"translation_text\":\"SELECT MAX Price ( USD ) FROM table\"}]\n"
     ]
    }
   ],
   "source": [
    "response_from_query = response_query['Body'].read().decode('utf-8')\n",
    "print(response_from_query)"
   ]
  },
  {
   "cell_type": "markdown",
   "metadata": {},
   "source": [
    "### Create the Lambda Function "
   ]
  },
  {
   "cell_type": "markdown",
   "metadata": {},
   "source": [
    "All we need to do is combine the functions to:\n",
    "- detect user intent\n",
    "- preprocess request data depending on intent\n",
    "- route to the endpoint depending on intent\n",
    "- return response depending on intent"
   ]
  },
  {
   "cell_type": "markdown",
   "metadata": {},
   "source": [
    "```python\n",
    "# We need to use the low-level library to interact with SageMaker since the SageMaker API\n",
    "# is not available natively through Lambda.\n",
    "import boto3\n",
    "import json\n",
    "import re\n",
    "\n",
    "def detect_intent(user_text):\n",
    "    prediction_vocab = ['prediction', 'forecast', 'predicted', 'predict', 'forecasted', 'guess', 'estimated', 'future']\n",
    "    user_words = user_text.split(' ')\n",
    "    if any(x in user_words for x in prediction_vocab):\n",
    "        return 'forecast'\n",
    "    else:\n",
    "        return 'query'\n",
    "    \n",
    "    \n",
    "def get_period(user_text):\n",
    "    numeric_words_dict = {'one': 1, 'two': 2, 'three': 3, 'four':4, 'five':5, \n",
    "                     'six':6, 'seven':7, 'eight':8, 'nine':9, 'ten':10}\n",
    "    numeric_words_list =  list(numeric_words_dict.keys())\n",
    "    \n",
    "    UNITS = {\"hour\":1, \"day\":24, \"week\":24*7, \"hours\":1, \"days\":24, \"weeks\":24*7}\n",
    "    #Remove punctutaions from the text using regex\n",
    "    user_text = re.sub(r'[^\\w\\s]', '', user_text)\n",
    "    user_words = user_text.split(' ')\n",
    "    user_words = [str(numeric_words_dict[wrd]) if wrd in numeric_words_list else wrd for wrd in user_words]\n",
    "\n",
    "    count = [int(word) for word in user_words if word.isdigit()][0]\n",
    "    period = [UNITS[word] for word in user_words if word in list(UNITS.keys())]\n",
    "    if len(period)>0:\n",
    "        total_period = count*period[0]\n",
    "    else:\n",
    "        total_period = 168\n",
    "\n",
    "    return total_period\n",
    "\n",
    "\n",
    "\n",
    "def lambda_handler(event, context):\n",
    "    \n",
    "    # The SageMaker runtime is what allows us to invoke the endpoint that we've created.\n",
    "    runtime = boto3.Session().client('sagemaker-runtime')\n",
    "\n",
    "    test_series = [60430.60300000002, 60711.431000000004, 60698.24950000002, 60481.17850000001, 60614.08449999999, 60817.79716666668, 60887.91800000001, 62153.32916666667, 62632.59866666666, 62726.243166666674, 62794.345833333326, 63015.296500000004, 62831.735666666646, 62875.184, 63165.66616666669, 63312.98933333333, 63249.95383333332, 63281.632499999985, 62854.817999999985, 63113.043166666685, 63115.054000000026, 63135.3625, 63386.35316666667, 63418.74966666666, 63353.27216666666, 63273.87366666664, 63503.846000000005, 63846.28050000001, 64335.70766666665, 64449.40866666668, 64496.22066666665, 64379.10250000002, 63697.90249999999, 63985.46366666666, 64483.33116666666, 64219.57500000002, 64123.87466666665, 63192.552500000005, 62998.33466666669, 63329.42949999999, 63141.189499999986, 62268.08149999998, 61904.91749999999, 62141.369, 62622.80766666666, 62793.86016666667, 62880.14066666666, 63104.98866666667, 62916.77949999999, 62704.34333333333, 63013.93183333333, 63237.49266666667, 62960.62616666665, 63081.551666666666, 62979.951333333316, 62779.30966666666, 62680.77666666665, 62476.86966666668, 62309.079666666665, 62620.67033333333, 62915.249, 62840.23516666667, 62653.41483333336, 62765.706166666656, 62567.85433333333, 62715.17683333333, 63192.09566666666, 63450.296166666674, 63481.15133333335, 63421.60066666665, 63269.454500000014, 63401.798833333334, 63211.087999999996, 63059.95133333331, 63036.327, 62448.611500000006, 61941.723000000005, 61440.55350000002, 61466.30666666668, 61479.531833333334, 60847.90683333332, 60699.22, 60557.204333333335, 60831.1775, 60945.469833333314, 61277.212666666666, 61531.85133333333, 61637.44416666666, 61829.91283333333, 61537.03666666667, 61748.47716666668, 61925.58616666666, 62026.54449999999, 61844.278499999986, 61597.798, 61484.54683333334, 61897.33333333334, 62234.41833333335, 62325.97150000001, 62323.560999999994, 62239.075500000006, 62108.47116666668, 62235.940333333325, 62311.0925, 61941.53749999998, 61675.54899999998, 61172.97933333335, 60914.861999999994, 60996.979999999996, 60990.906500000005, 60471.304, 60521.52183333335, 60463.56966666667, 60341.04116666667, 60727.10516666669, 60787.276333333364, 60858.33133333332, 60741.17516666664, 60450.74716666666, 59924.61137931035, 59477.947, 59071.31333333329, 55974.14216666666, 55572.802500000005, 55638.29900000001, 55971.855666666655, 56331.96833333333, 55963.06866666666, 54851.78450000002, 55059.534833333324, 54390.96416666668, 54446.86216666667, 55181.363500000014, 55495.981500000016, 55315.122666666655, 55759.42733333333, 55358.574, 55362.371333333336, 55749.53533333333, 56111.73866666666, 56128.7645, 56519.56516666665, 56452.811166666674, 56372.8705, 56999.971499999985, 57001.958666666666, 57081.59883333334, 57071.97483333332, 56810.57333333333, 56904.02266666666, 57366.99400000001, 57158.63399999999, 56927.18383333332, 56501.57416666664, 56981.183500000014, 56959.60016666667, 56535.78483333333, 55919.833833333345, 55019.06083333333, 55111.763499999994, 55274.240333333335, 55681.03766666668, 55809.29216666666, 56140.11016666666, 56224.218166666666, 56142.364666666675, 55857.38449999997, 55676.03333333333]\n",
    "    \n",
    "    user_text = event['body']\n",
    "    \n",
    " \n",
    "    if detect_intent(user_text) =='forecast':\n",
    "        pred_period = get_period(user_text)\n",
    "        pred_data = test_series[-pred_period:]\n",
    "\n",
    "        response = runtime.invoke_endpoint(EndpointName = 'deepar-forecast', # The name of the endpoint we created\n",
    "                                      ContentType = 'application/json',    # The data format that is expected\n",
    "                                      Body = json.dumps({\"instances\": \n",
    "                                          [{\n",
    "                                              \"start\": \"2021-04-20 01:00:00\", # This is a required field per the documentation\n",
    "                                              \"target\": list(pred_data) # This is the guidance for the predictions\n",
    "                                          }]\n",
    "                                          })\n",
    "                                          )\n",
    "        # The response is an HTTP response whose body contains the result of our inference\n",
    "        result = response['Body'].read().decode('utf-8')\n",
    "       \n",
    "        result = json.loads(result)['predictions'][0][\"mean\"]\n",
    "        \n",
    "        return {\n",
    "        'statusCode' : 200,\n",
    "        'headers' : { 'Content-Type' : 'application/json', 'Access-Control-Allow-Origin' : '*'},\n",
    "        'body' : json.dumps({'Response':result[-pred_period:], 'Response Type': 'prediction'})\n",
    "        }\n",
    "        \n",
    "    else:\n",
    "        pred_data = user_text\n",
    "        response = runtime.invoke_endpoint(EndpointName = 'Huggingface-endpoint', # The name of the endpoint we created\n",
    "                                      ContentType = 'application/json',                     # The data format that is expected\n",
    "                                      Body = json.dumps({'inputs':pred_data}))\n",
    "        \n",
    "        r = response['Body'].read().decode('utf-8')\n",
    "        result = list(json.loads(r)[0].values())\n",
    "        \n",
    "        \n",
    "        return {\n",
    "        'statusCode' : 200,\n",
    "        'headers' : { 'Content-Type' : 'application/json', 'Access-Control-Allow-Origin' : '*' },\n",
    "        'body' : json.dumps({'Response':' '.join(result[0].split(' ')), 'Response Type': 'query'})\n",
    "        }\n",
    "        \n",
    "```"
   ]
  },
  {
   "cell_type": "markdown",
   "metadata": {},
   "source": [
    "**Next step is to create the API Gateway to serve the model to any application over the internet**"
   ]
  },
  {
   "cell_type": "code",
   "execution_count": null,
   "metadata": {},
   "outputs": [],
   "source": []
  }
 ],
 "metadata": {
  "kernelspec": {
   "display_name": "conda_pytorch_p36",
   "language": "python",
   "name": "conda_pytorch_p36"
  },
  "language_info": {
   "codemirror_mode": {
    "name": "ipython",
    "version": 3
   },
   "file_extension": ".py",
   "mimetype": "text/x-python",
   "name": "python",
   "nbconvert_exporter": "python",
   "pygments_lexer": "ipython3",
   "version": "3.6.13"
  }
 },
 "nbformat": 4,
 "nbformat_minor": 4
}
